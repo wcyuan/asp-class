{
 "metadata": {
  "name": ""
 },
 "nbformat": 3,
 "nbformat_minor": 0,
 "worksheets": [
  {
   "cells": [
    {
     "cell_type": "code",
     "collapsed": false,
     "input": [
      "def comb(N, k):\n",
      "    if k <= 1:\n",
      "        return [[r] for r in range(1, N+1)]\n",
      "    if N <= k:\n",
      "        return [range(1, N+1)]\n",
      "    return comb(N-1, k) + [s+[N] for s in comb(N-1, k-1)]"
     ],
     "language": "python",
     "metadata": {},
     "outputs": [],
     "prompt_number": 4
    },
    {
     "cell_type": "code",
     "collapsed": false,
     "input": [
      "comb(4, 2)"
     ],
     "language": "python",
     "metadata": {},
     "outputs": [
      {
       "metadata": {},
       "output_type": "pyout",
       "prompt_number": 5,
       "text": [
        "[[1, 2], [1, 3], [2, 3], [1, 4], [2, 4], [3, 4]]"
       ]
      }
     ],
     "prompt_number": 5
    },
    {
     "cell_type": "code",
     "collapsed": false,
     "input": [
      "comb(3, 1)"
     ],
     "language": "python",
     "metadata": {},
     "outputs": [
      {
       "metadata": {},
       "output_type": "pyout",
       "prompt_number": 6,
       "text": [
        "[[1], [2], [3]]"
       ]
      }
     ],
     "prompt_number": 6
    },
    {
     "cell_type": "code",
     "collapsed": false,
     "input": [
      "comb(5, 3)"
     ],
     "language": "python",
     "metadata": {},
     "outputs": [
      {
       "metadata": {},
       "output_type": "pyout",
       "prompt_number": 8,
       "text": [
        "[[1, 2, 3],\n",
        " [1, 2, 4],\n",
        " [1, 3, 4],\n",
        " [2, 3, 4],\n",
        " [1, 2, 5],\n",
        " [1, 3, 5],\n",
        " [2, 3, 5],\n",
        " [1, 4, 5],\n",
        " [2, 4, 5],\n",
        " [3, 4, 5]]"
       ]
      }
     ],
     "prompt_number": 8
    },
    {
     "cell_type": "code",
     "collapsed": false,
     "input": [],
     "language": "python",
     "metadata": {},
     "outputs": []
    }
   ],
   "metadata": {}
  }
 ]
}