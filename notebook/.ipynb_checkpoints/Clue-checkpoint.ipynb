{
 "metadata": {
  "name": ""
 },
 "nbformat": 3,
 "nbformat_minor": 0,
 "worksheets": [
  {
   "cells": [
    {
     "cell_type": "code",
     "collapsed": false,
     "input": [
      "cd /home/ubuntu/Scripts/random"
     ],
     "language": "python",
     "metadata": {},
     "outputs": [
      {
       "output_type": "stream",
       "stream": "stdout",
       "text": [
        "/home/ubuntu/Scripts/random\n"
       ]
      }
     ],
     "prompt_number": 3
    },
    {
     "cell_type": "code",
     "collapsed": false,
     "input": [
      "import clue\n",
      "reload(clue)"
     ],
     "language": "python",
     "metadata": {},
     "outputs": [
      {
       "metadata": {},
       "output_type": "pyout",
       "prompt_number": 19,
       "text": [
        "<module 'clue' from 'clue.py'>"
       ]
      }
     ],
     "prompt_number": 19
    },
    {
     "cell_type": "code",
     "collapsed": false,
     "input": [
      "print clue.ROOMS\n",
      "print clue.WEAPONS\n",
      "print clue.SUSPECTS"
     ],
     "language": "python",
     "metadata": {},
     "outputs": [
      {
       "output_type": "stream",
       "stream": "stdout",
       "text": [
        "('Kitchen', 'Ballroom', 'Conservatory', 'Dining Room', 'Billiard Room', 'Library', 'Lounge', 'Hall', 'Study')\n",
        "('Candlestick', 'Knife', 'Lead Pipe', 'Revolver', 'Rope', 'Wrench')\n",
        "('Miss Scarlett', 'Professor Plum', 'Mrs. Peacock', 'Mr. Green', 'Colonel Mustard', 'Mrs. White')\n"
       ]
      }
     ],
     "prompt_number": 23
    },
    {
     "cell_type": "code",
     "collapsed": false,
     "input": [
      "clue.play_game()"
     ],
     "language": "python",
     "metadata": {},
     "outputs": [
      {
       "output_type": "stream",
       "stream": "stdout",
       "text": [
        "Suspects: ['Mr. Green']\n",
        "Weapons: ['Candlestick']\n",
        "Rooms: ['Ballroom', 'Dining Room', 'Library']\n",
        "Guess -- \n"
       ]
      },
      {
       "name": "stdout",
       "output_type": "stream",
       "stream": "stdout",
       "text": [
        "Enter Suspect: Miss Scarlett\n"
       ]
      },
      {
       "name": "stdout",
       "output_type": "stream",
       "stream": "stdout",
       "text": [
        "Enter Weapon: Knife\n"
       ]
      },
      {
       "name": "stdout",
       "output_type": "stream",
       "stream": "stdout",
       "text": [
        "Enter Room: Kitchen\n"
       ]
      },
      {
       "output_type": "stream",
       "stream": "stdout",
       "text": [
        "Player 2 has card Kitchen\n",
        "Suspects: ['Mr. Green']\n",
        "Weapons: ['Candlestick']\n",
        "Rooms: ['Ballroom', 'Dining Room', 'Library']\n",
        "Guess -- \n"
       ]
      },
      {
       "name": "stdout",
       "output_type": "stream",
       "stream": "stdout",
       "text": [
        "Enter Suspect: Miss Scarlett\n"
       ]
      },
      {
       "name": "stdout",
       "output_type": "stream",
       "stream": "stdout",
       "text": [
        "Enter Weapon: Knife\n"
       ]
      },
      {
       "name": "stdout",
       "output_type": "stream",
       "stream": "stdout",
       "text": [
        "Enter Room: Conservatory\n"
       ]
      },
      {
       "output_type": "stream",
       "stream": "stdout",
       "text": [
        "Player 1 has card Miss Scarlett\n",
        "Suspects: ['Mr. Green']\n",
        "Weapons: ['Candlestick']\n",
        "Rooms: ['Ballroom', 'Dining Room', 'Library']\n",
        "Guess -- \n"
       ]
      },
      {
       "name": "stdout",
       "output_type": "stream",
       "stream": "stdout",
       "text": [
        "Enter Suspect: Professor Plum\n"
       ]
      },
      {
       "name": "stdout",
       "output_type": "stream",
       "stream": "stdout",
       "text": [
        "Enter Weapon: Knife\n"
       ]
      },
      {
       "name": "stdout",
       "output_type": "stream",
       "stream": "stdout",
       "text": [
        "Enter Room: Conservatory\n"
       ]
      },
      {
       "output_type": "stream",
       "stream": "stdout",
       "text": [
        "Player 3 has card Knife\n",
        "Suspects: ['Mr. Green']\n",
        "Weapons: ['Candlestick']\n",
        "Rooms: ['Ballroom', 'Dining Room', 'Library']\n",
        "Guess -- \n"
       ]
      },
      {
       "name": "stdout",
       "output_type": "stream",
       "stream": "stdout",
       "text": [
        "Enter Suspect: Professor Plum\n"
       ]
      },
      {
       "name": "stdout",
       "output_type": "stream",
       "stream": "stdout",
       "text": [
        "Enter Weapon: Lead Pipe\n"
       ]
      },
      {
       "name": "stdout",
       "output_type": "stream",
       "stream": "stdout",
       "text": [
        "Enter Room: Conservatory\n"
       ]
      },
      {
       "output_type": "stream",
       "stream": "stdout",
       "text": [
        "Player 2 has card Professor Plum\n",
        "Suspects: ['Mr. Green']\n",
        "Weapons: ['Candlestick']\n",
        "Rooms: ['Ballroom', 'Dining Room', 'Library']\n",
        "Guess -- \n"
       ]
      },
      {
       "name": "stdout",
       "output_type": "stream",
       "stream": "stdout",
       "text": [
        "Enter Suspect: Mrs. Peacock\n"
       ]
      },
      {
       "name": "stdout",
       "output_type": "stream",
       "stream": "stdout",
       "text": [
        "Enter Weapon: Lead Pipe\n"
       ]
      },
      {
       "name": "stdout",
       "output_type": "stream",
       "stream": "stdout",
       "text": [
        "Enter Room: Conservatory\n"
       ]
      },
      {
       "output_type": "stream",
       "stream": "stdout",
       "text": [
        "Player 2 has card Conservatory\n",
        "Suspects: ['Mr. Green']\n",
        "Weapons: ['Candlestick']\n",
        "Rooms: ['Ballroom', 'Dining Room', 'Library']\n",
        "Guess -- \n"
       ]
      },
      {
       "name": "stdout",
       "output_type": "stream",
       "stream": "stdout",
       "text": [
        "Enter Suspect: Mrs. Peacock\n"
       ]
      },
      {
       "name": "stdout",
       "output_type": "stream",
       "stream": "stdout",
       "text": [
        "Enter Weapon: Lead Pipe\n"
       ]
      },
      {
       "name": "stdout",
       "output_type": "stream",
       "stream": "stdout",
       "text": [
        "Enter Room: Billiard Room\n"
       ]
      },
      {
       "output_type": "stream",
       "stream": "stdout",
       "text": [
        "Player 1 has card Billiard Room\n",
        "Suspects: ['Mr. Green']\n",
        "Weapons: ['Candlestick']\n",
        "Rooms: ['Ballroom', 'Dining Room', 'Library']\n",
        "Guess -- \n"
       ]
      },
      {
       "name": "stdout",
       "output_type": "stream",
       "stream": "stdout",
       "text": [
        "Enter Suspect: Mrs. Peacock\n"
       ]
      },
      {
       "name": "stdout",
       "output_type": "stream",
       "stream": "stdout",
       "text": [
        "Enter Weapon: Lead Pipe\n"
       ]
      },
      {
       "name": "stdout",
       "output_type": "stream",
       "stream": "stdout",
       "text": [
        "Enter Room: Lounge\n"
       ]
      },
      {
       "output_type": "stream",
       "stream": "stdout",
       "text": [
        "Player 3 has card Lounge\n",
        "Suspects: ['Mr. Green']\n",
        "Weapons: ['Candlestick']\n",
        "Rooms: ['Ballroom', 'Dining Room', 'Library']\n",
        "Guess -- \n"
       ]
      },
      {
       "name": "stdout",
       "output_type": "stream",
       "stream": "stdout",
       "text": [
        "Enter Suspect: Mrs. Peacock\n"
       ]
      },
      {
       "name": "stdout",
       "output_type": "stream",
       "stream": "stdout",
       "text": [
        "Enter Weapon: Lead Pipe\n"
       ]
      },
      {
       "name": "stdout",
       "output_type": "stream",
       "stream": "stdout",
       "text": [
        "Enter Room: Hall\n"
       ]
      },
      {
       "output_type": "stream",
       "stream": "stdout",
       "text": [
        "Player 1 has card Lead Pipe\n",
        "Suspects: ['Mr. Green']\n",
        "Weapons: ['Candlestick']\n",
        "Rooms: ['Ballroom', 'Dining Room', 'Library']\n",
        "Guess -- \n"
       ]
      },
      {
       "name": "stdout",
       "output_type": "stream",
       "stream": "stdout",
       "text": [
        "Enter Suspect: Mrs. Peacock\n"
       ]
      },
      {
       "name": "stdout",
       "output_type": "stream",
       "stream": "stdout",
       "text": [
        "Enter Weapon: Revolver\n"
       ]
      },
      {
       "name": "stdout",
       "output_type": "stream",
       "stream": "stdout",
       "text": [
        "Enter Room: Lounge\n"
       ]
      },
      {
       "output_type": "stream",
       "stream": "stdout",
       "text": [
        "Player 1 has card Revolver\n",
        "Suspects: ['Mr. Green']\n",
        "Weapons: ['Candlestick']\n",
        "Rooms: ['Ballroom', 'Dining Room', 'Library']\n",
        "Guess -- \n"
       ]
      },
      {
       "name": "stdout",
       "output_type": "stream",
       "stream": "stdout",
       "text": [
        "Enter Suspect: Mrs. Peacock\n"
       ]
      },
      {
       "name": "stdout",
       "output_type": "stream",
       "stream": "stdout",
       "text": [
        "Enter Weapon: Rope\n"
       ]
      },
      {
       "name": "stdout",
       "output_type": "stream",
       "stream": "stdout",
       "text": [
        "Enter Room: Lounge\n"
       ]
      },
      {
       "output_type": "stream",
       "stream": "stdout",
       "text": [
        "Player 3 has card Rope\n",
        "Suspects: ['Mr. Green']\n",
        "Weapons: ['Candlestick']\n",
        "Rooms: ['Ballroom', 'Dining Room', 'Library']\n",
        "Guess -- \n"
       ]
      },
      {
       "name": "stdout",
       "output_type": "stream",
       "stream": "stdout",
       "text": [
        "Enter Suspect: Mrs. Peacock\n"
       ]
      },
      {
       "name": "stdout",
       "output_type": "stream",
       "stream": "stdout",
       "text": [
        "Enter Weapon: Wrench\n"
       ]
      },
      {
       "name": "stdout",
       "output_type": "stream",
       "stream": "stdout",
       "text": [
        "Enter Room: Lounge\n"
       ]
      },
      {
       "output_type": "stream",
       "stream": "stdout",
       "text": [
        "Player 3 has card Lounge\n",
        "Suspects: ['Mr. Green']\n",
        "Weapons: ['Candlestick']\n",
        "Rooms: ['Ballroom', 'Dining Room', 'Library']\n",
        "Guess -- \n"
       ]
      },
      {
       "name": "stdout",
       "output_type": "stream",
       "stream": "stdout",
       "text": [
        "Enter Suspect: Mrs. Peacock\n"
       ]
      },
      {
       "name": "stdout",
       "output_type": "stream",
       "stream": "stdout",
       "text": [
        "Enter Weapon: Wrench\n"
       ]
      },
      {
       "name": "stdout",
       "output_type": "stream",
       "stream": "stdout",
       "text": [
        "Enter Room: Study\n"
       ]
      },
      {
       "output_type": "stream",
       "stream": "stdout",
       "text": [
        "You got it!\n"
       ]
      }
     ],
     "prompt_number": 24
    },
    {
     "cell_type": "code",
     "collapsed": false,
     "input": [
      "clue.deal()"
     ],
     "language": "python",
     "metadata": {},
     "outputs": [
      {
       "metadata": {},
       "output_type": "pyout",
       "prompt_number": 20,
       "text": [
        "(('Miss Scarlett', 'Revolver', 'Library'),\n",
        " (['Ballroom', 'Hall', 'Wrench', 'Lead Pipe', 'Kitchen'],\n",
        "  ['Professor Plum',\n",
        "   'Colonel Mustard',\n",
        "   'Dining Room',\n",
        "   'Billiard Room',\n",
        "   'Lounge'],\n",
        "  ['Conservatory', 'Mrs. White', 'Mrs. Peacock', 'Study'],\n",
        "  ['Mr. Green', 'Knife', 'Candlestick', 'Rope']))"
       ]
      }
     ],
     "prompt_number": 20
    },
    {
     "cell_type": "code",
     "collapsed": false,
     "input": [],
     "language": "python",
     "metadata": {},
     "outputs": []
    }
   ],
   "metadata": {}
  }
 ]
}