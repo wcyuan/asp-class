{
 "metadata": {
  "name": ""
 },
 "nbformat": 3,
 "nbformat_minor": 0,
 "worksheets": [
  {
   "cells": [
    {
     "cell_type": "code",
     "collapsed": false,
     "input": [
      "cd /home/ubuntu/asp-class/workspace/A5"
     ],
     "language": "python",
     "metadata": {},
     "outputs": [
      {
       "output_type": "stream",
       "stream": "stdout",
       "text": [
        "/home/ubuntu/asp-class/workspace/A5\n"
       ]
      }
     ],
     "prompt_number": 1
    },
    {
     "cell_type": "code",
     "collapsed": false,
     "input": [
      "import sys\n",
      "sys.path.append('/home/ubuntu/sms-tools/software/models/')"
     ],
     "language": "python",
     "metadata": {},
     "outputs": [],
     "prompt_number": 2
    },
    {
     "cell_type": "code",
     "collapsed": false,
     "input": [
      "from __future__ import division\n",
      "from scipy.signal import get_window\n",
      "from scipy.fftpack import fft\n"
     ],
     "language": "python",
     "metadata": {},
     "outputs": [],
     "prompt_number": 3
    },
    {
     "cell_type": "code",
     "collapsed": false,
     "input": [
      "import utilFunctions as UF\n",
      "import stft\n",
      "import dftModel as DFT\n"
     ],
     "language": "python",
     "metadata": {},
     "outputs": [],
     "prompt_number": 4
    },
    {
     "cell_type": "code",
     "collapsed": false,
     "input": [
      "import A5Part1\n",
      "reload(A5Part1)"
     ],
     "language": "python",
     "metadata": {},
     "outputs": [
      {
       "metadata": {},
       "output_type": "pyout",
       "prompt_number": 60,
       "text": [
        "<module 'A5Part1' from 'A5Part1.py'>"
       ]
      }
     ],
     "prompt_number": 60
    },
    {
     "cell_type": "code",
     "collapsed": false,
     "input": [
      "UF.peakDetection?"
     ],
     "language": "python",
     "metadata": {},
     "outputs": [],
     "prompt_number": 11
    },
    {
     "cell_type": "code",
     "collapsed": false,
     "input": [
      "UF.peakInterp?"
     ],
     "language": "python",
     "metadata": {},
     "outputs": [],
     "prompt_number": 12
    },
    {
     "cell_type": "code",
     "collapsed": false,
     "input": [
      "inputFile = '/home/ubuntu/sms-tools/sounds/sine-440.wav'\n",
      "f = 440\n",
      "t = -40"
     ],
     "language": "python",
     "metadata": {},
     "outputs": [],
     "prompt_number": 60
    },
    {
     "cell_type": "code",
     "collapsed": false,
     "input": [
      "(fs, x) = UF.wavread(inputFile)\n",
      "window = 'blackman'\n",
      "magThreshold = -40 # dB                                                                                                                                                                                      \n",
      "start_time = 0.5"
     ],
     "language": "python",
     "metadata": {},
     "outputs": [],
     "prompt_number": 19
    },
    {
     "cell_type": "code",
     "collapsed": false,
     "input": [
      "start_sample = start_time * fs\n",
      "\n",
      "def min_power_2(M):\n",
      "    N = 1\n",
      "    while N < M:\n",
      "        N *= 2\n",
      "    return N"
     ],
     "language": "python",
     "metadata": {},
     "outputs": [],
     "prompt_number": 15
    },
    {
     "cell_type": "code",
     "collapsed": false,
     "input": [
      "M = 201\n",
      "fftsize = min_power_2(M)\n",
      "x1 = x[int(start_sample-M/2):int(start_sample+M/2)]\n",
      "w = get_window(window, M)\n",
      "mX, pX = DFT.dftAnal(x1, w, fftsize)\n",
      "ploc = UF.peakDetection(mX, t)\n",
      "iploc, ipmag, ipphase = UF.peakInterp(mX, pX, ploc)\n",
      "iploc * fs / fftsize"
     ],
     "language": "python",
     "metadata": {},
     "outputs": [
      {
       "metadata": {},
       "output_type": "pyout",
       "prompt_number": 49,
       "text": [
        "array([ 440.26604335])"
       ]
      }
     ],
     "prompt_number": 49
    },
    {
     "cell_type": "code",
     "collapsed": false,
     "input": [
      "plot(mX)"
     ],
     "language": "python",
     "metadata": {},
     "outputs": [
      {
       "metadata": {},
       "output_type": "pyout",
       "prompt_number": 44,
       "text": [
        "[<matplotlib.lines.Line2D at 0xb0094f4c>]"
       ]
      },
      {
       "metadata": {},
       "output_type": "display_data",
       "png": "[encoded data removed]",
       "text": [
        "<matplotlib.figure.Figure at 0xb00d7aec>"
       ]
      }
     ],
     "prompt_number": 44
    },
    {
     "cell_type": "code",
     "collapsed": false,
     "input": [
      "A5Part1.minFreqEstErr(inputFile, 440)"
     ],
     "language": "python",
     "metadata": {},
     "outputs": [
      {
       "metadata": {},
       "output_type": "pyout",
       "prompt_number": 59,
       "text": [
        "(440.02275492028997, 1101, 2048)"
       ]
      }
     ],
     "prompt_number": 59
    },
    {
     "cell_type": "code",
     "collapsed": false,
     "input": [
      "A5Part1.find_best_window_for_all_freq(verbose=True)"
     ],
     "language": "python",
     "metadata": {},
     "outputs": [
      {
       "output_type": "stream",
       "stream": "stdout",
       "text": [
        "f=100 M=101 N=128 fEst=[] error=[]\n",
        "f=100 M=201 N=256 fEst=[] error=[]\n",
        "f=100 M=301 N=512 fEst=[] error=[]\n",
        "f=100 M=401 N=512 fEst=[] error=[]\n",
        "f=100 M=501 N=512 fEst=[ 50.01445913] error=[ 49.98554087]\n",
        "f=100 M=601 N=1024 fEst=[ 94.16783848] error=[ 5.83216152]\n",
        "f=100 M=701 N=1024 fEst=[ 99.18861033] error=[ 0.81138967]\n",
        "f=100 M=801 N=1024 fEst=[ 99.90581046] error=[ 0.09418954]\n",
        "f=100 M=901 N=1024 fEst=[ 100.13424735] error=[-0.13424735]"
       ]
      },
      {
       "output_type": "stream",
       "stream": "stdout",
       "text": [
        "\n",
        "f=100 M=1001 N=1024 fEst=[ 100.29801014] error=[-0.29801014]\n",
        "f=100 M=1101 N=2048 fEst=[ 100.05325638] error=[-0.05325638]\n",
        "f=100 M=1201 N=2048 fEst=[ 99.96992775] error=[ 0.03007225]\n",
        "f=101 M=1201 N=2048 fEst=[ 100.95695891] error=[ 0.04304109]\n",
        "f=102 M=1201 N=2048 fEst=[ 101.94852509] error=[ 0.05147491]\n",
        "f=100 M=1301 N=2048 fEst=[ 99.90730118] error=[ 0.09269882]\n",
        "f=100 M=1401 N=2048 fEst=[ 99.92467245] error=[ 0.07532755]"
       ]
      },
      {
       "output_type": "stream",
       "stream": "stdout",
       "text": [
        "\n",
        "f=100 M=1501 N=2048 fEst=[ 99.95190139] error=[ 0.04809861]\n",
        "f=101 M=1501 N=2048 fEst=[ 100.94688047] error=[ 0.05311953]\n",
        "f=100 M=1601 N=2048 fEst=[ 99.93852202] error=[ 0.06147798]\n",
        "f=100 M=1701 N=2048 fEst=[ 99.90702582] error=[ 0.09297418]\n",
        "f=100 M=1801 N=2048 fEst=[ 99.89126555] error=[ 0.10873445]\n",
        "f=100 M=1901 N=2048 fEst=[ 99.88962218] error=[ 0.11037782]\n",
        "f=100 M=2001 N=2048 fEst=[ 99.88248651] error=[ 0.11751349]"
       ]
      },
      {
       "output_type": "stream",
       "stream": "stdout",
       "text": [
        "\n",
        "f=100 M=2101 N=4096 fEst=[ 100.01636819] error=[-0.01636819]\n",
        "f=101 M=2101 N=4096 fEst=[ 101.01106051] error=[-0.01106051]\n",
        "f=102 M=2101 N=4096 fEst=[ 101.99876357] error=[ 0.00123643]\n",
        "f=103 M=2101 N=4096 fEst=[ 102.98355256] error=[ 0.01644744]\n",
        "f=104 M=2101 N=4096 fEst=[ 103.97655673] error=[ 0.02344327]\n",
        "f=105 M=2101 N=4096 fEst=[ 104.9764285] error=[ 0.0235715]"
       ]
      },
      {
       "output_type": "stream",
       "stream": "stdout",
       "text": [
        "\n",
        "f=106 M=2101 N=4096 fEst=[ 105.98138058] error=[ 0.01861942]\n",
        "f=107 M=2101 N=4096 fEst=[ 106.98961082] error=[ 0.01038918]\n",
        "f=108 M=2101 N=4096 fEst=[ 107.99930465] error=[ 0.00069535]\n",
        "f=109 M=2101 N=4096 fEst=[ 109.0086377] error=[-0.0086377]\n",
        "f=110 M=2101 N=4096 fEst=[ 110.01577859] error=[-0.01577859]\n",
        "f=111 M=2101 N=4096 fEst=[ 111.01889186] error=[-0.01889186]"
       ]
      },
      {
       "output_type": "stream",
       "stream": "stdout",
       "text": [
        "\n",
        "f=112 M=2101 N=4096 fEst=[ 112.01614084] error=[-0.01614084]\n",
        "f=113 M=2101 N=4096 fEst=[ 113.00569057] error=[-0.00569057]\n",
        "f=114 M=2101 N=4096 fEst=[ 113.99327406] error=[ 0.00672594]\n",
        "f=115 M=2101 N=4096 fEst=[ 114.98812739] error=[ 0.01187261]\n",
        "f=116 M=2101 N=4096 fEst=[ 115.98859962] error=[ 0.01140038]\n",
        "f=117 M=2101 N=4096 fEst=[ 116.99299183] error=[ 0.00700817]"
       ]
      },
      {
       "output_type": "stream",
       "stream": "stdout",
       "text": [
        "\n",
        "f=118 M=2101 N=4096 fEst=[ 117.99961676] error=[ 0.00038324]\n",
        "f=119 M=2101 N=4096 fEst=[ 119.00679621] error=[-0.00679621]\n",
        "f=120 M=2101 N=4096 fEst=[ 120.01285841] error=[-0.01285841]\n",
        "f=121 M=2101 N=4096 fEst=[ 121.01613524] error=[-0.01613524]\n",
        "f=122 M=2101 N=4096 fEst=[ 122.01495949] error=[-0.01495949]\n",
        "f=123 M=2101 N=4096 fEst=[ 123.00766205] error=[-0.00766205]"
       ]
      },
      {
       "output_type": "stream",
       "stream": "stdout",
       "text": [
        "\n",
        "f=124 M=2101 N=4096 fEst=[ 123.99301359] error=[ 0.00698641]\n",
        "f=125 M=2101 N=4096 fEst=[ 124.9820127] error=[ 0.0179873]\n",
        "f=126 M=2101 N=4096 fEst=[ 125.97860704] error=[ 0.02139296]\n",
        "f=127 M=2101 N=4096 fEst=[ 126.9810269] error=[ 0.0189731]\n",
        "f=128 M=2101 N=4096 fEst=[ 127.98749448] error=[ 0.01250552]\n",
        "f=129 M=2101 N=4096 fEst=[ 128.99622518] error=[ 0.00377482]"
       ]
      },
      {
       "output_type": "stream",
       "stream": "stdout",
       "text": [
        "\n",
        "f=130 M=2101 N=4096 fEst=[ 130.005429] error=[-0.005429]\n",
        "f=131 M=2101 N=4096 fEst=[ 131.0133121] error=[-0.0133121]\n",
        "f=132 M=2101 N=4096 fEst=[ 132.01807837] error=[-0.01807837]\n",
        "f=133 M=2101 N=4096 fEst=[ 133.01793095] error=[-0.01793095]\n",
        "f=134 M=2101 N=4096 fEst=[ 134.01107389] error=[-0.01107389]\n",
        "f=135 M=2101 N=4096 fEst=[ 134.99710726] error=[ 0.00289274]"
       ]
      },
      {
       "output_type": "stream",
       "stream": "stdout",
       "text": [
        "\n",
        "f=136 M=2101 N=4096 fEst=[ 135.9880594] error=[ 0.0119406]\n",
        "f=137 M=2101 N=4096 fEst=[ 136.98569608] error=[ 0.01430392]\n",
        "f=138 M=2101 N=4096 fEst=[ 137.98830249] error=[ 0.01169751]\n",
        "f=139 M=2101 N=4096 fEst=[ 138.99417136] error=[ 0.00582864]\n",
        "f=140 M=2101 N=4096 fEst=[ 140.00160126] error=[-0.00160126]\n",
        "f=141 M=2101 N=4096 fEst=[ 141.00889484] error=[-0.00889484]"
       ]
      },
      {
       "output_type": "stream",
       "stream": "stdout",
       "text": [
        "\n",
        "f=142 M=2101 N=4096 fEst=[ 142.01435693] error=[-0.01435693]\n",
        "f=143 M=2101 N=4096 fEst=[ 143.01629272] error=[-0.01629272]\n",
        "f=144 M=2101 N=4096 fEst=[ 144.01300592] error=[-0.01300592]\n",
        "f=145 M=2101 N=4096 fEst=[ 145.00279693] error=[-0.00279693]\n",
        "f=146 M=2101 N=4096 fEst=[ 145.98823091] error=[ 0.01176909]\n",
        "f=147 M=2101 N=4096 fEst=[ 146.98109853] error=[ 0.01890147]"
       ]
      },
      {
       "output_type": "stream",
       "stream": "stdout",
       "text": [
        "\n",
        "f=148 M=2101 N=4096 fEst=[ 147.98062504] error=[ 0.01937496]\n",
        "f=149 M=2101 N=4096 fEst=[ 148.98504479] error=[ 0.01495521]\n",
        "f=150 M=2101 N=4096 fEst=[ 149.99258838] error=[ 0.00741162]\n",
        "f=151 M=2101 N=4096 fEst=[ 151.0014835] error=[-0.0014835]\n",
        "f=152 M=2101 N=4096 fEst=[ 152.00995575] error=[-0.00995575]\n",
        "f=153 M=2101 N=4096 fEst=[ 153.01622956] error=[-0.01622956]"
       ]
      },
      {
       "output_type": "stream",
       "stream": "stdout",
       "text": [
        "\n",
        "f=154 M=2101 N=4096 fEst=[ 154.01852903] error=[-0.01852903]\n",
        "f=155 M=2101 N=4096 fEst=[ 155.01507887] error=[-0.01507887]\n",
        "f=156 M=2101 N=4096 fEst=[ 156.00410515] error=[-0.00410515]\n",
        "f=157 M=2101 N=4096 fEst=[ 156.9908298] error=[ 0.0091702]\n",
        "f=158 M=2101 N=4096 fEst=[ 157.98507544] error=[ 0.01492456]\n",
        "f=159 M=2101 N=4096 fEst=[ 158.98528563] error=[ 0.01471437]"
       ]
      },
      {
       "output_type": "stream",
       "stream": "stdout",
       "text": [
        "\n",
        "f=160 M=2101 N=4096 fEst=[ 159.98974197] error=[ 0.01025803]\n",
        "f=161 M=2101 N=4096 fEst=[ 160.99673019] error=[ 0.00326981]\n",
        "f=162 M=2101 N=4096 fEst=[ 162.0045388] error=[-0.0045388]\n",
        "f=163 M=2101 N=4096 fEst=[ 163.01145779] error=[-0.01145779]\n",
        "f=164 M=2101 N=4096 fEst=[ 164.01577726] error=[-0.01577726]\n",
        "f=165 M=2101 N=4096 fEst=[ 165.01578608] error=[-0.01578608]"
       ]
      },
      {
       "output_type": "stream",
       "stream": "stdout",
       "text": [
        "\n",
        "f=166 M=2101 N=4096 fEst=[ 166.00977062] error=[-0.00977062]\n",
        "f=167 M=2101 N=4096 fEst=[ 166.99617885] error=[ 0.00382115]\n",
        "f=168 M=2101 N=4096 fEst=[ 167.98484419] error=[ 0.01515581]\n",
        "f=169 M=2101 N=4096 fEst=[ 168.98104317] error=[ 0.01895683]\n",
        "f=170 M=2101 N=4096 fEst=[ 169.98301674] error=[ 0.01698326]\n",
        "f=171 M=2101 N=4096 fEst=[ 170.98900396] error=[ 0.01099604]"
       ]
      },
      {
       "output_type": "stream",
       "stream": "stdout",
       "text": [
        "\n",
        "f=172 M=2101 N=4096 fEst=[ 171.99724242] error=[ 0.00275758]\n",
        "f=173 M=2101 N=4096 fEst=[ 173.00596874] error=[-0.00596874]\n",
        "f=174 M=2101 N=4096 fEst=[ 174.01341907] error=[-0.01341907]\n",
        "f=175 M=2101 N=4096 fEst=[ 175.01782955] error=[-0.01782955]\n",
        "f=176 M=2101 N=4096 fEst=[ 176.01743683] error=[-0.01743683]\n",
        "f=177 M=2101 N=4096 fEst=[ 177.01047847] error=[-0.01047847]"
       ]
      },
      {
       "output_type": "stream",
       "stream": "stdout",
       "text": [
        "\n",
        "f=178 M=2101 N=4096 fEst=[ 177.99625765] error=[ 0.00374235]\n",
        "f=179 M=2101 N=4096 fEst=[ 178.98658814] error=[ 0.01341186]\n",
        "f=180 M=2101 N=4096 fEst=[ 179.98385108] error=[ 0.01614892]\n",
        "f=181 M=2101 N=4096 fEst=[ 180.98632114] error=[ 0.01367886]\n",
        "f=182 M=2101 N=4096 fEst=[ 181.99227619] error=[ 0.00772381]\n",
        "f=183 M=2101 N=4096 fEst=[ 182.99999619] error=[  3.80584873e-06]"
       ]
      },
      {
       "output_type": "stream",
       "stream": "stdout",
       "text": [
        "\n",
        "f=184 M=2101 N=4096 fEst=[ 184.00776225] error=[-0.00776225]\n",
        "f=185 M=2101 N=4096 fEst=[ 185.01385548] error=[-0.01385548]\n",
        "f=186 M=2101 N=4096 fEst=[ 186.01655606] error=[-0.01655606]\n",
        "f=187 M=2101 N=4096 fEst=[ 187.01414216] error=[-0.01414216]\n",
        "f=188 M=2101 N=4096 fEst=[ 188.00488901] error=[-0.00488901]\n",
        "f=189 M=2101 N=4096 fEst=[ 188.99039456] error=[ 0.00960544]"
       ]
      },
      {
       "output_type": "stream",
       "stream": "stdout",
       "text": [
        "\n",
        "f=190 M=2101 N=4096 fEst=[ 189.9828018] error=[ 0.0171982]\n",
        "f=191 M=2101 N=4096 fEst=[ 190.9818837] error=[ 0.0181163]\n",
        "f=192 M=2101 N=4096 fEst=[ 191.98588424] error=[ 0.01411576]\n",
        "f=193 M=2101 N=4096 fEst=[ 192.99304692] error=[ 0.00695308]\n",
        "f=194 M=2101 N=4096 fEst=[ 194.00161499] error=[-0.00161499]\n",
        "f=195 M=2101 N=4096 fEst=[ 195.00983171] error=[-0.00983171]"
       ]
      },
      {
       "output_type": "stream",
       "stream": "stdout",
       "text": [
        "\n",
        "f=196 M=2101 N=4096 fEst=[ 196.01594061] error=[-0.01594061]\n",
        "f=197 M=2101 N=4096 fEst=[ 197.0181857] error=[-0.0181857]\n",
        "f=198 M=2101 N=4096 fEst=[ 198.01481169] error=[-0.01481169]\n",
        "f=199 M=2101 N=4096 fEst=[ 199.00406412] error=[-0.00406412]\n",
        "f=200 M=2101 N=4096 fEst=[ 199.99031262] error=[ 0.00968738]\n",
        "f=201 M=2101 N=4096 fEst=[ 200.98410323] error=[ 0.01589677]"
       ]
      },
      {
       "output_type": "stream",
       "stream": "stdout",
       "text": [
        "\n",
        "f=202 M=2101 N=4096 fEst=[ 201.98404988] error=[ 0.01595012]\n",
        "f=203 M=2101 N=4096 fEst=[ 202.98842516] error=[ 0.01157484]\n",
        "f=204 M=2101 N=4096 fEst=[ 203.99550346] error=[ 0.00449654]\n",
        "f=205 M=2101 N=4096 fEst=[ 205.00356012] error=[-0.00356012]\n",
        "f=206 M=2101 N=4096 fEst=[ 206.01087059] error=[-0.01087059]\n",
        "f=207 M=2101 N=4096 fEst=[ 207.01570955] error=[-0.01570955]"
       ]
      },
      {
       "output_type": "stream",
       "stream": "stdout",
       "text": [
        "\n",
        "f=208 M=2101 N=4096 fEst=[ 208.01635014] error=[-0.01635014]\n",
        "f=209 M=2101 N=4096 fEst=[ 209.01106318] error=[-0.01106318]\n",
        "f=210 M=2101 N=4096 fEst=[ 209.9981488] error=[ 0.0018512]\n",
        "f=211 M=2101 N=4096 fEst=[ 210.98628611] error=[ 0.01371389]\n",
        "f=212 M=2101 N=4096 fEst=[ 211.98200877] error=[ 0.01799123]\n",
        "f=213 M=2101 N=4096 fEst=[ 212.98356369] error=[ 0.01643631]"
       ]
      },
      {
       "output_type": "stream",
       "stream": "stdout",
       "text": [
        "\n",
        "f=214 M=2101 N=4096 fEst=[ 213.98919797] error=[ 0.01080203]\n",
        "f=215 M=2101 N=4096 fEst=[ 214.99715902] error=[ 0.00284098]\n",
        "f=216 M=2101 N=4096 fEst=[ 216.00569461] error=[-0.00569461]\n",
        "f=217 M=2101 N=4096 fEst=[ 217.01305298] error=[-0.01305298]\n",
        "f=218 M=2101 N=4096 fEst=[ 218.01748294] error=[-0.01748294]\n",
        "f=219 M=2101 N=4096 fEst=[ 219.01723385] error=[-0.01723385]"
       ]
      },
      {
       "output_type": "stream",
       "stream": "stdout",
       "text": [
        "\n",
        "f=220 M=2101 N=4096 fEst=[ 220.01055571] error=[-0.01055571]\n",
        "f=221 M=2101 N=4096 fEst=[ 220.99642145] error=[ 0.00357855]\n",
        "f=222 M=2101 N=4096 fEst=[ 221.98622719] error=[ 0.01377281]\n",
        "f=223 M=2101 N=4096 fEst=[ 222.98313111] error=[ 0.01686889]\n",
        "f=224 M=2101 N=4096 fEst=[ 223.98540201] error=[ 0.01459799]\n",
        "f=225 M=2101 N=4096 fEst=[ 224.99131036] error=[ 0.00868964]"
       ]
      },
      {
       "output_type": "stream",
       "stream": "stdout",
       "text": [
        "\n",
        "f=226 M=2101 N=4096 fEst=[ 225.99912754] error=[ 0.00087246]\n",
        "f=227 M=2101 N=4096 fEst=[ 227.00712512] error=[-0.00712512]\n",
        "f=228 M=2101 N=4096 fEst=[ 228.01357418] error=[-0.01357418]\n",
        "f=229 M=2101 N=4096 fEst=[ 229.0167446] error=[-0.0167446]\n",
        "f=230 M=2101 N=4096 fEst=[ 230.01490437] error=[-0.01490437]\n",
        "f=231 M=2101 N=4096 fEst=[ 231.00631906] error=[-0.00631906]"
       ]
      },
      {
       "output_type": "stream",
       "stream": "stdout",
       "text": [
        "\n",
        "f=232 M=2101 N=4096 fEst=[ 231.99182246] error=[ 0.00817754]\n",
        "f=233 M=2101 N=4096 fEst=[ 232.98370696] error=[ 0.01629304]\n",
        "f=234 M=2101 N=4096 fEst=[ 233.98234258] error=[ 0.01765742]\n",
        "f=235 M=2101 N=4096 fEst=[ 234.98597866] error=[ 0.01402134]\n",
        "f=236 M=2101 N=4096 fEst=[ 235.99286521] error=[ 0.00713479]\n",
        "f=237 M=2101 N=4096 fEst=[ 237.00125294] error=[-0.00125294]"
       ]
      },
      {
       "output_type": "stream",
       "stream": "stdout",
       "text": [
        "\n",
        "f=238 M=2101 N=4096 fEst=[ 238.0093932] error=[-0.0093932]\n",
        "f=239 M=2101 N=4096 fEst=[ 239.01553798] error=[-0.01553798]\n",
        "f=240 M=2101 N=4096 fEst=[ 240.01793983] error=[-0.01793983]\n",
        "f=241 M=2101 N=4096 fEst=[ 241.01485178] error=[-0.01485178]\n",
        "f=242 M=2101 N=4096 fEst=[ 242.00452723] error=[-0.00452723]\n",
        "f=243 M=2101 N=4096 fEst=[ 242.99044499] error=[ 0.00955501]"
       ]
      },
      {
       "output_type": "stream",
       "stream": "stdout",
       "text": [
        "\n",
        "f=244 M=2101 N=4096 fEst=[ 243.9837962] error=[ 0.0162038]\n",
        "f=245 M=2101 N=4096 fEst=[ 244.98344971] error=[ 0.01655029]\n",
        "f=246 M=2101 N=4096 fEst=[ 245.98767302] error=[ 0.01232698]\n",
        "f=247 M=2101 N=4096 fEst=[ 246.99473459] error=[ 0.00526541]\n",
        "f=248 M=2101 N=4096 fEst=[ 248.00290324] error=[-0.00290324]\n",
        "f=249 M=2101 N=4096 fEst=[ 249.01044749] error=[-0.01044749]"
       ]
      },
      {
       "output_type": "stream",
       "stream": "stdout",
       "text": [
        "\n",
        "f=250 M=2101 N=4096 fEst=[ 250.01563499] error=[-0.01563499]\n",
        "f=251 M=2101 N=4096 fEst=[ 251.01673194] error=[-0.01673194]\n",
        "f=252 M=2101 N=4096 fEst=[ 252.01200251] error=[-0.01200251]\n",
        "f=253 M=2101 N=4096 fEst=[ 252.99970838] error=[ 0.00029162]\n",
        "f=254 M=2101 N=4096 fEst=[ 253.98727036] error=[ 0.01272964]\n",
        "f=255 M=2101 N=4096 fEst=[ 254.98250489] error=[ 0.01749511]"
       ]
      },
      {
       "output_type": "stream",
       "stream": "stdout",
       "text": [
        "\n",
        "f=256 M=2101 N=4096 fEst=[ 255.98366347] error=[ 0.01633653]\n",
        "f=257 M=2101 N=4096 fEst=[ 256.98899777] error=[ 0.01100223]\n",
        "f=258 M=2101 N=4096 fEst=[ 257.99676036] error=[ 0.00323964]\n",
        "f=259 M=2101 N=4096 fEst=[ 259.0052047] error=[-0.0052047]\n",
        "f=260 M=2101 N=4096 fEst=[ 260.01258492] error=[-0.01258492]\n",
        "f=261 M=2101 N=4096 fEst=[ 261.01715578] error=[-0.01715578]"
       ]
      },
      {
       "output_type": "stream",
       "stream": "stdout",
       "text": [
        "\n",
        "f=262 M=2101 N=4096 fEst=[ 262.01717248] error=[-0.01717248]\n",
        "f=263 M=2101 N=4096 fEst=[ 263.01089046] error=[-0.01089046]\n",
        "f=264 M=2101 N=4096 fEst=[ 263.99699699] error=[ 0.00300301]\n",
        "f=265 M=2101 N=4096 fEst=[ 264.98629069] error=[ 0.01370931]\n",
        "f=266 M=2101 N=4096 fEst=[ 265.98282024] error=[ 0.01717976]\n",
        "f=267 M=2101 N=4096 fEst=[ 266.98485077] error=[ 0.01514923]"
       ]
      },
      {
       "output_type": "stream",
       "stream": "stdout",
       "text": [
        "\n",
        "f=268 M=2101 N=4096 fEst=[ 267.99064848] error=[ 0.00935152]\n",
        "f=269 M=2101 N=4096 fEst=[ 268.99848006] error=[ 0.00151994]\n",
        "f=270 M=2101 N=4096 fEst=[ 270.00661214] error=[-0.00661214]\n",
        "f=271 M=2101 N=4096 fEst=[ 271.01331078] error=[-0.01331078]\n",
        "f=272 M=2101 N=4096 fEst=[ 272.01684091] error=[-0.01684091]\n",
        "f=273 M=2101 N=4096 fEst=[ 273.01546587] error=[-0.01546587]"
       ]
      },
      {
       "output_type": "stream",
       "stream": "stdout",
       "text": [
        "\n",
        "f=274 M=2101 N=4096 fEst=[ 274.00744691] error=[-0.00744691]\n",
        "f=275 M=2101 N=4096 fEst=[ 274.99297943] error=[ 0.00702057]\n",
        "f=276 M=2101 N=4096 fEst=[ 275.98432625] error=[ 0.01567375]\n",
        "f=277 M=2101 N=4096 fEst=[ 276.98252247] error=[ 0.01747753]\n",
        "f=278 M=2101 N=4096 fEst=[ 277.98582074] error=[ 0.01417926]\n",
        "f=279 M=2101 N=4096 fEst=[ 278.99247481] error=[ 0.00752519]"
       ]
      },
      {
       "output_type": "stream",
       "stream": "stdout",
       "text": [
        "\n",
        "f=280 M=2101 N=4096 fEst=[ 280.00073948] error=[-0.00073948]\n",
        "f=281 M=2101 N=4096 fEst=[ 281.00887038] error=[-0.00887038]\n",
        "f=282 M=2101 N=4096 fEst=[ 282.01512379] error=[-0.01512379]\n",
        "f=283 M=2101 N=4096 fEst=[ 283.01775647] error=[-0.01775647]\n",
        "f=284 M=2101 N=4096 fEst=[ 284.01502539] error=[-0.01502539]\n",
        "f=285 M=2101 N=4096 fEst=[ 285.00518752] error=[-0.00518752]"
       ]
      },
      {
       "output_type": "stream",
       "stream": "stdout",
       "text": [
        "\n",
        "f=286 M=2101 N=4096 fEst=[ 285.99086767] error=[ 0.00913233]\n",
        "f=287 M=2101 N=4096 fEst=[ 286.98377044] error=[ 0.01622956]\n",
        "f=288 M=2101 N=4096 fEst=[ 287.98310476] error=[ 0.01689524]\n",
        "f=289 M=2101 N=4096 fEst=[ 288.98713495] error=[ 0.01286505]\n",
        "f=290 M=2101 N=4096 fEst=[ 289.99412597] error=[ 0.00587403]\n",
        "f=291 M=2101 N=4096 fEst=[ 291.002343] error=[-0.002343]"
       ]
      },
      {
       "output_type": "stream",
       "stream": "stdout",
       "text": [
        "\n",
        "f=292 M=2101 N=4096 fEst=[ 292.01005084] error=[-0.01005084]\n",
        "f=293 M=2101 N=4096 fEst=[ 293.01551353] error=[-0.01551353]\n",
        "f=294 M=2101 N=4096 fEst=[ 294.01699382] error=[-0.01699382]\n",
        "f=295 M=2101 N=4096 fEst=[ 295.0127528] error=[-0.0127528]\n",
        "f=296 M=2101 N=4096 fEst=[ 296.00104945] error=[-0.00104945]\n",
        "f=297 M=2101 N=4096 fEst=[ 296.9880778] error=[ 0.0119222]"
       ]
      },
      {
       "output_type": "stream",
       "stream": "stdout",
       "text": [
        "\n",
        "f=298 M=2101 N=4096 fEst=[ 297.98282336] error=[ 0.01717664]\n",
        "f=299 M=2101 N=4096 fEst=[ 298.98359811] error=[ 0.01640189]\n",
        "f=300 M=2101 N=4096 fEst=[ 299.98865651] error=[ 0.01134349]\n",
        "f=301 M=2101 N=4096 fEst=[ 300.9962542] error=[ 0.0037458]\n",
        "f=302 M=2101 N=4096 fEst=[ 302.00464776] error=[-0.00464776]\n",
        "f=303 M=2101 N=4096 fEst=[ 303.01209455] error=[-0.01209455]"
       ]
      },
      {
       "output_type": "stream",
       "stream": "stdout",
       "text": [
        "\n",
        "f=304 M=2101 N=4096 fEst=[ 304.01685244] error=[-0.01685244]\n",
        "f=305 M=2101 N=4096 fEst=[ 305.01717955] error=[-0.01717955]\n",
        "f=306 M=2101 N=4096 fEst=[ 306.01133397] error=[-0.01133397]\n",
        "f=307 M=2101 N=4096 fEst=[ 306.9977845] error=[ 0.0022155]\n",
        "f=308 M=2101 N=4096 fEst=[ 307.98655989] error=[ 0.01344011]\n",
        "f=309 M=2101 N=4096 fEst=[ 308.98269715] error=[ 0.01730285]"
       ]
      },
      {
       "output_type": "stream",
       "stream": "stdout",
       "text": [
        "\n",
        "f=310 M=2101 N=4096 fEst=[ 309.98445894] error=[ 0.01554106]\n",
        "f=311 M=2101 N=4096 fEst=[ 310.99010878] error=[ 0.00989122]\n",
        "f=312 M=2101 N=4096 fEst=[ 311.99791058] error=[ 0.00208942]\n",
        "f=313 M=2101 N=4096 fEst=[ 313.00612816] error=[-0.00612816]\n",
        "f=314 M=2101 N=4096 fEst=[ 314.01302484] error=[-0.01302484]\n",
        "f=315 M=2101 N=4096 fEst=[ 315.01686297] error=[-0.01686297]"
       ]
      },
      {
       "output_type": "stream",
       "stream": "stdout",
       "text": [
        "\n",
        "f=316 M=2101 N=4096 fEst=[ 316.01590357] error=[-0.01590357]\n",
        "f=317 M=2101 N=4096 fEst=[ 317.00840591] error=[-0.00840591]\n",
        "f=318 M=2101 N=4096 fEst=[ 317.99402817] error=[ 0.00597183]\n",
        "f=319 M=2101 N=4096 fEst=[ 318.98483249] error=[ 0.01516751]\n",
        "f=320 M=2101 N=4096 fEst=[ 319.98259386] error=[ 0.01740614]\n",
        "f=321 M=2101 N=4096 fEst=[ 320.98556704] error=[ 0.01443296]"
       ]
      },
      {
       "output_type": "stream",
       "stream": "stdout",
       "text": [
        "\n",
        "f=322 M=2101 N=4096 fEst=[ 321.99200811] error=[ 0.00799189]\n",
        "f=323 M=2101 N=4096 fEst=[ 323.00017428] error=[-0.00017428]\n",
        "f=324 M=2101 N=4096 fEst=[ 324.00832361] error=[-0.00832361]\n",
        "f=325 M=2101 N=4096 fEst=[ 325.01471474] error=[-0.01471474]\n",
        "f=326 M=2101 N=4096 fEst=[ 326.01760664] error=[-0.01760664]\n",
        "f=327 M=2101 N=4096 fEst=[ 327.01525828] error=[-0.01525828]"
       ]
      },
      {
       "output_type": "stream",
       "stream": "stdout",
       "text": [
        "\n",
        "f=328 M=2101 N=4096 fEst=[ 328.00592834] error=[-0.00592834]\n",
        "f=329 M=2101 N=4096 fEst=[ 328.99144983] error=[ 0.00855017]\n",
        "f=330 M=2101 N=4096 fEst=[ 329.98389075] error=[ 0.01610925]\n",
        "f=331 M=2101 N=4096 fEst=[ 330.98288501] error=[ 0.01711499]\n",
        "f=332 M=2101 N=4096 fEst=[ 331.9866948] error=[ 0.0133052]\n",
        "f=333 M=2101 N=4096 fEst=[ 332.99358293] error=[ 0.00641707]"
       ]
      },
      {
       "output_type": "stream",
       "stream": "stdout",
       "text": [
        "\n",
        "f=334 M=2101 N=4096 fEst=[ 334.00181235] error=[-0.00181235]\n",
        "f=335 M=2101 N=4096 fEst=[ 335.00964576] error=[-0.00964576]\n",
        "f=336 M=2101 N=4096 fEst=[ 336.01534522] error=[-0.01534522]\n",
        "f=337 M=2101 N=4096 fEst=[ 337.01717172] error=[-0.01717172]\n",
        "f=338 M=2101 N=4096 fEst=[ 338.01338483] error=[-0.01338483]\n",
        "f=339 M=2101 N=4096 fEst=[ 339.00224236] error=[-0.00224236]"
       ]
      },
      {
       "output_type": "stream",
       "stream": "stdout",
       "text": [
        "\n",
        "f=340 M=2101 N=4096 fEst=[ 339.9888155] error=[ 0.0111845]\n",
        "f=341 M=2101 N=4096 fEst=[ 340.98307197] error=[ 0.01692803]\n",
        "f=342 M=2101 N=4096 fEst=[ 341.98346874] error=[ 0.01653126]\n",
        "f=343 M=2101 N=4096 fEst=[ 342.98826207] error=[ 0.01173793]\n",
        "f=344 M=2101 N=4096 fEst=[ 343.99570945] error=[ 0.00429055]\n",
        "f=345 M=2101 N=4096 fEst=[ 345.00406938] error=[-0.00406938]"
       ]
      },
      {
       "output_type": "stream",
       "stream": "stdout",
       "text": [
        "\n",
        "f=346 M=2101 N=4096 fEst=[ 346.01160101] error=[-0.01160101]\n",
        "f=347 M=2101 N=4096 fEst=[ 347.01656393] error=[-0.01656393]\n",
        "f=348 M=2101 N=4096 fEst=[ 348.01721779] error=[-0.01721779]\n",
        "f=349 M=2101 N=4096 fEst=[ 349.01182199] error=[-0.01182199]\n",
        "f=350 M=2101 N=4096 fEst=[ 349.99870257] error=[ 0.00129743]\n",
        "f=351 M=2101 N=4096 fEst=[ 350.98694883] error=[ 0.01305117]"
       ]
      },
      {
       "output_type": "stream",
       "stream": "stdout",
       "text": [
        "\n",
        "f=352 M=2101 N=4096 fEst=[ 351.98267748] error=[ 0.01732252]\n",
        "f=353 M=2101 N=4096 fEst=[ 352.98414947] error=[ 0.01585053]\n",
        "f=354 M=2101 N=4096 fEst=[ 353.98962657] error=[ 0.01037343]\n",
        "f=355 M=2101 N=4096 fEst=[ 354.99737092] error=[ 0.00262908]\n",
        "f=356 M=2101 N=4096 fEst=[ 356.00564469] error=[-0.00564469]\n",
        "f=357 M=2101 N=4096 fEst=[ 357.01270963] error=[-0.01270963]"
       ]
      },
      {
       "output_type": "stream",
       "stream": "stdout",
       "text": [
        "\n",
        "f=358 M=2101 N=4096 fEst=[ 358.01682672] error=[-0.01682672]\n",
        "f=359 M=2101 N=4096 fEst=[ 359.01625582] error=[-0.01625582]\n",
        "f=360 M=2101 N=4096 fEst=[ 360.00925529] error=[-0.00925529]\n",
        "f=361 M=2101 N=4096 fEst=[ 360.9950376] error=[ 0.0049624]\n",
        "f=362 M=2101 N=4096 fEst=[ 361.98529647] error=[ 0.01470353]\n",
        "f=363 M=2101 N=4096 fEst=[ 362.98262451] error=[ 0.01737549]"
       ]
      },
      {
       "output_type": "stream",
       "stream": "stdout",
       "text": [
        "\n",
        "f=364 M=2101 N=4096 fEst=[ 363.98527788] error=[ 0.01472212]\n",
        "f=365 M=2101 N=4096 fEst=[ 364.99151416] error=[ 0.00848584]\n",
        "f=366 M=2101 N=4096 fEst=[ 365.99959201] error=[ 0.00040799]\n",
        "f=367 M=2101 N=4096 fEst=[ 367.00777092] error=[-0.00777092]\n",
        "f=368 M=2101 N=4096 fEst=[ 368.01431088] error=[-0.01431088]\n",
        "f=369 M=2101 N=4096 fEst=[ 369.01747204] error=[-0.01747204]"
       ]
      },
      {
       "output_type": "stream",
       "stream": "stdout",
       "text": [
        "\n",
        "f=370 M=2101 N=4096 fEst=[ 370.01551441] error=[-0.01551441]\n",
        "f=371 M=2101 N=4096 fEst=[ 371.00669746] error=[-0.00669746]\n",
        "f=372 M=2101 N=4096 fEst=[ 371.99213497] error=[ 0.00786503]\n",
        "f=373 M=2101 N=4096 fEst=[ 372.98410058] error=[ 0.01589942]\n",
        "f=374 M=2101 N=4096 fEst=[ 373.9827377] error=[ 0.0172623]\n",
        "f=375 M=2101 N=4096 fEst=[ 374.98630711] error=[ 0.01369289]"
       ]
      },
      {
       "output_type": "stream",
       "stream": "stdout",
       "text": [
        "\n",
        "f=376 M=2101 N=4096 fEst=[ 375.99307015] error=[ 0.00692985]\n",
        "f=377 M=2101 N=4096 fEst=[ 377.00128845] error=[-0.00128845]\n",
        "f=378 M=2101 N=4096 fEst=[ 378.00922346] error=[-0.00922346]\n",
        "f=379 M=2101 N=4096 fEst=[ 379.01513613] error=[-0.01513613]\n",
        "f=380 M=2101 N=4096 fEst=[ 380.01728655] error=[-0.01728655]\n",
        "f=381 M=2101 N=4096 fEst=[ 381.01393359] error=[-0.01393359]"
       ]
      },
      {
       "output_type": "stream",
       "stream": "stdout",
       "text": [
        "\n",
        "f=382 M=2101 N=4096 fEst=[ 382.00333462] error=[-0.00333462]\n",
        "f=383 M=2101 N=4096 fEst=[ 382.98953148] error=[ 0.01046852]\n",
        "f=384 M=2101 N=4096 fEst=[ 383.98329759] error=[ 0.01670241]\n",
        "f=385 M=2101 N=4096 fEst=[ 384.98331802] error=[ 0.01668198]\n",
        "f=386 M=2101 N=4096 fEst=[ 385.98785019] error=[ 0.01214981]\n",
        "f=387 M=2101 N=4096 fEst=[ 386.99515278] error=[ 0.00484722]"
       ]
      },
      {
       "output_type": "stream",
       "stream": "stdout",
       "text": [
        "\n",
        "f=388 M=2101 N=4096 fEst=[ 388.0034854] error=[-0.0034854]\n",
        "f=389 M=2101 N=4096 fEst=[ 389.01110829] error=[-0.01110829]\n",
        "f=390 M=2101 N=4096 fEst=[ 390.01628195] error=[-0.01628195]\n",
        "f=391 M=2101 N=4096 fEst=[ 391.01726684] error=[-0.01726684]\n",
        "f=392 M=2101 N=4096 fEst=[ 392.012323] error=[-0.012323]\n",
        "f=393 M=2101 N=4096 fEst=[ 392.99971303] error=[ 0.00028697]"
       ]
      },
      {
       "output_type": "stream",
       "stream": "stdout",
       "text": [
        "\n",
        "f=394 M=2101 N=4096 fEst=[ 393.98741853] error=[ 0.01258147]\n",
        "f=395 M=2101 N=4096 fEst=[ 394.98272414] error=[ 0.01727586]\n",
        "f=396 M=2101 N=4096 fEst=[ 395.9838896] error=[ 0.0161104]\n",
        "f=397 M=2101 N=4096 fEst=[ 396.98917549] error=[ 0.01082451]\n",
        "f=398 M=2101 N=4096 fEst=[ 397.99684286] error=[ 0.00315714]\n",
        "f=399 M=2101 N=4096 fEst=[ 399.00515283] error=[-0.00515283]"
       ]
      },
      {
       "output_type": "stream",
       "stream": "stdout",
       "text": [
        "\n",
        "f=400 M=2101 N=4096 fEst=[ 400.01236627] error=[-0.01236627]\n",
        "f=401 M=2101 N=4096 fEst=[ 401.01674344] error=[-0.01674344]\n",
        "f=402 M=2101 N=4096 fEst=[ 402.01654366] error=[-0.01654366]\n",
        "f=403 M=2101 N=4096 fEst=[ 403.01002497] error=[-0.01002497]\n",
        "f=404 M=2101 N=4096 fEst=[ 403.99604119] error=[ 0.00395881]\n",
        "f=405 M=2101 N=4096 fEst=[ 404.98575151] error=[ 0.01424849]"
       ]
      },
      {
       "output_type": "stream",
       "stream": "stdout",
       "text": [
        "\n",
        "f=406 M=2101 N=4096 fEst=[ 405.98264539] error=[ 0.01735461]\n",
        "f=407 M=2101 N=4096 fEst=[ 406.98497995] error=[ 0.01502005]\n",
        "f=408 M=2101 N=4096 fEst=[ 407.9910137] error=[ 0.0089863]\n",
        "f=409 M=2101 N=4096 fEst=[ 408.99900622] error=[ 0.00099378]\n",
        "f=410 M=2101 N=4096 fEst=[ 410.00721784] error=[-0.00721784]\n",
        "f=411 M=2101 N=4096 fEst=[ 411.01390928] error=[-0.01390928]"
       ]
      },
      {
       "output_type": "stream",
       "stream": "stdout",
       "text": [
        "\n",
        "f=412 M=2101 N=4096 fEst=[ 412.01734133] error=[-0.01734133]\n",
        "f=413 M=2101 N=4096 fEst=[ 413.0157745] error=[-0.0157745]\n",
        "f=414 M=2101 N=4096 fEst=[ 414.0074686] error=[-0.0074686]\n",
        "f=415 M=2101 N=4096 fEst=[ 414.99289558] error=[ 0.00710442]\n",
        "f=416 M=2101 N=4096 fEst=[ 415.98437323] error=[ 0.01562677]\n",
        "f=417 M=2101 N=4096 fEst=[ 416.98263875] error=[ 0.01736125]"
       ]
      },
      {
       "output_type": "stream",
       "stream": "stdout",
       "text": [
        "\n",
        "f=418 M=2101 N=4096 fEst=[ 417.98595189] error=[ 0.01404811]\n",
        "f=419 M=2101 N=4096 fEst=[ 418.99257309] error=[ 0.00742691]\n",
        "f=420 M=2101 N=4096 fEst=[ 420.00076309] error=[-0.00076309]\n",
        "f=421 M=2101 N=4096 fEst=[ 421.00878264] error=[-0.00878264]\n",
        "f=422 M=2101 N=4096 fEst=[ 422.01489209] error=[-0.01489209]\n",
        "f=423 M=2101 N=4096 fEst=[ 423.0173511] error=[-0.0173511]"
       ]
      },
      {
       "output_type": "stream",
       "stream": "stdout",
       "text": [
        "\n",
        "f=424 M=2101 N=4096 fEst=[ 424.0144183] error=[-0.0144183]\n",
        "f=425 M=2101 N=4096 fEst=[ 425.00435099] error=[-0.00435099]\n",
        "f=426 M=2101 N=4096 fEst=[ 425.99025001] error=[ 0.00974999]\n",
        "f=427 M=2101 N=4096 fEst=[ 426.98352324] error=[ 0.01647676]\n",
        "f=428 M=2101 N=4096 fEst=[ 427.98316627] error=[ 0.01683373]\n",
        "f=429 M=2101 N=4096 fEst=[ 428.98743728] error=[ 0.01256272]"
       ]
      },
      {
       "output_type": "stream",
       "stream": "stdout",
       "text": [
        "\n",
        "f=430 M=2101 N=4096 fEst=[ 429.99459568] error=[ 0.00540432]\n",
        "f=431 M=2101 N=4096 fEst=[ 431.00290176] error=[-0.00290176]\n",
        "f=432 M=2101 N=4096 fEst=[ 432.01061634] error=[-0.01061634]\n",
        "f=433 M=2101 N=4096 fEst=[ 433.01600043] error=[-0.01600043]\n",
        "f=434 M=2101 N=4096 fEst=[ 434.01731488] error=[-0.01731488]\n",
        "f=435 M=2101 N=4096 fEst=[ 435.01281999] error=[-0.01281999]"
       ]
      },
      {
       "output_type": "stream",
       "stream": "stdout",
       "text": [
        "\n",
        "f=436 M=2101 N=4096 fEst=[ 436.00077517] error=[-0.00077517]\n",
        "f=437 M=2101 N=4096 fEst=[ 436.9879494] error=[ 0.0120506]\n",
        "f=438 M=2101 N=4096 fEst=[ 437.98281907] error=[ 0.01718093]\n",
        "f=439 M=2101 N=4096 fEst=[ 438.98366398] error=[ 0.01633602]\n",
        "f=440 M=2101 N=4096 fEst=[ 439.98874389] error=[ 0.01125611]\n",
        "f=441 M=2101 N=4096 fEst=[ 440.99631912] error=[ 0.00368088]"
       ]
      },
      {
       "output_type": "stream",
       "stream": "stdout",
       "text": [
        "\n",
        "f=442 M=2101 N=4096 fEst=[ 442.00465019] error=[-0.00465019]\n",
        "f=443 M=2101 N=4096 fEst=[ 443.0119975] error=[-0.0119975]\n",
        "f=444 M=2101 N=4096 fEst=[ 444.01662095] error=[-0.01662095]\n",
        "f=445 M=2101 N=4096 fEst=[ 445.01677966] error=[-0.01677966]\n",
        "f=446 M=2101 N=4096 fEst=[ 446.01073165] error=[-0.01073165]\n",
        "f=447 M=2101 N=4096 fEst=[ 446.99705705] error=[ 0.00294295]"
       ]
      },
      {
       "output_type": "stream",
       "stream": "stdout",
       "text": [
        "\n",
        "f=448 M=2101 N=4096 fEst=[ 447.98621507] error=[ 0.01378493]\n",
        "f=449 M=2101 N=4096 fEst=[ 448.98267228] error=[ 0.01732772]\n",
        "f=450 M=2101 N=4096 fEst=[ 449.98468638] error=[ 0.01531362]\n",
        "f=451 M=2101 N=4096 fEst=[ 450.99051648] error=[ 0.00948352]\n",
        "f=452 M=2101 N=4096 fEst=[ 451.9984227] error=[ 0.0015773]\n",
        "f=453 M=2101 N=4096 fEst=[ 453.00666583] error=[-0.00666583]"
       ]
      },
      {
       "output_type": "stream",
       "stream": "stdout",
       "text": [
        "\n",
        "f=454 M=2101 N=4096 fEst=[ 454.01350701] error=[-0.01350701]\n",
        "f=455 M=2101 N=4096 fEst=[ 455.01720732] error=[-0.01720732]\n",
        "f=456 M=2101 N=4096 fEst=[ 456.01602747] error=[-0.01602747]\n",
        "f=457 M=2101 N=4096 fEst=[ 457.00822737] error=[-0.00822737]\n",
        "f=458 M=2101 N=4096 fEst=[ 457.99371702] error=[ 0.00628298]\n",
        "f=459 M=2101 N=4096 fEst=[ 458.98469496] error=[ 0.01530504]"
       ]
      },
      {
       "output_type": "stream",
       "stream": "stdout",
       "text": [
        "\n",
        "f=460 M=2101 N=4096 fEst=[ 459.98257618] error=[ 0.01742382]\n",
        "f=461 M=2101 N=4096 fEst=[ 460.98561973] error=[ 0.01438027]\n",
        "f=462 M=2101 N=4096 fEst=[ 461.99208542] error=[ 0.00791458]\n",
        "f=463 M=2101 N=4096 fEst=[ 463.0002335] error=[-0.0002335]\n",
        "f=464 M=2101 N=4096 fEst=[ 464.00832428] error=[-0.00832428]\n",
        "f=465 M=2101 N=4096 fEst=[ 465.01461785] error=[-0.01461785]"
       ]
      },
      {
       "output_type": "stream",
       "stream": "stdout",
       "text": [
        "\n",
        "f=466 M=2101 N=4096 fEst=[ 466.01737371] error=[-0.01737371]\n",
        "f=467 M=2101 N=4096 fEst=[ 467.01485048] error=[-0.01485048]\n",
        "f=468 M=2101 N=4096 fEst=[ 468.00530559] error=[-0.00530559]\n",
        "f=469 M=2101 N=4096 fEst=[ 468.99098463] error=[ 0.00901537]\n",
        "f=470 M=2101 N=4096 fEst=[ 469.98376138] error=[ 0.01623862]\n",
        "f=471 M=2101 N=4096 fEst=[ 470.98302415] error=[ 0.01697585]"
       ]
      },
      {
       "output_type": "stream",
       "stream": "stdout",
       "text": [
        "\n",
        "f=472 M=2101 N=4096 fEst=[ 471.98703159] error=[ 0.01296841]\n",
        "f=473 M=2101 N=4096 fEst=[ 472.99404355] error=[ 0.00595645]\n",
        "f=474 M=2101 N=4096 fEst=[ 474.00232069] error=[-0.00232069]\n",
        "f=475 M=2101 N=4096 fEst=[ 475.01012413] error=[-0.01012413]\n",
        "f=476 M=2101 N=4096 fEst=[ 476.01571513] error=[-0.01571513]\n",
        "f=477 M=2101 N=4096 fEst=[ 477.01735468] error=[-0.01735468]"
       ]
      },
      {
       "output_type": "stream",
       "stream": "stdout",
       "text": [
        "\n",
        "f=478 M=2101 N=4096 fEst=[ 478.01330315] error=[-0.01330315]\n",
        "f=479 M=2101 N=4096 fEst=[ 479.00181991] error=[-0.00181991]\n",
        "f=480 M=2101 N=4096 fEst=[ 479.9885308] error=[ 0.0114692]\n",
        "f=481 M=2101 N=4096 fEst=[ 480.98295283] error=[ 0.01704717]\n",
        "f=482 M=2101 N=4096 fEst=[ 481.98346492] error=[ 0.01653508]\n",
        "f=483 M=2101 N=4096 fEst=[ 482.98832632] error=[ 0.01167368]"
       ]
      },
      {
       "output_type": "stream",
       "stream": "stdout",
       "text": [
        "\n",
        "f=484 M=2101 N=4096 fEst=[ 483.99579687] error=[ 0.00420313]\n",
        "f=485 M=2101 N=4096 fEst=[ 485.00413677] error=[-0.00413677]\n",
        "f=486 M=2101 N=4096 fEst=[ 486.01160616] error=[-0.01160616]\n",
        "f=487 M=2101 N=4096 fEst=[ 487.01646482] error=[-0.01646482]\n",
        "f=488 M=2101 N=4096 fEst=[ 488.01697189] error=[-0.01697189]\n",
        "f=489 M=2101 N=4096 fEst=[ 489.0113855] error=[-0.0113855]"
       ]
      },
      {
       "output_type": "stream",
       "stream": "stdout",
       "text": [
        "\n",
        "f=490 M=2101 N=4096 fEst=[ 489.99809583] error=[ 0.00190417]\n",
        "f=491 M=2101 N=4096 fEst=[ 490.98669718] error=[ 0.01330282]\n",
        "f=492 M=2101 N=4096 fEst=[ 491.98271394] error=[ 0.01728606]\n",
        "f=493 M=2101 N=4096 fEst=[ 492.98440422] error=[ 0.01559578]\n",
        "f=494 M=2101 N=4096 fEst=[ 493.99002744] error=[ 0.00997256]\n",
        "f=495 M=2101 N=4096 fEst=[ 494.99784402] error=[ 0.00215598]"
       ]
      },
      {
       "output_type": "stream",
       "stream": "stdout",
       "text": [
        "\n",
        "f=496 M=2101 N=4096 fEst=[ 496.00611501] error=[-0.00611501]\n",
        "f=497 M=2101 N=4096 fEst=[ 497.01310171] error=[-0.01310171]\n",
        "f=498 M=2101 N=4096 fEst=[ 498.01706531] error=[-0.01706531]\n",
        "f=499 M=2101 N=4096 fEst=[ 499.01626656] error=[-0.01626656]\n",
        "f=500 M=2101 N=4096 fEst=[ 500.00896534] error=[-0.00896534]\n",
        "f=501 M=2101 N=4096 fEst=[ 500.99459096] error=[ 0.00540904]"
       ]
      },
      {
       "output_type": "stream",
       "stream": "stdout",
       "text": [
        "\n",
        "f=502 M=2101 N=4096 fEst=[ 501.98505822] error=[ 0.01494178]\n",
        "f=503 M=2101 N=4096 fEst=[ 502.98254369] error=[ 0.01745631]\n",
        "f=504 M=2101 N=4096 fEst=[ 503.98530597] error=[ 0.01469403]\n",
        "f=505 M=2101 N=4096 fEst=[ 504.99160446] error=[ 0.00839554]\n",
        "f=506 M=2101 N=4096 fEst=[ 505.99969911] error=[ 0.00030089]\n",
        "f=507 M=2101 N=4096 fEst=[ 507.00785002] error=[-0.00785002]"
       ]
      },
      {
       "output_type": "stream",
       "stream": "stdout",
       "text": [
        "\n",
        "f=508 M=2101 N=4096 fEst=[ 508.01431718] error=[-0.01431718]\n",
        "f=509 M=2101 N=4096 fEst=[ 509.0173601] error=[-0.0173601]\n",
        "f=510 M=2101 N=4096 fEst=[ 510.01523754] error=[-0.01523754]\n",
        "f=511 M=2101 N=4096 fEst=[ 511.00620714] error=[-0.00620714]\n",
        "f=512 M=2101 N=4096 fEst=[ 511.9917435] error=[ 0.0082565]\n",
        "f=513 M=2101 N=4096 fEst=[ 512.98401932] error=[ 0.01598068]"
       ]
      },
      {
       "output_type": "stream",
       "stream": "stdout",
       "text": [
        "\n",
        "f=514 M=2101 N=4096 fEst=[ 513.98289772] error=[ 0.01710228]\n",
        "f=515 M=2101 N=4096 fEst=[ 514.98663762] error=[ 0.01336238]\n",
        "f=516 M=2101 N=4096 fEst=[ 515.99349909] error=[ 0.00650091]\n",
        "f=517 M=2101 N=4096 fEst=[ 517.00174296] error=[-0.00174296]\n",
        "f=518 M=2101 N=4096 fEst=[ 518.00963051] error=[-0.00963051]\n",
        "f=519 M=2101 N=4096 fEst=[ 519.01542305] error=[-0.01542305]"
       ]
      },
      {
       "output_type": "stream",
       "stream": "stdout",
       "text": [
        "\n",
        "f=520 M=2101 N=4096 fEst=[ 520.01738159] error=[-0.01738159]\n",
        "f=521 M=2101 N=4096 fEst=[ 521.01376646] error=[-0.01376646]\n",
        "f=522 M=2101 N=4096 fEst=[ 522.00283693] error=[-0.00283693]\n",
        "f=523 M=2101 N=4096 fEst=[ 522.98915664] error=[ 0.01084336]\n",
        "f=524 M=2101 N=4096 fEst=[ 523.98312021] error=[ 0.01687979]\n",
        "f=525 M=2101 N=4096 fEst=[ 524.98328847] error=[ 0.01671153]"
       ]
      },
      {
       "output_type": "stream",
       "stream": "stdout",
       "text": [
        "\n",
        "f=526 M=2101 N=4096 fEst=[ 525.9879203] error=[ 0.0120797]\n",
        "f=527 M=2101 N=4096 fEst=[ 526.99527529] error=[ 0.00472471]\n",
        "f=528 M=2101 N=4096 fEst=[ 528.00361343] error=[-0.00361343]\n",
        "f=529 M=2101 N=4096 fEst=[ 529.01119479] error=[-0.01119479]\n",
        "f=530 M=2101 N=4096 fEst=[ 530.01627919] error=[-0.01627919]\n",
        "f=531 M=2101 N=4096 fEst=[ 531.01712584] error=[-0.01712584]"
       ]
      },
      {
       "output_type": "stream",
       "stream": "stdout",
       "text": [
        "\n",
        "f=532 M=2101 N=4096 fEst=[ 532.01199312] error=[-0.01199312]\n",
        "f=533 M=2101 N=4096 fEst=[ 532.99916431] error=[ 0.00083569]\n",
        "f=534 M=2101 N=4096 fEst=[ 533.98720401] error=[ 0.01279599]\n",
        "f=535 M=2101 N=4096 fEst=[ 534.98277564] error=[ 0.01722436]\n",
        "f=536 M=2101 N=4096 fEst=[ 535.98413752] error=[ 0.01586248]\n",
        "f=537 M=2101 N=4096 fEst=[ 536.98954925] error=[ 0.01045075]"
       ]
      },
      {
       "output_type": "stream",
       "stream": "stdout",
       "text": [
        "\n",
        "f=538 M=2101 N=4096 fEst=[ 537.99727138] error=[ 0.00272862]\n",
        "f=539 M=2101 N=4096 fEst=[ 539.00556503] error=[-0.00556503]\n",
        "f=540 M=2101 N=4096 fEst=[ 540.01269156] error=[-0.01269156]\n",
        "f=541 M=2101 N=4096 fEst=[ 541.01691216] error=[-0.01691216]\n",
        "f=542 M=2101 N=4096 fEst=[ 542.0164875] error=[-0.0164875]\n",
        "f=543 M=2101 N=4096 fEst=[ 543.00967738] error=[-0.00967738]"
       ]
      },
      {
       "output_type": "stream",
       "stream": "stdout",
       "text": [
        "\n",
        "f=544 M=2101 N=4096 fEst=[ 543.99551244] error=[ 0.00448756]\n",
        "f=545 M=2101 N=4096 fEst=[ 544.98545868] error=[ 0.01454132]\n",
        "f=546 M=2101 N=4096 fEst=[ 545.9825379] error=[ 0.0174621]\n",
        "f=547 M=2101 N=4096 fEst=[ 546.98500836] error=[ 0.01499164]\n",
        "f=548 M=2101 N=4096 fEst=[ 547.99112924] error=[ 0.00887076]\n",
        "f=549 M=2101 N=4096 fEst=[ 548.99916029] error=[ 0.00083971]"
       ]
      },
      {
       "output_type": "stream",
       "stream": "stdout",
       "text": [
        "\n",
        "f=550 M=2101 N=4096 fEst=[ 550.00736158] error=[-0.00736158]\n",
        "f=551 M=2101 N=4096 fEst=[ 551.01399308] error=[-0.01399308]\n",
        "f=552 M=2101 N=4096 fEst=[ 552.01731443] error=[-0.01731443]\n",
        "f=553 M=2101 N=4096 fEst=[ 553.01558456] error=[-0.01558456]\n",
        "f=554 M=2101 N=4096 fEst=[ 554.00706138] error=[-0.00706138]\n",
        "f=555 M=2101 N=4096 fEst=[ 554.9925319] error=[ 0.0074681]"
       ]
      },
      {
       "output_type": "stream",
       "stream": "stdout",
       "text": [
        "\n",
        "f=556 M=2101 N=4096 fEst=[ 555.98430166] error=[ 0.01569834]\n",
        "f=557 M=2101 N=4096 fEst=[ 556.98279066] error=[ 0.01720934]\n",
        "f=558 M=2101 N=4096 fEst=[ 557.98625796] error=[ 0.01374204]\n",
        "f=559 M=2101 N=4096 fEst=[ 558.99296371] error=[ 0.00703629]\n",
        "f=560 M=2101 N=4096 fEst=[ 560.00116879] error=[-0.00116879]\n",
        "f=561 M=2101 N=4096 fEst=[ 561.00913449] error=[-0.00913449]"
       ]
      },
      {
       "output_type": "stream",
       "stream": "stdout",
       "text": [
        "\n",
        "f=562 M=2101 N=4096 fEst=[ 562.0151221] error=[-0.0151221]\n",
        "f=563 M=2101 N=4096 fEst=[ 563.01739257] error=[-0.01739257]\n",
        "f=564 M=2101 N=4096 fEst=[ 564.01420614] error=[-0.01420614]\n",
        "f=565 M=2101 N=4096 fEst=[ 565.00382194] error=[-0.00382194]\n",
        "f=566 M=2101 N=4096 fEst=[ 565.98982331] error=[ 0.01017669]\n",
        "f=567 M=2101 N=4096 fEst=[ 566.98331832] error=[ 0.01668168]"
       ]
      },
      {
       "output_type": "stream",
       "stream": "stdout",
       "text": [
        "\n",
        "f=568 M=2101 N=4096 fEst=[ 567.9831326] error=[ 0.0168674]\n",
        "f=569 M=2101 N=4096 fEst=[ 568.98752483] error=[ 0.01247517]\n",
        "f=570 M=2101 N=4096 fEst=[ 569.99475443] error=[ 0.00524557]\n",
        "f=571 M=2101 N=4096 fEst=[ 571.00308135] error=[-0.00308135]\n",
        "f=572 M=2101 N=4096 fEst=[ 572.01076564] error=[-0.01076564]\n",
        "f=573 M=2101 N=4096 fEst=[ 573.01606722] error=[-0.01606722]"
       ]
      },
      {
       "output_type": "stream",
       "stream": "stdout",
       "text": [
        "\n",
        "f=574 M=2101 N=4096 fEst=[ 574.01724549] error=[-0.01724549]\n",
        "f=575 M=2101 N=4096 fEst=[ 575.01255904] error=[-0.01255904]\n",
        "f=576 M=2101 N=4096 fEst=[ 576.00026533] error=[-0.00026533]\n",
        "f=577 M=2101 N=4096 fEst=[ 576.9877396] error=[ 0.0122604]\n",
        "f=578 M=2101 N=4096 fEst=[ 577.98286071] error=[ 0.01713929]\n",
        "f=579 M=2101 N=4096 fEst=[ 578.98388878] error=[ 0.01611122]"
       ]
      },
      {
       "output_type": "stream",
       "stream": "stdout",
       "text": [
        "\n",
        "f=580 M=2101 N=4096 fEst=[ 579.98908346] error=[ 0.01091654]\n",
        "f=581 M=2101 N=4096 fEst=[ 580.99670531] error=[ 0.00329469]\n",
        "f=582 M=2101 N=4096 fEst=[ 582.00501547] error=[-0.00501547]\n",
        "f=583 M=2101 N=4096 fEst=[ 583.01227522] error=[-0.01227522]\n",
        "f=584 M=2101 N=4096 fEst=[ 584.01674569] error=[-0.01674569]\n",
        "f=585 M=2101 N=4096 fEst=[ 585.01668748] error=[-0.01668748]"
       ]
      },
      {
       "output_type": "stream",
       "stream": "stdout",
       "text": [
        "\n",
        "f=586 M=2101 N=4096 fEst=[ 586.01036024] error=[-0.01036024]\n",
        "f=587 M=2101 N=4096 fEst=[ 586.99647841] error=[ 0.00352159]\n",
        "f=588 M=2101 N=4096 fEst=[ 587.98589384] error=[ 0.01410616]\n",
        "f=589 M=2101 N=4096 fEst=[ 588.982557] error=[ 0.017443]\n",
        "f=590 M=2101 N=4096 fEst=[ 589.98472591] error=[ 0.01527409]\n",
        "f=591 M=2101 N=4096 fEst=[ 590.99065963] error=[ 0.00934037]"
       ]
      },
      {
       "output_type": "stream",
       "stream": "stdout",
       "text": [
        "\n",
        "f=592 M=2101 N=4096 fEst=[ 591.99861786] error=[ 0.00138214]\n",
        "f=593 M=2101 N=4096 fEst=[ 593.00686064] error=[-0.00686064]\n",
        "f=594 M=2101 N=4096 fEst=[ 594.01364804] error=[-0.01364804]\n",
        "f=595 M=2101 N=4096 fEst=[ 595.01723984] error=[-0.01723984]\n",
        "f=596 M=2101 N=4096 fEst=[ 596.01589519] error=[-0.01589519]\n",
        "f=597 M=2101 N=4096 fEst=[ 597.00787229] error=[-0.00787229]"
       ]
      },
      {
       "output_type": "stream",
       "stream": "stdout",
       "text": [
        "\n",
        "f=598 M=2101 N=4096 fEst=[ 597.99335344] error=[ 0.00664656]\n",
        "f=599 M=2101 N=4096 fEst=[ 598.98461144] error=[ 0.01538856]\n",
        "f=600 M=2101 N=4096 fEst=[ 599.98270535] error=[ 0.01729465]\n",
        "f=601 M=2101 N=4096 fEst=[ 600.98589421] error=[ 0.01410579]\n",
        "f=602 M=2101 N=4096 fEst=[ 601.99243818] error=[ 0.00756182]\n",
        "f=603 M=2101 N=4096 fEst=[ 603.00059812] error=[-0.00059812]"
       ]
      },
      {
       "output_type": "stream",
       "stream": "stdout",
       "text": [
        "\n",
        "f=604 M=2101 N=4096 fEst=[ 604.00863524] error=[-0.00863524]\n",
        "f=605 M=2101 N=4096 fEst=[ 605.01481078] error=[-0.01481078]\n",
        "f=606 M=2101 N=4096 fEst=[ 606.01738556] error=[-0.01738556]\n",
        "f=607 M=2101 N=4096 fEst=[ 607.01461972] error=[-0.01461972]\n",
        "f=608 M=2101 N=4096 fEst=[ 608.00477227] error=[-0.00477227]\n",
        "f=609 M=2101 N=4096 fEst=[ 608.99052865] error=[ 0.00947135]"
       ]
      },
      {
       "output_type": "stream",
       "stream": "stdout",
       "text": [
        "\n",
        "f=610 M=2101 N=4096 fEst=[ 609.98354554] error=[ 0.01645446]\n",
        "f=611 M=2101 N=4096 fEst=[ 610.98299637] error=[ 0.01700363]\n",
        "f=612 M=2101 N=4096 fEst=[ 611.98713968] error=[ 0.01286032]\n",
        "f=613 M=2101 N=4096 fEst=[ 612.99423484] error=[ 0.00576516]\n",
        "f=614 M=2101 N=4096 fEst=[ 614.00254179] error=[-0.00254179]\n",
        "f=615 M=2101 N=4096 fEst=[ 615.01032065] error=[-0.01032065]"
       ]
      },
      {
       "output_type": "stream",
       "stream": "stdout",
       "text": [
        "\n",
        "f=616 M=2101 N=4096 fEst=[ 616.01583146] error=[-0.01583146]\n",
        "f=617 M=2101 N=4096 fEst=[ 617.01733381] error=[-0.01733381]\n",
        "f=618 M=2101 N=4096 fEst=[ 618.01308655] error=[-0.01308655]\n",
        "f=619 M=2101 N=4096 fEst=[ 619.00134743] error=[-0.00134743]\n",
        "f=620 M=2101 N=4096 fEst=[ 619.98830675] error=[ 0.01169325]\n",
        "f=621 M=2101 N=4096 fEst=[ 620.9829714] error=[ 0.0170286]"
       ]
      },
      {
       "output_type": "stream",
       "stream": "stdout",
       "text": [
        "\n",
        "f=622 M=2101 N=4096 fEst=[ 621.98365961] error=[ 0.01634039]\n",
        "f=623 M=2101 N=4096 fEst=[ 622.98863099] error=[ 0.01136901]\n",
        "f=624 M=2101 N=4096 fEst=[ 623.99614607] error=[ 0.00385393]\n",
        "f=625 M=2101 N=4096 fEst=[ 625.00446589] error=[-0.00446589]\n",
        "f=626 M=2101 N=4096 fEst=[ 626.01185167] error=[-0.01185167]\n",
        "f=627 M=2101 N=4096 fEst=[ 627.01656443] error=[-0.01656443]"
       ]
      },
      {
       "output_type": "stream",
       "stream": "stdout",
       "text": [
        "\n",
        "f=628 M=2101 N=4096 fEst=[ 628.01686464] error=[-0.01686464]\n",
        "f=629 M=2101 N=4096 fEst=[ 629.01101187] error=[-0.01101187]\n",
        "f=630 M=2101 N=4096 fEst=[ 629.99748701] error=[ 0.00251299]\n",
        "f=631 M=2101 N=4096 fEst=[ 630.98636229] error=[ 0.01363771]\n",
        "f=632 M=2101 N=4096 fEst=[ 631.9826001] error=[ 0.0173999]\n",
        "f=633 M=2101 N=4096 fEst=[ 632.98445836] error=[ 0.01554164]"
       ]
      },
      {
       "output_type": "stream",
       "stream": "stdout",
       "text": [
        "\n",
        "f=634 M=2101 N=4096 fEst=[ 633.99019602] error=[ 0.00980398]\n",
        "f=635 M=2101 N=4096 fEst=[ 634.99807278] error=[ 0.00192722]\n",
        "f=636 M=2101 N=4096 fEst=[ 636.00634875] error=[-0.00634875]\n",
        "f=637 M=2101 N=4096 fEst=[ 637.01328411] error=[-0.01328411]\n",
        "f=638 M=2101 N=4096 fEst=[ 638.0171388] error=[-0.0171388]\n",
        "f=639 M=2101 N=4096 fEst=[ 639.01617218] error=[-0.01617218]"
       ]
      },
      {
       "output_type": "stream",
       "stream": "stdout",
       "text": [
        "\n",
        "f=640 M=2101 N=4096 fEst=[ 640.00864272] error=[-0.00864272]\n",
        "f=641 M=2101 N=4096 fEst=[ 640.99421068] error=[ 0.00578932]\n",
        "f=642 M=2101 N=4096 fEst=[ 641.98495079] error=[ 0.01504921]\n",
        "f=643 M=2101 N=4096 fEst=[ 642.98264336] error=[ 0.01735664]\n",
        "f=644 M=2101 N=4096 fEst=[ 643.98554739] error=[ 0.01445261]\n",
        "f=645 M=2101 N=4096 fEst=[ 644.99192295] error=[ 0.00807705]"
       ]
      },
      {
       "output_type": "stream",
       "stream": "stdout",
       "text": [
        "\n",
        "f=646 M=2101 N=4096 fEst=[ 646.00003083] error=[ -3.08291304e-05]\n",
        "f=647 M=2101 N=4096 fEst=[ 647.00813215] error=[-0.00813215]\n",
        "f=648 M=2101 N=4096 fEst=[ 648.01448801] error=[-0.01448801]\n",
        "f=649 M=2101 N=4096 fEst=[ 649.01735917] error=[-0.01735917]\n",
        "f=650 M=2101 N=4096 fEst=[ 650.01500562] error=[-0.01500562]\n",
        "f=651 M=2101 N=4096 fEst=[ 651.00568629] error=[-0.00568629]"
       ]
      },
      {
       "output_type": "stream",
       "stream": "stdout",
       "text": [
        "\n",
        "f=652 M=2101 N=4096 fEst=[ 651.9912714] error=[ 0.0087286]\n",
        "f=653 M=2101 N=4096 fEst=[ 652.98380106] error=[ 0.01619894]\n",
        "f=654 M=2101 N=4096 fEst=[ 653.98287948] error=[ 0.01712052]\n",
        "f=655 M=2101 N=4096 fEst=[ 654.9867651] error=[ 0.0132349]\n",
        "f=656 M=2101 N=4096 fEst=[ 655.9937173] error=[ 0.0062827]\n",
        "f=657 M=2101 N=4096 fEst=[ 657.00199602] error=[-0.00199602]"
       ]
      },
      {
       "output_type": "stream",
       "stream": "stdout",
       "text": [
        "\n",
        "f=658 M=2101 N=4096 fEst=[ 658.00986152] error=[-0.00986152]\n",
        "f=659 M=2101 N=4096 fEst=[ 659.01557397] error=[-0.01557397]\n",
        "f=660 M=2101 N=4096 fEst=[ 660.01739314] error=[-0.01739314]\n",
        "f=661 M=2101 N=4096 fEst=[ 661.01357812] error=[-0.01357812]\n",
        "f=662 M=2101 N=4096 fEst=[ 662.00238691] error=[-0.00238691]\n",
        "f=663 M=2101 N=4096 fEst=[ 662.98890747] error=[ 0.01109253]"
       ]
      },
      {
       "output_type": "stream",
       "stream": "stdout",
       "text": [
        "\n",
        "f=664 M=2101 N=4096 fEst=[ 663.98310926] error=[ 0.01689074]\n",
        "f=665 M=2101 N=4096 fEst=[ 664.98345107] error=[ 0.01654893]\n",
        "f=666 M=2101 N=4096 fEst=[ 665.98819242] error=[ 0.01180758]\n",
        "f=667 M=2101 N=4096 fEst=[ 666.99559373] error=[ 0.00440627]\n",
        "f=668 M=2101 N=4096 fEst=[ 668.00391595] error=[-0.00391595]\n",
        "f=669 M=2101 N=4096 fEst=[ 669.01142018] error=[-0.01142018]"
       ]
      },
      {
       "output_type": "stream",
       "stream": "stdout",
       "text": [
        "\n",
        "f=670 M=2101 N=4096 fEst=[ 670.01636734] error=[-0.01636734]\n",
        "f=671 M=2101 N=4096 fEst=[ 671.01701778] error=[-0.01701778]\n",
        "f=672 M=2101 N=4096 fEst=[ 672.01163098] error=[-0.01163098]\n",
        "f=673 M=2101 N=4096 fEst=[ 672.99853712] error=[ 0.00146288]\n",
        "f=674 M=2101 N=4096 fEst=[ 673.98686329] error=[ 0.01313671]\n",
        "f=675 M=2101 N=4096 fEst=[ 674.98266692] error=[ 0.01733308]"
       ]
      },
      {
       "output_type": "stream",
       "stream": "stdout",
       "text": [
        "\n",
        "f=676 M=2101 N=4096 fEst=[ 675.98420585] error=[ 0.01579415]\n",
        "f=677 M=2101 N=4096 fEst=[ 676.989739] error=[ 0.010261]\n",
        "f=678 M=2101 N=4096 fEst=[ 677.99752612] error=[ 0.00247388]\n",
        "f=679 M=2101 N=4096 fEst=[ 679.00582737] error=[-0.00582737]\n",
        "f=680 M=2101 N=4096 fEst=[ 680.01290306] error=[-0.01290306]\n",
        "f=681 M=2101 N=4096 fEst=[ 681.0170133] error=[-0.0170133]"
       ]
      },
      {
       "output_type": "stream",
       "stream": "stdout",
       "text": [
        "\n",
        "f=682 M=2101 N=4096 fEst=[ 682.01641766] error=[-0.01641766]\n",
        "f=683 M=2101 N=4096 fEst=[ 683.00937484] error=[-0.00937484]\n",
        "f=684 M=2101 N=4096 fEst=[ 683.99510553] error=[ 0.00489447]\n",
        "f=685 M=2101 N=4096 fEst=[ 684.98532122] error=[ 0.01467878]\n",
        "f=686 M=2101 N=4096 fEst=[ 685.9826058] error=[ 0.0173942]\n",
        "f=687 M=2101 N=4096 fEst=[ 686.98521816] error=[ 0.01478184]"
       ]
      },
      {
       "output_type": "stream",
       "stream": "stdout",
       "text": [
        "\n",
        "f=688 M=2101 N=4096 fEst=[ 687.99141827] error=[ 0.00858173]\n",
        "f=689 M=2101 N=4096 fEst=[ 688.99946679] error=[ 0.00053321]\n",
        "f=690 M=2101 N=4096 fEst=[ 690.00762472] error=[-0.00762472]\n",
        "f=691 M=2101 N=4096 fEst=[ 691.01415308] error=[-0.01415308]\n",
        "f=692 M=2101 N=4096 fEst=[ 692.01731248] error=[-0.01731248]\n",
        "f=693 M=2101 N=4096 fEst=[ 693.01536285] error=[-0.01536285]"
       ]
      },
      {
       "output_type": "stream",
       "stream": "stdout",
       "text": [
        "\n",
        "f=694 M=2101 N=4096 fEst=[ 694.00656302] error=[-0.00656302]\n",
        "f=695 M=2101 N=4096 fEst=[ 694.9920509] error=[ 0.0079491]\n",
        "f=696 M=2101 N=4096 fEst=[ 695.98408461] error=[ 0.01591539]\n",
        "f=697 M=2101 N=4096 fEst=[ 696.98278204] error=[ 0.01721796]\n",
        "f=698 M=2101 N=4096 fEst=[ 697.9864016] error=[ 0.0135984]\n",
        "f=699 M=2101 N=4096 fEst=[ 698.99320267] error=[ 0.00679733]"
       ]
      },
      {
       "output_type": "stream",
       "stream": "stdout",
       "text": [
        "\n",
        "f=700 M=2101 N=4096 fEst=[ 700.00144529] error=[-0.00144529]\n",
        "f=701 M=2101 N=4096 fEst=[ 701.00938979] error=[-0.00938979]\n",
        "f=702 M=2101 N=4096 fEst=[ 702.01529648] error=[-0.01529648]\n",
        "f=703 M=2101 N=4096 fEst=[ 703.01742533] error=[-0.01742533]\n",
        "f=704 M=2101 N=4096 fEst=[ 704.01403562] error=[-0.01403562]\n",
        "f=705 M=2101 N=4096 fEst=[ 705.0033856] error=[-0.0033856]"
       ]
      },
      {
       "output_type": "stream",
       "stream": "stdout",
       "text": [
        "\n",
        "f=706 M=2101 N=4096 fEst=[ 705.98954324] error=[ 0.01045676]\n",
        "f=707 M=2101 N=4096 fEst=[ 706.98327542] error=[ 0.01672458]\n",
        "f=708 M=2101 N=4096 fEst=[ 707.98326391] error=[ 0.01673609]"
       ]
      },
      {
       "output_type": "stream",
       "stream": "stdout",
       "text": [
        "\n",
        "f=709 M=2101 N=4096 fEst=[ 708.98776812] error=[ 0.01223188]"
       ]
      },
      {
       "output_type": "stream",
       "stream": "stdout",
       "text": [
        "\n",
        "f=710 M=2101 N=4096 fEst=[ 709.99504834] error=[ 0.00495166]\n",
        "f=711 M=2101 N=4096 fEst=[ 711.00336539] error=[-0.00336539]"
       ]
      },
      {
       "output_type": "stream",
       "stream": "stdout",
       "text": [
        "\n",
        "f=712 M=2101 N=4096 fEst=[ 712.01098025] error=[-0.01098025]"
       ]
      },
      {
       "output_type": "stream",
       "stream": "stdout",
       "text": [
        "\n",
        "f=713 M=2101 N=4096 fEst=[ 713.01615374] error=[-0.01615374]"
       ]
      },
      {
       "output_type": "stream",
       "stream": "stdout",
       "text": [
        "\n",
        "f=714 M=2101 N=4096 fEst=[ 714.01714614] error=[-0.01714614]"
       ]
      },
      {
       "output_type": "stream",
       "stream": "stdout",
       "text": [
        "\n",
        "f=715 M=2101 N=4096 fEst=[ 715.01221681] error=[-0.01221681]"
       ]
      },
      {
       "output_type": "stream",
       "stream": "stdout",
       "text": [
        "\n",
        "f=716 M=2101 N=4096 fEst=[ 715.99962813] error=[ 0.00037187]\n",
        "f=717 M=2101 N=4096 fEst=[ 716.98739656] error=[ 0.01260344]"
       ]
      },
      {
       "output_type": "stream",
       "stream": "stdout",
       "text": [
        "\n",
        "f=718 M=2101 N=4096 fEst=[ 717.98275752] error=[ 0.01724248]"
       ]
      },
      {
       "output_type": "stream",
       "stream": "stdout",
       "text": [
        "\n",
        "f=719 M=2101 N=4096 fEst=[ 718.9839688] error=[ 0.0160312]"
       ]
      },
      {
       "output_type": "stream",
       "stream": "stdout",
       "text": [
        "\n",
        "f=720 M=2101 N=4096 fEst=[ 719.98928935] error=[ 0.01071065]"
       ]
      },
      {
       "output_type": "stream",
       "stream": "stdout",
       "text": [
        "\n",
        "f=721 M=2101 N=4096 fEst=[ 720.99697893] error=[ 0.00302107]"
       ]
      },
      {
       "output_type": "stream",
       "stream": "stdout",
       "text": [
        "\n",
        "f=722 M=2101 N=4096 fEst=[ 722.00529781] error=[-0.00529781]\n",
        "f=723 M=2101 N=4096 fEst=[ 723.01250641] error=[-0.01250641]"
       ]
      },
      {
       "output_type": "stream",
       "stream": "stdout",
       "text": [
        "\n",
        "f=724 M=2101 N=4096 fEst=[ 724.016865] error=[-0.016865]"
       ]
      },
      {
       "output_type": "stream",
       "stream": "stdout",
       "text": [
        "\n",
        "f=725 M=2101 N=4096 fEst=[ 725.01663332] error=[-0.01663332]"
       ]
      },
      {
       "output_type": "stream",
       "stream": "stdout",
       "text": [
        "\n",
        "f=726 M=2101 N=4096 fEst=[ 726.01007028] error=[-0.01007028]"
       ]
      },
      {
       "output_type": "stream",
       "stream": "stdout",
       "text": [
        "\n",
        "f=727 M=2101 N=4096 fEst=[ 726.99603943] error=[ 0.00396057]"
       ]
      },
      {
       "output_type": "stream",
       "stream": "stdout",
       "text": [
        "\n",
        "f=728 M=2101 N=4096 fEst=[ 727.98572387] error=[ 0.01427613]\n",
        "f=729 M=2101 N=4096 fEst=[ 728.98259347] error=[ 0.01740653]"
       ]
      },
      {
       "output_type": "stream",
       "stream": "stdout",
       "text": [
        "\n",
        "f=730 M=2101 N=4096 fEst=[ 729.984907] error=[ 0.015093]"
       ]
      },
      {
       "output_type": "stream",
       "stream": "stdout",
       "text": [
        "\n",
        "f=731 M=2101 N=4096 fEst=[ 730.9909243] error=[ 0.0090757]"
       ]
      },
      {
       "output_type": "stream",
       "stream": "stdout",
       "text": [
        "\n",
        "f=732 M=2101 N=4096 fEst=[ 731.99890588] error=[ 0.00109412]"
       ]
      },
      {
       "output_type": "stream",
       "stream": "stdout",
       "text": [
        "\n",
        "f=733 M=2101 N=4096 fEst=[ 733.00711265] error=[-0.00711265]\n",
        "f=734 M=2101 N=4096 fEst=[ 734.01380548] error=[-0.01380548]"
       ]
      },
      {
       "output_type": "stream",
       "stream": "stdout",
       "text": [
        "\n",
        "f=735 M=2101 N=4096 fEst=[ 735.01724493] error=[-0.01724493]"
       ]
      },
      {
       "output_type": "stream",
       "stream": "stdout",
       "text": [
        "\n",
        "f=736 M=2101 N=4096 fEst=[ 736.01569084] error=[-0.01569084]"
       ]
      },
      {
       "output_type": "stream",
       "stream": "stdout",
       "text": [
        "\n",
        "f=737 M=2101 N=4096 fEst=[ 737.00740199] error=[-0.00740199]"
       ]
      },
      {
       "output_type": "stream",
       "stream": "stdout",
       "text": [
        "\n",
        "f=738 M=2101 N=4096 fEst=[ 737.99286689] error=[ 0.00713311]"
       ]
      },
      {
       "output_type": "stream",
       "stream": "stdout",
       "text": [
        "\n",
        "f=739 M=2101 N=4096 fEst=[ 738.98439622] error=[ 0.01560378]"
       ]
      },
      {
       "output_type": "stream",
       "stream": "stdout",
       "text": [
        "\n",
        "f=740 M=2101 N=4096 fEst=[ 739.9827044] error=[ 0.0172956]\n",
        "f=741 M=2101 N=4096 fEst=[ 740.98604983] error=[ 0.01395017]"
       ]
      },
      {
       "output_type": "stream",
       "stream": "stdout",
       "text": [
        "\n",
        "f=742 M=2101 N=4096 fEst=[ 741.99269192] error=[ 0.00730808]"
       ]
      },
      {
       "output_type": "stream",
       "stream": "stdout",
       "text": [
        "\n",
        "f=743 M=2101 N=4096 fEst=[ 743.00089076] error=[-0.00089076]"
       ]
      },
      {
       "output_type": "stream",
       "stream": "stdout",
       "text": [
        "\n",
        "f=744 M=2101 N=4096 fEst=[ 744.0089068] error=[-0.0089068]"
       ]
      },
      {
       "output_type": "stream",
       "stream": "stdout",
       "text": [
        "\n",
        "f=745 M=2101 N=4096 fEst=[ 745.01500047] error=[-0.01500047]"
       ]
      },
      {
       "output_type": "stream",
       "stream": "stdout",
       "text": [
        "\n",
        "f=746 M=2101 N=4096 fEst=[ 746.01743191] error=[-0.01743191]\n",
        "f=747 M=2101 N=4096 fEst=[ 747.01446056] error=[-0.01446056]"
       ]
      },
      {
       "output_type": "stream",
       "stream": "stdout",
       "text": [
        "\n",
        "f=748 M=2101 N=4096 fEst=[ 748.00434488] error=[-0.00434488]"
       ]
      },
      {
       "output_type": "stream",
       "stream": "stdout",
       "text": [
        "\n",
        "f=749 M=2101 N=4096 fEst=[ 748.99021518] error=[ 0.00978482]"
       ]
      },
      {
       "output_type": "stream",
       "stream": "stdout",
       "text": [
        "\n",
        "f=750 M=2101 N=4096 fEst=[ 749.98347071] error=[ 0.01652929]"
       ]
      },
      {
       "output_type": "stream",
       "stream": "stdout",
       "text": [
        "\n",
        "f=751 M=2101 N=4096 fEst=[ 750.98309868] error=[ 0.01690132]"
       ]
      },
      {
       "output_type": "stream",
       "stream": "stdout",
       "text": [
        "\n",
        "f=752 M=2101 N=4096 fEst=[ 751.98735836] error=[ 0.01264164]\n",
        "f=753 M=2101 N=4096 fEst=[ 752.9945099] error=[ 0.0054901]"
       ]
      },
      {
       "output_type": "stream",
       "stream": "stdout",
       "text": [
        "\n",
        "f=754 M=2101 N=4096 fEst=[ 754.00281401] error=[-0.00281401]"
       ]
      },
      {
       "output_type": "stream",
       "stream": "stdout",
       "text": [
        "\n",
        "f=755 M=2101 N=4096 fEst=[ 755.01053155] error=[-0.01053155]"
       ]
      },
      {
       "output_type": "stream",
       "stream": "stdout",
       "text": [
        "\n",
        "f=756 M=2101 N=4096 fEst=[ 756.01592324] error=[-0.01592324]"
       ]
      },
      {
       "output_type": "stream",
       "stream": "stdout",
       "text": [
        "\n",
        "f=757 M=2101 N=4096 fEst=[ 757.01724928] error=[-0.01724928]\n",
        "f=758 M=2101 N=4096 fEst=[ 758.01276902] error=[-0.01276902]"
       ]
      },
      {
       "output_type": "stream",
       "stream": "stdout",
       "text": [
        "\n",
        "f=759 M=2101 N=4096 fEst=[ 759.00074059] error=[-0.00074059]"
       ]
      },
      {
       "output_type": "stream",
       "stream": "stdout",
       "text": [
        "\n",
        "f=760 M=2101 N=4096 fEst=[ 759.98796214] error=[ 0.01203786]"
       ]
      },
      {
       "output_type": "stream",
       "stream": "stdout",
       "text": [
        "\n",
        "f=761 M=2101 N=4096 fEst=[ 760.98287221] error=[ 0.01712779]"
       ]
      },
      {
       "output_type": "stream",
       "stream": "stdout",
       "text": [
        "\n",
        "f=762 M=2101 N=4096 fEst=[ 761.98374782] error=[ 0.01625218]"
       ]
      },
      {
       "output_type": "stream",
       "stream": "stdout",
       "text": [
        "\n",
        "f=763 M=2101 N=4096 fEst=[ 762.9888479] error=[ 0.0111521]\n",
        "f=764 M=2101 N=4096 fEst=[ 763.99643227] error=[ 0.00356773]"
       ]
      },
      {
       "output_type": "stream",
       "stream": "stdout",
       "text": [
        "\n",
        "f=765 M=2101 N=4096 fEst=[ 765.00476129] error=[-0.00476129]"
       ]
      },
      {
       "output_type": "stream",
       "stream": "stdout",
       "text": [
        "\n",
        "f=766 M=2101 N=4096 fEst=[ 766.01209549] error=[-0.01209549]"
       ]
      },
      {
       "output_type": "stream",
       "stream": "stdout",
       "text": [
        "\n",
        "f=767 M=2101 N=4096 fEst=[ 767.01669527] error=[-0.01669527]"
       ]
      },
      {
       "output_type": "stream",
       "stream": "stdout",
       "text": [
        "\n",
        "f=768 M=2101 N=4096 fEst=[ 768.01682052] error=[-0.01682052]\n",
        "f=769 M=2101 N=4096 fEst=[ 769.01073032] error=[-0.01073032]"
       ]
      },
      {
       "output_type": "stream",
       "stream": "stdout",
       "text": [
        "\n",
        "f=770 M=2101 N=4096 fEst=[ 769.9970135] error=[ 0.0029865]"
       ]
      },
      {
       "output_type": "stream",
       "stream": "stdout",
       "text": [
        "\n",
        "f=771 M=2101 N=4096 fEst=[ 770.98615959] error=[ 0.01384041]"
       ]
      },
      {
       "output_type": "stream",
       "stream": "stdout",
       "text": [
        "\n",
        "f=772 M=2101 N=4096 fEst=[ 771.98260696] error=[ 0.01739304]"
       ]
      },
      {
       "output_type": "stream",
       "stream": "stdout",
       "text": [
        "\n",
        "f=773 M=2101 N=4096 fEst=[ 772.98461426] error=[ 0.01538574]"
       ]
      },
      {
       "output_type": "stream",
       "stream": "stdout",
       "text": [
        "\n",
        "f=774 M=2101 N=4096 fEst=[ 773.99044115] error=[ 0.00955885]\n",
        "f=775 M=2101 N=4096 fEst=[ 774.99834804] error=[ 0.00165196]"
       ]
      },
      {
       "output_type": "stream",
       "stream": "stdout",
       "text": [
        "\n",
        "f=776 M=2101 N=4096 fEst=[ 776.00659571] error=[-0.00659571]"
       ]
      },
      {
       "output_type": "stream",
       "stream": "stdout",
       "text": [
        "\n",
        "f=777 M=2101 N=4096 fEst=[ 777.01344494] error=[-0.01344494]"
       ]
      },
      {
       "output_type": "stream",
       "stream": "stdout",
       "text": [
        "\n",
        "f=778 M=2101 N=4096 fEst=[ 778.01715622] error=[-0.01715622]"
       ]
      },
      {
       "output_type": "stream",
       "stream": "stdout",
       "text": [
        "\n",
        "f=779 M=2101 N=4096 fEst=[ 779.01598932] error=[-0.01598932]\n",
        "f=780 M=2101 N=4096 fEst=[ 780.00820303] error=[-0.00820303]"
       ]
      },
      {
       "output_type": "stream",
       "stream": "stdout",
       "text": [
        "\n",
        "f=781 M=2101 N=4096 fEst=[ 780.9937194] error=[ 0.0062806]"
       ]
      },
      {
       "output_type": "stream",
       "stream": "stdout",
       "text": [
        "\n",
        "f=782 M=2101 N=4096 fEst=[ 781.98473618] error=[ 0.01526382]"
       ]
      },
      {
       "output_type": "stream",
       "stream": "stdout",
       "text": [
        "\n",
        "f=783 M=2101 N=4096 fEst=[ 782.98264709] error=[ 0.01735291]"
       ]
      },
      {
       "output_type": "stream",
       "stream": "stdout",
       "text": [
        "\n",
        "f=784 M=2101 N=4096 fEst=[ 783.98571055] error=[ 0.01428945]"
       ]
      },
      {
       "output_type": "stream",
       "stream": "stdout",
       "text": [
        "\n",
        "f=785 M=2101 N=4096 fEst=[ 784.99218598] error=[ 0.00781402]\n",
        "f=786 M=2101 N=4096 fEst=[ 786.00033354] error=[-0.00033354]"
       ]
      },
      {
       "output_type": "stream",
       "stream": "stdout",
       "text": [
        "\n",
        "f=787 M=2101 N=4096 fEst=[ 787.00841377] error=[-0.00841377]"
       ]
      },
      {
       "output_type": "stream",
       "stream": "stdout",
       "text": [
        "\n",
        "f=788 M=2101 N=4096 fEst=[ 788.01468721] error=[-0.01468721]"
       ]
      },
      {
       "output_type": "stream",
       "stream": "stdout",
       "text": [
        "\n",
        "f=789 M=2101 N=4096 fEst=[ 789.01741413] error=[-0.01741413]"
       ]
      },
      {
       "output_type": "stream",
       "stream": "stdout",
       "text": [
        "\n",
        "f=790 M=2101 N=4096 fEst=[ 790.01485412] error=[-0.01485412]\n",
        "f=791 M=2101 N=4096 fEst=[ 791.00526581] error=[-0.00526581]"
       ]
      },
      {
       "output_type": "stream",
       "stream": "stdout",
       "text": [
        "\n",
        "f=792 M=2101 N=4096 fEst=[ 791.99092416] error=[ 0.00907584]"
       ]
      },
      {
       "output_type": "stream",
       "stream": "stdout",
       "text": [
        "\n",
        "f=793 M=2101 N=4096 fEst=[ 792.98369575] error=[ 0.01630425]"
       ]
      },
      {
       "output_type": "stream",
       "stream": "stdout",
       "text": [
        "\n",
        "f=794 M=2101 N=4096 fEst=[ 793.98295576] error=[ 0.01704424]"
       ]
      },
      {
       "output_type": "stream",
       "stream": "stdout",
       "text": [
        "\n",
        "f=795 M=2101 N=4096 fEst=[ 794.98696333] error=[ 0.01303667]\n",
        "f=796 M=2101 N=4096 fEst=[ 795.99397845] error=[ 0.00602155]"
       ]
      },
      {
       "output_type": "stream",
       "stream": "stdout",
       "text": [
        "\n",
        "f=797 M=2101 N=4096 fEst=[ 797.00226171] error=[-0.00226171]"
       ]
      },
      {
       "output_type": "stream",
       "stream": "stdout",
       "text": [
        "\n",
        "f=798 M=2101 N=4096 fEst=[ 798.01007388] error=[-0.01007388]"
       ]
      },
      {
       "output_type": "stream",
       "stream": "stdout",
       "text": [
        "\n",
        "f=799 M=2101 N=4096 fEst=[ 799.01567561] error=[-0.01567561]"
       ]
      },
      {
       "output_type": "stream",
       "stream": "stdout",
       "text": [
        "\n",
        "f=800 M=2101 N=4096 fEst=[ 800.01732705] error=[-0.01732705]"
       ]
      },
      {
       "output_type": "stream",
       "stream": "stdout",
       "text": [
        "\n",
        "f=801 M=2101 N=4096 fEst=[ 801.01328751] error=[-0.01328751]\n",
        "f=802 M=2101 N=4096 fEst=[ 802.00181517] error=[-0.00181517]"
       ]
      },
      {
       "output_type": "stream",
       "stream": "stdout",
       "text": [
        "\n",
        "f=803 M=2101 N=4096 fEst=[ 802.9885603] error=[ 0.0114397]"
       ]
      },
      {
       "output_type": "stream",
       "stream": "stdout",
       "text": [
        "\n",
        "f=804 M=2101 N=4096 fEst=[ 803.9830115] error=[ 0.0169885]"
       ]
      },
      {
       "output_type": "stream",
       "stream": "stdout",
       "text": [
        "\n",
        "f=805 M=2101 N=4096 fEst=[ 804.98354358] error=[ 0.01645642]"
       ]
      },
      {
       "output_type": "stream",
       "stream": "stdout",
       "text": [
        "\n",
        "f=806 M=2101 N=4096 fEst=[ 805.98841552] error=[ 0.01158448]\n",
        "f=807 M=2101 N=4096 fEst=[ 806.99588717] error=[ 0.00411283]"
       ]
      },
      {
       "output_type": "stream",
       "stream": "stdout",
       "text": [
        "\n",
        "f=808 M=2101 N=4096 fEst=[ 808.00421895] error=[-0.00421895]"
       ]
      },
      {
       "output_type": "stream",
       "stream": "stdout",
       "text": [
        "\n",
        "f=809 M=2101 N=4096 fEst=[ 809.01167148] error=[-0.01167148]"
       ]
      },
      {
       "output_type": "stream",
       "stream": "stdout",
       "text": [
        "\n",
        "f=810 M=2101 N=4096 fEst=[ 810.01650528] error=[-0.01650528]"
       ]
      },
      {
       "output_type": "stream",
       "stream": "stdout",
       "text": [
        "\n",
        "f=811 M=2101 N=4096 fEst=[ 811.01698036] error=[-0.01698036]\n",
        "f=812 M=2101 N=4096 fEst=[ 812.01135596] error=[-0.01135596]"
       ]
      },
      {
       "output_type": "stream",
       "stream": "stdout",
       "text": [
        "\n",
        "f=813 M=2101 N=4096 fEst=[ 812.99802861] error=[ 0.00197139]"
       ]
      },
      {
       "output_type": "stream",
       "stream": "stdout",
       "text": [
        "\n",
        "f=814 M=2101 N=4096 fEst=[ 813.98662902] error=[ 0.01337098]\n",
        "f=815 M=2101 N=4096 fEst=[ 814.98264672] error=[ 0.01735328]"
       ]
      },
      {
       "output_type": "stream",
       "stream": "stdout",
       "text": [
        "\n",
        "f=816 M=2101 N=4096 fEst=[ 815.98434017] error=[ 0.01565983]"
       ]
      },
      {
       "output_type": "stream",
       "stream": "stdout",
       "text": [
        "\n",
        "f=817 M=2101 N=4096 fEst=[ 816.98996893] error=[ 0.01003107]"
       ]
      },
      {
       "output_type": "stream",
       "stream": "stdout",
       "text": [
        "\n",
        "f=818 M=2101 N=4096 fEst=[ 817.99779325] error=[ 0.00220675]"
       ]
      },
      {
       "output_type": "stream",
       "stream": "stdout",
       "text": [
        "\n",
        "f=819 M=2101 N=4096 fEst=[ 819.00607382] error=[-0.00607382]"
       ]
      },
      {
       "output_type": "stream",
       "stream": "stdout",
       "text": [
        "\n",
        "f=820 M=2101 N=4096 fEst=[ 820.01307134] error=[-0.01307134]\n",
        "f=821 M=2101 N=4096 fEst=[ 821.01704624] error=[-0.01704624]"
       ]
      },
      {
       "output_type": "stream",
       "stream": "stdout",
       "text": [
        "\n",
        "f=822 M=2101 N=4096 fEst=[ 822.01625829] error=[-0.01625829]"
       ]
      },
      {
       "output_type": "stream",
       "stream": "stdout",
       "text": [
        "\n",
        "f=823 M=2101 N=4096 fEst=[ 823.00896627] error=[-0.00896627]"
       ]
      },
      {
       "output_type": "stream",
       "stream": "stdout",
       "text": [
        "\n",
        "f=824 M=2101 N=4096 fEst=[ 823.9946087] error=[ 0.0053913]"
       ]
      },
      {
       "output_type": "stream",
       "stream": "stdout",
       "text": [
        "\n",
        "f=825 M=2101 N=4096 fEst=[ 824.98510495] error=[ 0.01489505]"
       ]
      },
      {
       "output_type": "stream",
       "stream": "stdout",
       "text": [
        "\n",
        "f=826 M=2101 N=4096 fEst=[ 825.98261078] error=[ 0.01738922]"
       ]
      },
      {
       "output_type": "stream",
       "stream": "stdout",
       "text": [
        "\n",
        "f=827 M=2101 N=4096 fEst=[ 826.98538457] error=[ 0.01461543]\n",
        "f=828 M=2101 N=4096 fEst=[ 827.99168581] error=[ 0.00831419]"
       ]
      },
      {
       "output_type": "stream",
       "stream": "stdout",
       "text": [
        "\n",
        "f=829 M=2101 N=4096 fEst=[ 828.99977468] error=[ 0.00022532]"
       ]
      },
      {
       "output_type": "stream",
       "stream": "stdout",
       "text": [
        "\n",
        "f=830 M=2101 N=4096 fEst=[ 830.00791179] error=[-0.00791179]"
       ]
      },
      {
       "output_type": "stream",
       "stream": "stdout",
       "text": [
        "\n",
        "f=831 M=2101 N=4096 fEst=[ 831.01435779] error=[-0.01435779]"
       ]
      },
      {
       "output_type": "stream",
       "stream": "stdout",
       "text": [
        "\n",
        "f=832 M=2101 N=4096 fEst=[ 832.01737303] error=[-0.01737303]"
       ]
      },
      {
       "output_type": "stream",
       "stream": "stdout",
       "text": [
        "\n",
        "f=833 M=2101 N=4096 fEst=[ 833.01521726] error=[-0.01521726]\n",
        "f=834 M=2101 N=4096 fEst=[ 834.0061492] error=[-0.0061492]"
       ]
      },
      {
       "output_type": "stream",
       "stream": "stdout",
       "text": [
        "\n",
        "f=835 M=2101 N=4096 fEst=[ 834.99167085] error=[ 0.00832915]"
       ]
      },
      {
       "output_type": "stream",
       "stream": "stdout",
       "text": [
        "\n",
        "f=836 M=2101 N=4096 fEst=[ 835.98395102] error=[ 0.01604898]"
       ]
      },
      {
       "output_type": "stream",
       "stream": "stdout",
       "text": [
        "\n",
        "f=837 M=2101 N=4096 fEst=[ 836.98283548] error=[ 0.01716452]"
       ]
      },
      {
       "output_type": "stream",
       "stream": "stdout",
       "text": [
        "\n",
        "f=838 M=2101 N=4096 fEst=[ 837.98658319] error=[ 0.01341681]\n",
        "f=839 M=2101 N=4096 fEst=[ 838.99345403] error=[ 0.00654597]"
       ]
      },
      {
       "output_type": "stream",
       "stream": "stdout",
       "text": [
        "\n",
        "f=840 M=2101 N=4096 fEst=[ 840.00170848] error=[-0.00170848]"
       ]
      },
      {
       "output_type": "stream",
       "stream": "stdout",
       "text": [
        "\n",
        "f=841 M=2101 N=4096 fEst=[ 841.00960722] error=[-0.00960722]"
       ]
      },
      {
       "output_type": "stream",
       "stream": "stdout",
       "text": [
        "\n",
        "f=842 M=2101 N=4096 fEst=[ 842.01541084] error=[-0.01541084]"
       ]
      },
      {
       "output_type": "stream",
       "stream": "stdout",
       "text": [
        "\n",
        "f=843 M=2101 N=4096 fEst=[ 843.01737947] error=[-0.01737947]\n",
        "f=844 M=2101 N=4096 fEst=[ 844.01377244] error=[-0.01377244]"
       ]
      },
      {
       "output_type": "stream",
       "stream": "stdout",
       "text": [
        "\n",
        "f=845 M=2101 N=4096 fEst=[ 845.00284795] error=[-0.00284795]"
       ]
      },
      {
       "output_type": "stream",
       "stream": "stdout",
       "text": [
        "\n",
        "f=846 M=2101 N=4096 fEst=[ 845.98919147] error=[ 0.01080853]"
       ]
      },
      {
       "output_type": "stream",
       "stream": "stdout",
       "text": [
        "\n",
        "f=847 M=2101 N=4096 fEst=[ 846.98317597] error=[ 0.01682403]"
       ]
      },
      {
       "output_type": "stream",
       "stream": "stdout",
       "text": [
        "\n",
        "f=848 M=2101 N=4096 fEst=[ 847.98335686] error=[ 0.01664314]"
       ]
      },
      {
       "output_type": "stream",
       "stream": "stdout",
       "text": [
        "\n",
        "f=849 M=2101 N=4096 fEst=[ 848.9879931] error=[ 0.0120069]\n",
        "f=850 M=2101 N=4096 fEst=[ 849.99534459] error=[ 0.00465541]"
       ]
      },
      {
       "output_type": "stream",
       "stream": "stdout",
       "text": [
        "\n",
        "f=851 M=2101 N=4096 fEst=[ 851.00367179] error=[-0.00367179]"
       ]
      },
      {
       "output_type": "stream",
       "stream": "stdout",
       "text": [
        "\n",
        "f=852 M=2101 N=4096 fEst=[ 852.01123541] error=[-0.01123541]"
       ]
      },
      {
       "output_type": "stream",
       "stream": "stdout",
       "text": [
        "\n",
        "f=853 M=2101 N=4096 fEst=[ 853.01629603] error=[-0.01629603]"
       ]
      },
      {
       "output_type": "stream",
       "stream": "stdout",
       "text": [
        "\n",
        "f=854 M=2101 N=4096 fEst=[ 854.01711378] error=[-0.01711378]\n",
        "f=855 M=2101 N=4096 fEst=[ 855.01194801] error=[-0.01194801]"
       ]
      },
      {
       "output_type": "stream",
       "stream": "stdout",
       "text": [
        "\n",
        "f=856 M=2101 N=4096 fEst=[ 855.99908544] error=[ 0.00091456]"
       ]
      },
      {
       "output_type": "stream",
       "stream": "stdout",
       "text": [
        "\n",
        "f=857 M=2101 N=4096 fEst=[ 856.98713268] error=[ 0.01286732]"
       ]
      },
      {
       "output_type": "stream",
       "stream": "stdout",
       "text": [
        "\n",
        "f=858 M=2101 N=4096 fEst=[ 857.98271309] error=[ 0.01728691]"
       ]
      },
      {
       "output_type": "stream",
       "stream": "stdout",
       "text": [
        "\n",
        "f=859 M=2101 N=4096 fEst=[ 858.98408498] error=[ 0.01591502]"
       ]
      },
      {
       "output_type": "stream",
       "stream": "stdout",
       "text": [
        "\n",
        "f=860 M=2101 N=4096 fEst=[ 859.98950775] error=[ 0.01049225]\n",
        "f=861 M=2101 N=4096 fEst=[ 860.99724156] error=[ 0.00275844]"
       ]
      },
      {
       "output_type": "stream",
       "stream": "stdout",
       "text": [
        "\n",
        "f=862 M=2101 N=4096 fEst=[ 862.00554699] error=[-0.00554699]"
       ]
      },
      {
       "output_type": "stream",
       "stream": "stdout",
       "text": [
        "\n",
        "f=863 M=2101 N=4096 fEst=[ 863.01268471] error=[-0.01268471]"
       ]
      },
      {
       "output_type": "stream",
       "stream": "stdout",
       "text": [
        "\n",
        "f=864 M=2101 N=4096 fEst=[ 864.01691509] error=[-0.01691509]"
       ]
      },
      {
       "output_type": "stream",
       "stream": "stdout",
       "text": [
        "\n",
        "f=865 M=2101 N=4096 fEst=[ 865.01649791] error=[-0.01649791]"
       ]
      },
      {
       "output_type": "stream",
       "stream": "stdout",
       "text": [
        "\n",
        "f=866 M=2101 N=4096 fEst=[ 866.00969199] error=[-0.00969199]"
       ]
      },
      {
       "output_type": "stream",
       "stream": "stdout",
       "text": [
        "\n",
        "f=867 M=2101 N=4096 fEst=[ 866.99553519] error=[ 0.00446481]"
       ]
      },
      {
       "output_type": "stream",
       "stream": "stdout",
       "text": [
        "\n",
        "f=868 M=2101 N=4096 fEst=[ 867.98550311] error=[ 0.01449689]\n",
        "f=869 M=2101 N=4096 fEst=[ 868.98259616] error=[ 0.01740384]"
       ]
      },
      {
       "output_type": "stream",
       "stream": "stdout",
       "text": [
        "\n",
        "f=870 M=2101 N=4096 fEst=[ 869.98507274] error=[ 0.01492726]"
       ]
      },
      {
       "output_type": "stream",
       "stream": "stdout",
       "text": [
        "\n",
        "f=871 M=2101 N=4096 fEst=[ 870.99119232] error=[ 0.00880768]"
       ]
      },
      {
       "output_type": "stream",
       "stream": "stdout",
       "text": [
        "\n",
        "f=872 M=2101 N=4096 fEst=[ 871.99921513] error=[ 0.00078487]"
       ]
      },
      {
       "output_type": "stream",
       "stream": "stdout",
       "text": [
        "\n",
        "f=873 M=2101 N=4096 fEst=[ 873.00740184] error=[-0.00740184]"
       ]
      },
      {
       "output_type": "stream",
       "stream": "stdout",
       "text": [
        "\n",
        "f=874 M=2101 N=4096 fEst=[ 874.01401315] error=[-0.01401315]\n",
        "f=875 M=2101 N=4096 fEst=[ 875.01730952] error=[-0.01730952]"
       ]
      },
      {
       "output_type": "stream",
       "stream": "stdout",
       "text": [
        "\n",
        "f=876 M=2101 N=4096 fEst=[ 876.01555076] error=[-0.01555076]\n",
        "f=877 M=2101 N=4096 fEst=[ 877.00699572] error=[-0.00699572]"
       ]
      },
      {
       "output_type": "stream",
       "stream": "stdout",
       "text": [
        "\n",
        "f=878 M=2101 N=4096 fEst=[ 877.99245578] error=[ 0.00754422]"
       ]
      },
      {
       "output_type": "stream",
       "stream": "stdout",
       "text": [
        "\n",
        "f=879 M=2101 N=4096 fEst=[ 878.98423692] error=[ 0.01576308]"
       ]
      },
      {
       "output_type": "stream",
       "stream": "stdout",
       "text": [
        "\n",
        "f=880 M=2101 N=4096 fEst=[ 879.98273808] error=[ 0.01726192]"
       ]
      },
      {
       "output_type": "stream",
       "stream": "stdout",
       "text": [
        "\n",
        "f=881 M=2101 N=4096 fEst=[ 880.98621811] error=[ 0.01378189]"
       ]
      },
      {
       "output_type": "stream",
       "stream": "stdout",
       "text": [
        "\n",
        "f=882 M=2101 N=4096 fEst=[ 881.99293675] error=[ 0.00706325]"
       ]
      },
      {
       "output_type": "stream",
       "stream": "stdout",
       "text": [
        "\n",
        "f=883 M=2101 N=4096 fEst=[ 883.00115438] error=[-0.00115438]"
       ]
      },
      {
       "output_type": "stream",
       "stream": "stdout",
       "text": [
        "\n",
        "f=884 M=2101 N=4096 fEst=[ 884.00913163] error=[-0.00913163]"
       ]
      },
      {
       "output_type": "stream",
       "stream": "stdout",
       "text": [
        "\n",
        "f=885 M=2101 N=4096 fEst=[ 885.01512905] error=[-0.01512905]\n",
        "f=886 M=2101 N=4096 fEst=[ 886.01740675] error=[-0.01740675]"
       ]
      },
      {
       "output_type": "stream",
       "stream": "stdout",
       "text": [
        "\n",
        "f=887 M=2101 N=4096 fEst=[ 887.01422411] error=[-0.01422411]"
       ]
      },
      {
       "output_type": "stream",
       "stream": "stdout",
       "text": [
        "\n",
        "f=888 M=2101 N=4096 fEst=[ 888.00383938] error=[-0.00383938]"
       ]
      },
      {
       "output_type": "stream",
       "stream": "stdout",
       "text": [
        "\n",
        "f=889 M=2101 N=4096 fEst=[ 888.98985621] error=[ 0.01014379]"
       ]
      },
      {
       "output_type": "stream",
       "stream": "stdout",
       "text": [
        "\n",
        "f=890 M=2101 N=4096 fEst=[ 889.98336633] error=[ 0.01663367]"
       ]
      },
      {
       "output_type": "stream",
       "stream": "stdout",
       "text": [
        "\n",
        "f=891 M=2101 N=4096 fEst=[ 890.98318844] error=[ 0.01681156]\n",
        "f=892 M=2101 N=4096 fEst=[ 891.98758152] error=[ 0.01241848]"
       ]
      },
      {
       "output_type": "stream",
       "stream": "stdout",
       "text": [
        "\n",
        "f=893 M=2101 N=4096 fEst=[ 892.99480545] error=[ 0.00519455]"
       ]
      },
      {
       "output_type": "stream",
       "stream": "stdout",
       "text": [
        "\n",
        "f=894 M=2101 N=4096 fEst=[ 894.00312076] error=[-0.00312076]"
       ]
      },
      {
       "output_type": "stream",
       "stream": "stdout",
       "text": [
        "\n",
        "f=895 M=2101 N=4096 fEst=[ 895.01078817] error=[-0.01078817]"
       ]
      },
      {
       "output_type": "stream",
       "stream": "stdout",
       "text": [
        "\n",
        "f=896 M=2101 N=4096 fEst=[ 896.01606837] error=[-0.01606837]"
       ]
      },
      {
       "output_type": "stream",
       "stream": "stdout",
       "text": [
        "\n",
        "f=897 M=2101 N=4096 fEst=[ 897.01722154] error=[-0.01722154]\n",
        "f=898 M=2101 N=4096 fEst=[ 898.01250711] error=[-0.01250711]"
       ]
      },
      {
       "output_type": "stream",
       "stream": "stdout",
       "text": [
        "\n",
        "f=899 M=2101 N=4096 fEst=[ 899.00018337] error=[-0.00018337]"
       ]
      },
      {
       "output_type": "stream",
       "stream": "stdout",
       "text": [
        "\n",
        "f=900 M=2101 N=4096 fEst=[ 899.98767098] error=[ 0.01232902]"
       ]
      },
      {
       "output_type": "stream",
       "stream": "stdout",
       "text": [
        "\n",
        "f=901 M=2101 N=4096 fEst=[ 900.98280637] error=[ 0.01719363]"
       ]
      },
      {
       "output_type": "stream",
       "stream": "stdout",
       "text": [
        "\n",
        "f=902 M=2101 N=4096 fEst=[ 901.98384886] error=[ 0.01615114]"
       ]
      },
      {
       "output_type": "stream",
       "stream": "stdout",
       "text": [
        "\n",
        "f=903 M=2101 N=4096 fEst=[ 902.98905774] error=[ 0.01094226]"
       ]
      },
      {
       "output_type": "stream",
       "stream": "stdout",
       "text": [
        "\n",
        "f=904 M=2101 N=4096 fEst=[ 903.99669307] error=[ 0.00330693]"
       ]
      },
      {
       "output_type": "stream",
       "stream": "stdout",
       "text": [
        "\n",
        "f=905 M=2101 N=4096 fEst=[ 905.00501535] error=[-0.00501535]"
       ]
      },
      {
       "output_type": "stream",
       "stream": "stdout",
       "text": [
        "\n",
        "f=906 M=2101 N=4096 fEst=[ 906.01228519] error=[-0.01228519]"
       ]
      },
      {
       "output_type": "stream",
       "stream": "stdout",
       "text": [
        "\n",
        "f=907 M=2101 N=4096 fEst=[ 907.01676297] error=[-0.01676297]"
       ]
      },
      {
       "output_type": "stream",
       "stream": "stdout",
       "text": [
        "\n",
        "f=908 M=2101 N=4096 fEst=[ 908.01670849] error=[-0.01670849]"
       ]
      },
      {
       "output_type": "stream",
       "stream": "stdout",
       "text": [
        "\n",
        "f=909 M=2101 N=4096 fEst=[ 909.01038064] error=[-0.01038064]\n",
        "f=910 M=2101 N=4096 fEst=[ 909.99649942] error=[ 0.00350058]"
       ]
      },
      {
       "output_type": "stream",
       "stream": "stdout",
       "text": [
        "\n",
        "f=911 M=2101 N=4096 fEst=[ 910.98593131] error=[ 0.01406869]"
       ]
      },
      {
       "output_type": "stream",
       "stream": "stdout",
       "text": [
        "\n",
        "f=912 M=2101 N=4096 fEst=[ 911.98260401] error=[ 0.01739599]"
       ]
      },
      {
       "output_type": "stream",
       "stream": "stdout",
       "text": [
        "\n",
        "f=913 M=2101 N=4096 fEst=[ 912.98477588] error=[ 0.01522412]"
       ]
      },
      {
       "output_type": "stream",
       "stream": "stdout",
       "text": [
        "\n",
        "f=914 M=2101 N=4096 fEst=[ 913.99070639] error=[ 0.00929361]"
       ]
      },
      {
       "output_type": "stream",
       "stream": "stdout",
       "text": [
        "\n",
        "f=915 M=2101 N=4096 fEst=[ 914.9986558] error=[ 0.0013442]"
       ]
      },
      {
       "output_type": "stream",
       "stream": "stdout",
       "text": [
        "\n",
        "f=916 M=2101 N=4096 fEst=[ 916.0068848] error=[-0.0068848]"
       ]
      },
      {
       "output_type": "stream",
       "stream": "stdout",
       "text": [
        "\n",
        "f=917 M=2101 N=4096 fEst=[ 917.01365414] error=[-0.01365414]"
       ]
      },
      {
       "output_type": "stream",
       "stream": "stdout",
       "text": [
        "\n",
        "f=918 M=2101 N=4096 fEst=[ 918.01722433] error=[-0.01722433]\n",
        "f=919 M=2101 N=4096 fEst=[ 919.01585526] error=[-0.01585526]"
       ]
      },
      {
       "output_type": "stream",
       "stream": "stdout",
       "text": [
        "\n",
        "f=920 M=2101 N=4096 fEst=[ 920.00780588] error=[-0.00780588]"
       ]
      },
      {
       "output_type": "stream",
       "stream": "stdout",
       "text": [
        "\n",
        "f=921 M=2101 N=4096 fEst=[ 920.99327938] error=[ 0.00672062]"
       ]
      },
      {
       "output_type": "stream",
       "stream": "stdout",
       "text": [
        "\n",
        "f=922 M=2101 N=4096 fEst=[ 921.98455375] error=[ 0.01544625]"
       ]
      },
      {
       "output_type": "stream",
       "stream": "stdout",
       "text": [
        "\n",
        "f=923 M=2101 N=4096 fEst=[ 922.98266381] error=[ 0.01733619]"
       ]
      },
      {
       "output_type": "stream",
       "stream": "stdout",
       "text": [
        "\n",
        "f=924 M=2101 N=4096 fEst=[ 923.98586826] error=[ 0.01413174]"
       ]
      },
      {
       "output_type": "stream",
       "stream": "stdout",
       "text": [
        "\n",
        "f=925 M=2101 N=4096 fEst=[ 924.99242674] error=[ 0.00757326]"
       ]
      },
      {
       "output_type": "stream",
       "stream": "stdout",
       "text": [
        "\n",
        "f=926 M=2101 N=4096 fEst=[ 926.00059956] error=[-0.00059956]"
       ]
      },
      {
       "output_type": "stream",
       "stream": "stdout",
       "text": [
        "\n",
        "f=927 M=2101 N=4096 fEst=[ 927.00864729] error=[-0.00864729]"
       ]
      },
      {
       "output_type": "stream",
       "stream": "stdout",
       "text": [
        "\n",
        "f=928 M=2101 N=4096 fEst=[ 928.01483046] error=[-0.01483046]"
       ]
      },
      {
       "output_type": "stream",
       "stream": "stdout",
       "text": [
        "\n",
        "f=929 M=2101 N=4096 fEst=[ 929.01740921] error=[-0.01740921]"
       ]
      },
      {
       "output_type": "stream",
       "stream": "stdout",
       "text": [
        "\n",
        "f=930 M=2101 N=4096 fEst=[ 930.01464295] error=[-0.01464295]"
       ]
      },
      {
       "output_type": "stream",
       "stream": "stdout",
       "text": [
        "\n",
        "f=931 M=2101 N=4096 fEst=[ 931.00479003] error=[-0.00479003]"
       ]
      },
      {
       "output_type": "stream",
       "stream": "stdout",
       "text": [
        "\n",
        "f=932 M=2101 N=4096 fEst=[ 931.99055514] error=[ 0.00944486]"
       ]
      },
      {
       "output_type": "stream",
       "stream": "stdout",
       "text": [
        "\n",
        "f=933 M=2101 N=4096 fEst=[ 932.9835833] error=[ 0.0164167]"
       ]
      },
      {
       "output_type": "stream",
       "stream": "stdout",
       "text": [
        "\n",
        "f=934 M=2101 N=4096 fEst=[ 933.98303914] error=[ 0.01696086]"
       ]
      },
      {
       "output_type": "stream",
       "stream": "stdout",
       "text": [
        "\n",
        "f=935 M=2101 N=4096 fEst=[ 934.98718161] error=[ 0.01281839]"
       ]
      },
      {
       "output_type": "stream",
       "stream": "stdout",
       "text": [
        "\n",
        "f=936 M=2101 N=4096 fEst=[ 935.99427062] error=[ 0.00572938]"
       ]
      },
      {
       "output_type": "stream",
       "stream": "stdout",
       "text": [
        "\n",
        "f=937 M=2101 N=4096 fEst=[ 937.00256669] error=[-0.00256669]"
       ]
      },
      {
       "output_type": "stream",
       "stream": "stdout",
       "text": [
        "\n",
        "f=938 M=2101 N=4096 fEst=[ 938.01033059] error=[-0.01033059]"
       ]
      },
      {
       "output_type": "stream",
       "stream": "stdout",
       "text": [
        "\n",
        "f=939 M=2101 N=4096 fEst=[ 939.01582303] error=[-0.01582303]\n",
        "f=940 M=2101 N=4096 fEst=[ 940.01730427] error=[-0.01730427]"
       ]
      },
      {
       "output_type": "stream",
       "stream": "stdout",
       "text": [
        "\n",
        "f=941 M=2101 N=4096 fEst=[ 941.01303379] error=[-0.01303379]"
       ]
      },
      {
       "output_type": "stream",
       "stream": "stdout",
       "text": [
        "\n",
        "f=942 M=2101 N=4096 fEst=[ 942.00126997] error=[-0.00126997]"
       ]
      },
      {
       "output_type": "stream",
       "stream": "stdout",
       "text": [
        "\n",
        "f=943 M=2101 N=4096 fEst=[ 942.98824426] error=[ 0.01175574]"
       ]
      },
      {
       "output_type": "stream",
       "stream": "stdout",
       "text": [
        "\n",
        "f=944 M=2101 N=4096 fEst=[ 943.98292681] error=[ 0.01707319]"
       ]
      },
      {
       "output_type": "stream",
       "stream": "stdout",
       "text": [
        "\n",
        "f=945 M=2101 N=4096 fEst=[ 944.98363204] error=[ 0.01636796]"
       ]
      },
      {
       "output_type": "stream",
       "stream": "stdout",
       "text": [
        "\n",
        "f=946 M=2101 N=4096 fEst=[ 945.98861909] error=[ 0.01138091]"
       ]
      },
      {
       "output_type": "stream",
       "stream": "stdout",
       "text": [
        "\n",
        "f=947 M=2101 N=4096 fEst=[ 946.99614796] error=[ 0.00385204]"
       ]
      },
      {
       "output_type": "stream",
       "stream": "stdout",
       "text": [
        "\n",
        "f=948 M=2101 N=4096 fEst=[ 948.00447907] error=[-0.00447907]"
       ]
      },
      {
       "output_type": "stream",
       "stream": "stdout",
       "text": [
        "\n",
        "f=949 M=2101 N=4096 fEst=[ 949.01187304] error=[-0.01187304]"
       ]
      },
      {
       "output_type": "stream",
       "stream": "stdout",
       "text": [
        "\n",
        "f=950 M=2101 N=4096 fEst=[ 950.01659022] error=[-0.01659022]"
       ]
      },
      {
       "output_type": "stream",
       "stream": "stdout",
       "text": [
        "\n",
        "f=951 M=2101 N=4096 fEst=[ 951.01689048] error=[-0.01689048]\n",
        "f=952 M=2101 N=4096 fEst=[ 952.01103276] error=[-0.01103276]"
       ]
      },
      {
       "output_type": "stream",
       "stream": "stdout",
       "text": [
        "\n",
        "f=953 M=2101 N=4096 fEst=[ 952.99750199] error=[ 0.00249801]"
       ]
      },
      {
       "output_type": "stream",
       "stream": "stdout",
       "text": [
        "\n",
        "f=954 M=2101 N=4096 fEst=[ 953.98639027] error=[ 0.01360973]"
       ]
      },
      {
       "output_type": "stream",
       "stream": "stdout",
       "text": [
        "\n",
        "f=955 M=2101 N=4096 fEst=[ 954.9826351] error=[ 0.0173649]"
       ]
      },
      {
       "output_type": "stream",
       "stream": "stdout",
       "text": [
        "\n",
        "f=956 M=2101 N=4096 fEst=[ 955.98449481] error=[ 0.01550519]"
       ]
      },
      {
       "output_type": "stream",
       "stream": "stdout",
       "text": [
        "\n",
        "f=957 M=2101 N=4096 fEst=[ 956.99022887] error=[ 0.00977113]"
       ]
      },
      {
       "output_type": "stream",
       "stream": "stdout",
       "text": [
        "\n",
        "f=958 M=2101 N=4096 fEst=[ 957.99809751] error=[ 0.00190249]"
       ]
      },
      {
       "output_type": "stream",
       "stream": "stdout",
       "text": [
        "\n",
        "f=959 M=2101 N=4096 fEst=[ 959.00636144] error=[-0.00636144]"
       ]
      },
      {
       "output_type": "stream",
       "stream": "stdout",
       "text": [
        "\n",
        "f=960 M=2101 N=4096 fEst=[ 960.01328146] error=[-0.01328146]"
       ]
      },
      {
       "output_type": "stream",
       "stream": "stdout",
       "text": [
        "\n",
        "f=961 M=2101 N=4096 fEst=[ 961.0171181] error=[-0.0171181]"
       ]
      },
      {
       "output_type": "stream",
       "stream": "stdout",
       "text": [
        "\n",
        "f=962 M=2101 N=4096 fEst=[ 962.01613131] error=[-0.01613131]"
       ]
      },
      {
       "output_type": "stream",
       "stream": "stdout",
       "text": [
        "\n",
        "f=963 M=2101 N=4096 fEst=[ 963.0085801] error=[-0.0085801]"
       ]
      },
      {
       "output_type": "stream",
       "stream": "stdout",
       "text": [
        "\n",
        "f=964 M=2101 N=4096 fEst=[ 963.99414202] error=[ 0.00585798]"
       ]
      },
      {
       "output_type": "stream",
       "stream": "stdout",
       "text": [
        "\n",
        "f=965 M=2101 N=4096 fEst=[ 964.98490181] error=[ 0.01509819]"
       ]
      },
      {
       "output_type": "stream",
       "stream": "stdout",
       "text": [
        "\n",
        "f=966 M=2101 N=4096 fEst=[ 965.98261289] error=[ 0.01738711]"
       ]
      },
      {
       "output_type": "stream",
       "stream": "stdout",
       "text": [
        "\n",
        "f=967 M=2101 N=4096 fEst=[ 966.98553384] error=[ 0.01446616]"
       ]
      },
      {
       "output_type": "stream",
       "stream": "stdout",
       "text": [
        "\n",
        "f=968 M=2101 N=4096 fEst=[ 967.99192421] error=[ 0.00807579]"
       ]
      },
      {
       "output_type": "stream",
       "stream": "stdout",
       "text": [
        "\n",
        "f=969 M=2101 N=4096 fEst=[ 969.00004424] error=[ -4.42378903e-05]\n",
        "f=970 M=2101 N=4096 fEst=[ 970.00815446] error=[-0.00815446]"
       ]
      },
      {
       "output_type": "stream",
       "stream": "stdout",
       "text": [
        "\n",
        "f=971 M=2101 N=4096 fEst=[ 971.01451542] error=[-0.01451542]"
       ]
      },
      {
       "output_type": "stream",
       "stream": "stdout",
       "text": [
        "\n",
        "f=972 M=2101 N=4096 fEst=[ 972.01738727] error=[-0.01738727]"
       ]
      },
      {
       "output_type": "stream",
       "stream": "stdout",
       "text": [
        "\n",
        "f=973 M=2101 N=4096 fEst=[ 973.0150295] error=[-0.0150295]"
       ]
      },
      {
       "output_type": "stream",
       "stream": "stdout",
       "text": [
        "\n",
        "f=974 M=2101 N=4096 fEst=[ 974.00570054] error=[-0.00570054]\n",
        "f=975 M=2101 N=4096 fEst=[ 974.99128898] error=[ 0.00871102]"
       ]
      },
      {
       "output_type": "stream",
       "stream": "stdout",
       "text": [
        "\n",
        "f=976 M=2101 N=4096 fEst=[ 975.98382764] error=[ 0.01617236]"
       ]
      },
      {
       "output_type": "stream",
       "stream": "stdout",
       "text": [
        "\n",
        "f=977 M=2101 N=4096 fEst=[ 976.98290974] error=[ 0.01709026]"
       ]
      },
      {
       "output_type": "stream",
       "stream": "stdout",
       "text": [
        "\n",
        "f=978 M=2101 N=4096 fEst=[ 977.9867942] error=[ 0.0132058]"
       ]
      },
      {
       "output_type": "stream",
       "stream": "stdout",
       "text": [
        "\n",
        "f=979 M=2101 N=4096 fEst=[ 978.9937409] error=[ 0.0062591]"
       ]
      },
      {
       "output_type": "stream",
       "stream": "stdout",
       "text": [
        "\n",
        "f=980 M=2101 N=4096 fEst=[ 980.00201036] error=[-0.00201036]"
       ]
      },
      {
       "output_type": "stream",
       "stream": "stdout",
       "text": [
        "\n",
        "f=981 M=2101 N=4096 fEst=[ 981.00986337] error=[-0.00986337]"
       ]
      },
      {
       "output_type": "stream",
       "stream": "stdout",
       "text": [
        "\n",
        "f=982 M=2101 N=4096 fEst=[ 982.01556066] error=[-0.01556066]"
       ]
      },
      {
       "output_type": "stream",
       "stream": "stdout",
       "text": [
        "\n",
        "f=983 M=2101 N=4096 fEst=[ 983.01736252] error=[-0.01736252]"
       ]
      },
      {
       "output_type": "stream",
       "stream": "stdout",
       "text": [
        "\n",
        "f=984 M=2101 N=4096 fEst=[ 984.0135285] error=[-0.0135285]"
       ]
      },
      {
       "output_type": "stream",
       "stream": "stdout",
       "text": [
        "\n",
        "f=985 M=2101 N=4096 fEst=[ 985.00231703] error=[-0.00231703]"
       ]
      },
      {
       "output_type": "stream",
       "stream": "stdout",
       "text": [
        "\n",
        "f=986 M=2101 N=4096 fEst=[ 985.98885283] error=[ 0.01114717]\n",
        "f=987 M=2101 N=4096 fEst=[ 986.98307468] error=[ 0.01692532]"
       ]
      },
      {
       "output_type": "stream",
       "stream": "stdout",
       "text": [
        "\n",
        "f=988 M=2101 N=4096 fEst=[ 987.98343472] error=[ 0.01656528]"
       ]
      },
      {
       "output_type": "stream",
       "stream": "stdout",
       "text": [
        "\n",
        "f=989 M=2101 N=4096 fEst=[ 988.98819201] error=[ 0.01180799]"
       ]
      },
      {
       "output_type": "stream",
       "stream": "stdout",
       "text": [
        "\n",
        "f=990 M=2101 N=4096 fEst=[ 989.99560646] error=[ 0.00439354]"
       ]
      },
      {
       "output_type": "stream",
       "stream": "stdout",
       "text": [
        "\n",
        "f=991 M=2101 N=4096 fEst=[ 991.00393846] error=[-0.00393846]\n",
        "f=992 M=2101 N=4096 fEst=[ 992.0114486] error=[-0.0114486]"
       ]
      },
      {
       "output_type": "stream",
       "stream": "stdout",
       "text": [
        "\n",
        "f=993 M=2101 N=4096 fEst=[ 993.01639727] error=[-0.01639727]"
       ]
      },
      {
       "output_type": "stream",
       "stream": "stdout",
       "text": [
        "\n",
        "f=994 M=2101 N=4096 fEst=[ 994.01704438] error=[-0.01704438]"
       ]
      },
      {
       "output_type": "stream",
       "stream": "stdout",
       "text": [
        "\n",
        "f=995 M=2101 N=4096 fEst=[ 995.01164897] error=[-0.01164897]"
       ]
      },
      {
       "output_type": "stream",
       "stream": "stdout",
       "text": [
        "\n",
        "f=996 M=2101 N=4096 fEst=[ 995.9985436] error=[ 0.0014564]"
       ]
      },
      {
       "output_type": "stream",
       "stream": "stdout",
       "text": [
        "\n",
        "f=997 M=2101 N=4096 fEst=[ 996.98688073] error=[ 0.01311927]"
       ]
      },
      {
       "output_type": "stream",
       "stream": "stdout",
       "text": [
        "\n",
        "f=998 M=2101 N=4096 fEst=[ 997.98269021] error=[ 0.01730979]"
       ]
      },
      {
       "output_type": "stream",
       "stream": "stdout",
       "text": [
        "\n",
        "f=999 M=2101 N=4096 fEst=[ 998.98423034] error=[ 0.01576966]"
       ]
      },
      {
       "output_type": "stream",
       "stream": "stdout",
       "text": [
        "\n",
        "f=1000 M=2101 N=4096 fEst=[ 999.98976053] error=[ 0.01023947]\n",
        "f=1001 M=2101 N=4096 fEst=[ 1000.99754101] error=[ 0.00245899]"
       ]
      },
      {
       "output_type": "stream",
       "stream": "stdout",
       "text": [
        "\n",
        "f=1002 M=2101 N=4096 fEst=[ 1002.00583249] error=[-0.00583249]"
       ]
      },
      {
       "output_type": "stream",
       "stream": "stdout",
       "text": [
        "\n",
        "f=1003 M=2101 N=4096 fEst=[ 1003.01289576] error=[-0.01289576]"
       ]
      },
      {
       "output_type": "stream",
       "stream": "stdout",
       "text": [
        "\n",
        "f=1004 M=2101 N=4096 fEst=[ 1004.01699139] error=[-0.01699139]"
       ]
      },
      {
       "output_type": "stream",
       "stream": "stdout",
       "text": [
        "\n",
        "f=1005 M=2101 N=4096 fEst=[ 1005.01637936] error=[-0.01637936]"
       ]
      },
      {
       "output_type": "stream",
       "stream": "stdout",
       "text": [
        "\n",
        "f=1006 M=2101 N=4096 fEst=[ 1006.00931874] error=[-0.00931874]"
       ]
      },
      {
       "output_type": "stream",
       "stream": "stdout",
       "text": [
        "\n",
        "f=1007 M=2101 N=4096 fEst=[ 1006.99504402] error=[ 0.00495598]"
       ]
      },
      {
       "output_type": "stream",
       "stream": "stdout",
       "text": [
        "\n",
        "f=1008 M=2101 N=4096 fEst=[ 1007.98528135] error=[ 0.01471865]\n",
        "f=1009 M=2101 N=4096 fEst=[ 1008.98258556] error=[ 0.01741444]"
       ]
      },
      {
       "output_type": "stream",
       "stream": "stdout",
       "text": [
        "\n",
        "f=1010 M=2101 N=4096 fEst=[ 1009.98521508] error=[ 0.01478492]"
       ]
      },
      {
       "output_type": "stream",
       "stream": "stdout",
       "text": [
        "\n",
        "f=1011 M=2101 N=4096 fEst=[ 1010.99142941] error=[ 0.00857059]"
       ]
      },
      {
       "output_type": "stream",
       "stream": "stdout",
       "text": [
        "\n",
        "f=1012 M=2101 N=4096 fEst=[ 1011.9994887] error=[ 0.0005113]"
       ]
      },
      {
       "output_type": "stream",
       "stream": "stdout",
       "text": [
        "\n",
        "f=1013 M=2101 N=4096 fEst=[ 1013.00765351] error=[-0.00765351]"
       ]
      },
      {
       "output_type": "stream",
       "stream": "stdout",
       "text": [
        "\n",
        "f=1014 M=2101 N=4096 fEst=[ 1014.01418435] error=[-0.01418435]"
       ]
      },
      {
       "output_type": "stream",
       "stream": "stdout",
       "text": [
        "\n",
        "f=1015 M=2101 N=4096 fEst=[ 1015.01734145] error=[-0.01734145]\n",
        "f=1016 M=2101 N=4096 fEst=[ 1016.01538434] error=[-0.01538434]"
       ]
      },
      {
       "output_type": "stream",
       "stream": "stdout",
       "text": [
        "\n",
        "f=1017 M=2101 N=4096 fEst=[ 1017.00657159] error=[-0.00657159]"
       ]
      },
      {
       "output_type": "stream",
       "stream": "stdout",
       "text": [
        "\n",
        "f=1018 M=2101 N=4096 fEst=[ 1017.99205843] error=[ 0.00794157]"
       ]
      },
      {
       "output_type": "stream",
       "stream": "stdout",
       "text": [
        "\n",
        "f=1019 M=2101 N=4096 fEst=[ 1018.98410012] error=[ 0.01589988]"
       ]
      },
      {
       "output_type": "stream",
       "stream": "stdout",
       "text": [
        "\n",
        "f=1020 M=2101 N=4096 fEst=[ 1019.98280103] error=[ 0.01719897]"
       ]
      },
      {
       "output_type": "stream",
       "stream": "stdout",
       "text": [
        "\n",
        "f=1021 M=2101 N=4096 fEst=[ 1020.98642006] error=[ 0.01357994]"
       ]
      },
      {
       "output_type": "stream",
       "stream": "stdout",
       "text": [
        "\n",
        "f=1022 M=2101 N=4096 fEst=[ 1021.99321704] error=[ 0.00678296]"
       ]
      },
      {
       "output_type": "stream",
       "stream": "stdout",
       "text": [
        "\n",
        "f=1023 M=2101 N=4096 fEst=[ 1023.00145248] error=[-0.00145248]"
       ]
      },
      {
       "output_type": "stream",
       "stream": "stdout",
       "text": [
        "\n",
        "f=1024 M=2101 N=4096 fEst=[ 1024.00938715] error=[-0.00938715]"
       ]
      },
      {
       "output_type": "stream",
       "stream": "stdout",
       "text": [
        "\n",
        "f=1025 M=2101 N=4096 fEst=[ 1025.01528181] error=[-0.01528181]"
       ]
      },
      {
       "output_type": "stream",
       "stream": "stdout",
       "text": [
        "\n",
        "f=1026 M=2101 N=4096 fEst=[ 1026.01739677] error=[-0.01739677]"
       ]
      },
      {
       "output_type": "stream",
       "stream": "stdout",
       "text": [
        "\n",
        "f=1027 M=2101 N=4096 fEst=[ 1027.01399162] error=[-0.01399162]"
       ]
      },
      {
       "output_type": "stream",
       "stream": "stdout",
       "text": [
        "\n",
        "f=1028 M=2101 N=4096 fEst=[ 1028.00332484] error=[-0.00332484]"
       ]
      },
      {
       "output_type": "stream",
       "stream": "stdout",
       "text": [
        "\n",
        "f=1029 M=2101 N=4096 fEst=[ 1028.98949696] error=[ 0.01050304]\n",
        "f=1030 M=2101 N=4096 fEst=[ 1029.98325021] error=[ 0.01674979]"
       ]
      },
      {
       "output_type": "stream",
       "stream": "stdout",
       "text": [
        "\n",
        "f=1031 M=2101 N=4096 fEst=[ 1030.98325716] error=[ 0.01674284]"
       ]
      },
      {
       "output_type": "stream",
       "stream": "stdout",
       "text": [
        "\n",
        "f=1032 M=2101 N=4096 fEst=[ 1031.98777677] error=[ 0.01222323]\n",
        "f=1033 M=2101 N=4096 fEst=[ 1032.99506887] error=[ 0.00493113]"
       ]
      },
      {
       "output_type": "stream",
       "stream": "stdout",
       "text": [
        "\n",
        "f=1034 M=2101 N=4096 fEst=[ 1034.00339385] error=[-0.00339385]"
       ]
      },
      {
       "output_type": "stream",
       "stream": "stdout",
       "text": [
        "\n",
        "f=1035 M=2101 N=4096 fEst=[ 1035.01101229] error=[-0.01101229]"
       ]
      },
      {
       "output_type": "stream",
       "stream": "stdout",
       "text": [
        "\n",
        "f=1036 M=2101 N=4096 fEst=[ 1036.01618461] error=[-0.01618461]"
       ]
      },
      {
       "output_type": "stream",
       "stream": "stdout",
       "text": [
        "\n",
        "f=1037 M=2101 N=4096 fEst=[ 1037.01717078] error=[-0.01717078]"
       ]
      },
      {
       "output_type": "stream",
       "stream": "stdout",
       "text": [
        "\n",
        "f=1038 M=2101 N=4096 fEst=[ 1038.01222993] error=[-0.01222993]"
       ]
      },
      {
       "output_type": "stream",
       "stream": "stdout",
       "text": [
        "\n",
        "f=1039 M=2101 N=4096 fEst=[ 1038.99962495] error=[ 0.00037505]"
       ]
      },
      {
       "output_type": "stream",
       "stream": "stdout",
       "text": [
        "\n",
        "f=1040 M=2101 N=4096 fEst=[ 1039.98740343] error=[ 0.01259657]"
       ]
      },
      {
       "output_type": "stream",
       "stream": "stdout",
       "text": [
        "\n",
        "f=1041 M=2101 N=4096 fEst=[ 1040.98277011] error=[ 0.01722989]"
       ]
      },
      {
       "output_type": "stream",
       "stream": "stdout",
       "text": [
        "\n",
        "f=1042 M=2101 N=4096 fEst=[ 1041.98398321] error=[ 0.01601679]"
       ]
      },
      {
       "output_type": "stream",
       "stream": "stdout",
       "text": [
        "\n",
        "f=1043 M=2101 N=4096 fEst=[ 1042.98930211] error=[ 0.01069789]"
       ]
      },
      {
       "output_type": "stream",
       "stream": "stdout",
       "text": [
        "\n",
        "f=1044 M=2101 N=4096 fEst=[ 1043.996987] error=[ 0.003013]"
       ]
      },
      {
       "output_type": "stream",
       "stream": "stdout",
       "text": [
        "\n",
        "f=1045 M=2101 N=4096 fEst=[ 1045.00529856] error=[-0.00529856]"
       ]
      },
      {
       "output_type": "stream",
       "stream": "stdout",
       "text": [
        "\n",
        "f=1046 M=2101 N=4096 fEst=[ 1046.01249759] error=[-0.01249759]"
       ]
      },
      {
       "output_type": "stream",
       "stream": "stdout",
       "text": [
        "\n",
        "f=1047 M=2101 N=4096 fEst=[ 1047.01684468] error=[-0.01684468]"
       ]
      },
      {
       "output_type": "stream",
       "stream": "stdout",
       "text": [
        "\n",
        "f=1048 M=2101 N=4096 fEst=[ 1048.01659983] error=[-0.01659983]"
       ]
      },
      {
       "output_type": "stream",
       "stream": "stdout",
       "text": [
        "\n",
        "f=1049 M=2101 N=4096 fEst=[ 1049.01002214] error=[-0.01002214]"
       ]
      },
      {
       "output_type": "stream",
       "stream": "stdout",
       "text": [
        "\n",
        "f=1050 M=2101 N=4096 fEst=[ 1049.99598565] error=[ 0.00401435]"
       ]
      },
      {
       "output_type": "stream",
       "stream": "stdout",
       "text": [
        "\n",
        "f=1051 M=2101 N=4096 fEst=[ 1050.98569265] error=[ 0.01430735]"
       ]
      },
      {
       "output_type": "stream",
       "stream": "stdout",
       "text": [
        "\n",
        "f=1052 M=2101 N=4096 fEst=[ 1051.98258207] error=[ 0.01741793]"
       ]
      },
      {
       "output_type": "stream",
       "stream": "stdout",
       "text": [
        "\n",
        "f=1053 M=2101 N=4096 fEst=[ 1052.98491226] error=[ 0.01508774]"
       ]
      },
      {
       "output_type": "stream",
       "stream": "stdout",
       "text": [
        "\n",
        "f=1054 M=2101 N=4096 fEst=[ 1053.99094263] error=[ 0.00905737]"
       ]
      },
      {
       "output_type": "stream",
       "stream": "stdout",
       "text": [
        "\n",
        "f=1055 M=2101 N=4096 fEst=[ 1054.99893332] error=[ 0.00106668]"
       ]
      },
      {
       "output_type": "stream",
       "stream": "stdout",
       "text": [
        "\n",
        "f=1056 M=2101 N=4096 fEst=[ 1056.00714483] error=[-0.00714483]"
       ]
      },
      {
       "output_type": "stream",
       "stream": "stdout",
       "text": [
        "\n",
        "f=1057 M=2101 N=4096 fEst=[ 1057.01383774] error=[-0.01383774]\n",
        "f=1058 M=2101 N=4096 fEst=[ 1058.0172723] error=[-0.0172723]"
       ]
      },
      {
       "output_type": "stream",
       "stream": "stdout",
       "text": [
        "\n",
        "f=1059 M=2101 N=4096 fEst=[ 1059.01570814] error=[-0.01570814]"
       ]
      },
      {
       "output_type": "stream",
       "stream": "stdout",
       "text": [
        "\n",
        "f=1060 M=2101 N=4096 fEst=[ 1060.00740391] error=[-0.00740391]"
       ]
      },
      {
       "output_type": "stream",
       "stream": "stdout",
       "text": [
        "\n",
        "f=1061 M=2101 N=4096 fEst=[ 1060.99286425] error=[ 0.00713575]\n",
        "f=1062 M=2101 N=4096 fEst=[ 1061.98440148] error=[ 0.01559852]"
       ]
      },
      {
       "output_type": "stream",
       "stream": "stdout",
       "text": [
        "\n",
        "f=1063 M=2101 N=4096 fEst=[ 1062.98271376] error=[ 0.01728624]"
       ]
      },
      {
       "output_type": "stream",
       "stream": "stdout",
       "text": [
        "\n",
        "f=1064 M=2101 N=4096 fEst=[ 1063.9860599] error=[ 0.0139401]"
       ]
      },
      {
       "output_type": "stream",
       "stream": "stdout",
       "text": [
        "\n",
        "f=1065 M=2101 N=4096 fEst=[ 1064.99269971] error=[ 0.00730029]"
       ]
      },
      {
       "output_type": "stream",
       "stream": "stdout",
       "text": [
        "\n",
        "f=1066 M=2101 N=4096 fEst=[ 1066.00089365] error=[-0.00089365]"
       ]
      },
      {
       "output_type": "stream",
       "stream": "stdout",
       "text": [
        "\n",
        "f=1067 M=2101 N=4096 fEst=[ 1067.0089025] error=[-0.0089025]"
       ]
      },
      {
       "output_type": "stream",
       "stream": "stdout",
       "text": [
        "\n",
        "f=1068 M=2101 N=4096 fEst=[ 1068.01498698] error=[-0.01498698]"
       ]
      },
      {
       "output_type": "stream",
       "stream": "stdout",
       "text": [
        "\n",
        "f=1069 M=2101 N=4096 fEst=[ 1069.01740744] error=[-0.01740744]\n",
        "f=1070 M=2101 N=4096 fEst=[ 1070.01442349] error=[-0.01442349]"
       ]
      },
      {
       "output_type": "stream",
       "stream": "stdout",
       "text": [
        "\n",
        "f=1071 M=2101 N=4096 fEst=[ 1071.00429369] error=[-0.00429369]"
       ]
      },
      {
       "output_type": "stream",
       "stream": "stdout",
       "text": [
        "\n",
        "f=1072 M=2101 N=4096 fEst=[ 1071.99017693] error=[ 0.00982307]"
       ]
      },
      {
       "output_type": "stream",
       "stream": "stdout",
       "text": [
        "\n",
        "f=1073 M=2101 N=4096 fEst=[ 1072.98345369] error=[ 0.01654631]"
       ]
      },
      {
       "output_type": "stream",
       "stream": "stdout",
       "text": [
        "\n",
        "f=1074 M=2101 N=4096 fEst=[ 1073.98309965] error=[ 0.01690035]"
       ]
      },
      {
       "output_type": "stream",
       "stream": "stdout",
       "text": [
        "\n",
        "f=1075 M=2101 N=4096 fEst=[ 1074.98737367] error=[ 0.01262633]\n",
        "f=1076 M=2101 N=4096 fEst=[ 1075.99453556] error=[ 0.00546444]"
       ]
      },
      {
       "output_type": "stream",
       "stream": "stdout",
       "text": [
        "\n",
        "f=1077 M=2101 N=4096 fEst=[ 1077.00284568] error=[-0.00284568]"
       ]
      },
      {
       "output_type": "stream",
       "stream": "stdout",
       "text": [
        "\n",
        "f=1078 M=2101 N=4096 fEst=[ 1078.0105646] error=[-0.0105646]"
       ]
      },
      {
       "output_type": "stream",
       "stream": "stdout",
       "text": [
        "\n",
        "f=1079 M=2101 N=4096 fEst=[ 1079.0159528] error=[-0.0159528]"
       ]
      },
      {
       "output_type": "stream",
       "stream": "stdout",
       "text": [
        "\n",
        "f=1080 M=2101 N=4096 fEst=[ 1080.01727031] error=[-0.01727031]"
       ]
      },
      {
       "output_type": "stream",
       "stream": "stdout",
       "text": [
        "\n",
        "f=1081 M=2101 N=4096 fEst=[ 1081.01277635] error=[-0.01277635]"
       ]
      },
      {
       "output_type": "stream",
       "stream": "stdout",
       "text": [
        "\n",
        "f=1082 M=2101 N=4096 fEst=[ 1082.00072903] error=[-0.00072903]"
       ]
      },
      {
       "output_type": "stream",
       "stream": "stdout",
       "text": [
        "\n",
        "f=1083 M=2101 N=4096 fEst=[ 1082.98795912] error=[ 0.01204088]"
       ]
      },
      {
       "output_type": "stream",
       "stream": "stdout",
       "text": [
        "\n",
        "f=1084 M=2101 N=4096 fEst=[ 1083.98287553] error=[ 0.01712447]"
       ]
      },
      {
       "output_type": "stream",
       "stream": "stdout",
       "text": [
        "\n",
        "f=1085 M=2101 N=4096 fEst=[ 1084.98375415] error=[ 0.01624585]"
       ]
      },
      {
       "output_type": "stream",
       "stream": "stdout",
       "text": [
        "\n",
        "f=1086 M=2101 N=4096 fEst=[ 1085.98885429] error=[ 0.01114571]\n",
        "f=1087 M=2101 N=4096 fEst=[ 1086.9964361] error=[ 0.0035639]"
       ]
      },
      {
       "output_type": "stream",
       "stream": "stdout",
       "text": [
        "\n",
        "f=1088 M=2101 N=4096 fEst=[ 1088.00476023] error=[-0.00476023]\n",
        "f=1089 M=2101 N=4096 fEst=[ 1089.01208747] error=[-0.01208747]"
       ]
      },
      {
       "output_type": "stream",
       "stream": "stdout",
       "text": [
        "\n",
        "f=1090 M=2101 N=4096 fEst=[ 1090.01667841] error=[-0.01667841]"
       ]
      },
      {
       "output_type": "stream",
       "stream": "stdout",
       "text": [
        "\n",
        "f=1091 M=2101 N=4096 fEst=[ 1091.01679307] error=[-0.01679307]"
       ]
      },
      {
       "output_type": "stream",
       "stream": "stdout",
       "text": [
        "\n",
        "f=1092 M=2101 N=4096 fEst=[ 1092.01069059] error=[-0.01069059]"
       ]
      },
      {
       "output_type": "stream",
       "stream": "stdout",
       "text": [
        "\n",
        "f=1093 M=2101 N=4096 fEst=[ 1092.99696721] error=[ 0.00303279]"
       ]
      },
      {
       "output_type": "stream",
       "stream": "stdout",
       "text": [
        "\n",
        "f=1094 M=2101 N=4096 fEst=[ 1093.98613599] error=[ 0.01386401]"
       ]
      },
      {
       "output_type": "stream",
       "stream": "stdout",
       "text": [
        "\n",
        "f=1095 M=2101 N=4096 fEst=[ 1094.98260274] error=[ 0.01739726]"
       ]
      },
      {
       "output_type": "stream",
       "stream": "stdout",
       "text": [
        "\n",
        "f=1096 M=2101 N=4096 fEst=[ 1095.98462571] error=[ 0.01537429]"
       ]
      },
      {
       "output_type": "stream",
       "stream": "stdout",
       "text": [
        "\n",
        "f=1097 M=2101 N=4096 fEst=[ 1096.99046426] error=[ 0.00953574]"
       ]
      },
      {
       "output_type": "stream",
       "stream": "stdout",
       "text": [
        "\n",
        "f=1098 M=2101 N=4096 fEst=[ 1097.99837849] error=[ 0.00162151]"
       ]
      },
      {
       "output_type": "stream",
       "stream": "stdout",
       "text": [
        "\n",
        "f=1099 M=2101 N=4096 fEst=[ 1099.00662892] error=[-0.00662892]"
       ]
      },
      {
       "output_type": "stream",
       "stream": "stdout",
       "text": [
        "\n",
        "f=1100 M=2101 N=4096 fEst=[ 1100.01347613] error=[-0.01347613]"
       ]
      },
      {
       "output_type": "stream",
       "stream": "stdout",
       "text": [
        "\n",
        "f=1101 M=2101 N=4096 fEst=[ 1101.01718044] error=[-0.01718044]"
       ]
      },
      {
       "output_type": "stream",
       "stream": "stdout",
       "text": [
        "\n",
        "f=1102 M=2101 N=4096 fEst=[ 1102.01600156] error=[-0.01600156]"
       ]
      },
      {
       "output_type": "stream",
       "stream": "stdout",
       "text": [
        "\n",
        "f=1103 M=2101 N=4096 fEst=[ 1103.00819824] error=[-0.00819824]\n",
        "f=1104 M=2101 N=4096 fEst=[ 1103.99370716] error=[ 0.00629284]"
       ]
      },
      {
       "output_type": "stream",
       "stream": "stdout",
       "text": [
        "\n",
        "f=1105 M=2101 N=4096 fEst=[ 1104.98473245] error=[ 0.01526755]"
       ]
      },
      {
       "output_type": "stream",
       "stream": "stdout",
       "text": [
        "\n",
        "f=1106 M=2101 N=4096 fEst=[ 1105.98264863] error=[ 0.01735137]"
       ]
      },
      {
       "output_type": "stream",
       "stream": "stdout",
       "text": [
        "\n",
        "f=1107 M=2101 N=4096 fEst=[ 1106.98571441] error=[ 0.01428559]"
       ]
      },
      {
       "output_type": "stream",
       "stream": "stdout",
       "text": [
        "\n",
        "f=1108 M=2101 N=4096 fEst=[ 1107.99218956] error=[ 0.00781044]"
       ]
      },
      {
       "output_type": "stream",
       "stream": "stdout",
       "text": [
        "\n",
        "f=1109 M=2101 N=4096 fEst=[ 1109.00033448] error=[-0.00033448]"
       ]
      },
      {
       "output_type": "stream",
       "stream": "stdout",
       "text": [
        "\n",
        "f=1110 M=2101 N=4096 fEst=[ 1110.00840992] error=[-0.00840992]"
       ]
      },
      {
       "output_type": "stream",
       "stream": "stdout",
       "text": [
        "\n",
        "f=1111 M=2101 N=4096 fEst=[ 1111.01467661] error=[-0.01467661]"
       ]
      },
      {
       "output_type": "stream",
       "stream": "stdout",
       "text": [
        "\n",
        "f=1112 M=2101 N=4096 fEst=[ 1112.01739491] error=[-0.01739491]"
       ]
      },
      {
       "output_type": "stream",
       "stream": "stdout",
       "text": [
        "\n",
        "f=1113 M=2101 N=4096 fEst=[ 1113.01482446] error=[-0.01482446]"
       ]
      },
      {
       "output_type": "stream",
       "stream": "stdout",
       "text": [
        "\n",
        "f=1114 M=2101 N=4096 fEst=[ 1114.00522385] error=[-0.00522385]"
       ]
      },
      {
       "output_type": "stream",
       "stream": "stdout",
       "text": [
        "\n",
        "f=1115 M=2101 N=4096 fEst=[ 1114.99089303] error=[ 0.00910697]"
       ]
      },
      {
       "output_type": "stream",
       "stream": "stdout",
       "text": [
        "\n",
        "f=1116 M=2101 N=4096 fEst=[ 1115.98368542] error=[ 0.01631458]"
       ]
      },
      {
       "output_type": "stream",
       "stream": "stdout",
       "text": [
        "\n",
        "f=1117 M=2101 N=4096 fEst=[ 1116.9829625] error=[ 0.0170375]"
       ]
      },
      {
       "output_type": "stream",
       "stream": "stdout",
       "text": [
        "\n",
        "f=1118 M=2101 N=4096 fEst=[ 1117.98698309] error=[ 0.01301691]"
       ]
      },
      {
       "output_type": "stream",
       "stream": "stdout",
       "text": [
        "\n",
        "f=1119 M=2101 N=4096 fEst=[ 1118.99400694] error=[ 0.00599306]"
       ]
      },
      {
       "output_type": "stream",
       "stream": "stdout",
       "text": [
        "\n",
        "f=1120 M=2101 N=4096 fEst=[ 1120.0022944] error=[-0.0022944]"
       ]
      },
      {
       "output_type": "stream",
       "stream": "stdout",
       "text": [
        "\n",
        "f=1121 M=2101 N=4096 fEst=[ 1121.01010605] error=[-0.01010605]"
       ]
      },
      {
       "output_type": "stream",
       "stream": "stdout",
       "text": [
        "\n",
        "f=1122 M=2101 N=4096 fEst=[ 1122.01570243] error=[-0.01570243]"
       ]
      },
      {
       "output_type": "stream",
       "stream": "stdout",
       "text": [
        "\n",
        "f=1123 M=2101 N=4096 fEst=[ 1123.01734361] error=[-0.01734361]"
       ]
      },
      {
       "output_type": "stream",
       "stream": "stdout",
       "text": [
        "\n",
        "f=1124 M=2101 N=4096 fEst=[ 1124.01328892] error=[-0.01328892]\n",
        "f=1125 M=2101 N=4096 fEst=[ 1125.00179659] error=[-0.00179659]"
       ]
      },
      {
       "output_type": "stream",
       "stream": "stdout",
       "text": [
        "\n",
        "f=1126 M=2101 N=4096 fEst=[ 1125.98854853] error=[ 0.01145147]\n",
        "f=1127 M=2101 N=4096 fEst=[ 1126.98300719] error=[ 0.01699281]"
       ]
      },
      {
       "output_type": "stream",
       "stream": "stdout",
       "text": [
        "\n",
        "f=1128 M=2101 N=4096 fEst=[ 1127.98354383] error=[ 0.01645617]\n",
        "f=1129 M=2101 N=4096 fEst=[ 1128.9884177] error=[ 0.0115823]"
       ]
      },
      {
       "output_type": "stream",
       "stream": "stdout",
       "text": [
        "\n",
        "f=1130 M=2101 N=4096 fEst=[ 1129.9958889] error=[ 0.0041111]"
       ]
      },
      {
       "output_type": "stream",
       "stream": "stdout",
       "text": [
        "\n",
        "f=1131 M=2101 N=4096 fEst=[ 1131.00421803] error=[-0.00421803]"
       ]
      },
      {
       "output_type": "stream",
       "stream": "stdout",
       "text": [
        "\n",
        "f=1132 M=2101 N=4096 fEst=[ 1132.01166586] error=[-0.01166586]"
       ]
      },
      {
       "output_type": "stream",
       "stream": "stdout",
       "text": [
        "\n",
        "f=1133 M=2101 N=4096 fEst=[ 1133.01649298] error=[-0.01649298]"
       ]
      },
      {
       "output_type": "stream",
       "stream": "stdout",
       "text": [
        "\n",
        "f=1134 M=2101 N=4096 fEst=[ 1134.01695944] error=[-0.01695944]"
       ]
      },
      {
       "output_type": "stream",
       "stream": "stdout",
       "text": [
        "\n",
        "f=1135 M=2101 N=4096 fEst=[ 1135.01132441] error=[-0.01132441]"
       ]
      },
      {
       "output_type": "stream",
       "stream": "stdout",
       "text": [
        "\n",
        "f=1136 M=2101 N=4096 fEst=[ 1135.99798899] error=[ 0.00201101]"
       ]
      },
      {
       "output_type": "stream",
       "stream": "stdout",
       "text": [
        "\n",
        "f=1137 M=2101 N=4096 fEst=[ 1136.98661167] error=[ 0.01338833]"
       ]
      },
      {
       "output_type": "stream",
       "stream": "stdout",
       "text": [
        "\n",
        "f=1138 M=2101 N=4096 fEst=[ 1137.98264787] error=[ 0.01735213]"
       ]
      },
      {
       "output_type": "stream",
       "stream": "stdout",
       "text": [
        "\n",
        "f=1139 M=2101 N=4096 fEst=[ 1138.98435578] error=[ 0.01564422]"
       ]
      },
      {
       "output_type": "stream",
       "stream": "stdout",
       "text": [
        "\n",
        "f=1140 M=2101 N=4096 fEst=[ 1139.9899947] error=[ 0.0100053]"
       ]
      },
      {
       "output_type": "stream",
       "stream": "stdout",
       "text": [
        "\n",
        "f=1141 M=2101 N=4096 fEst=[ 1140.99782469] error=[ 0.00217531]"
       ]
      },
      {
       "output_type": "stream",
       "stream": "stdout",
       "text": [
        "\n",
        "f=1142 M=2101 N=4096 fEst=[ 1142.00610629] error=[-0.00610629]"
       ]
      },
      {
       "output_type": "stream",
       "stream": "stdout",
       "text": [
        "\n",
        "f=1143 M=2101 N=4096 fEst=[ 1143.0131001] error=[-0.0131001]"
       ]
      },
      {
       "output_type": "stream",
       "stream": "stdout",
       "text": [
        "\n",
        "f=1144 M=2101 N=4096 fEst=[ 1144.0170665] error=[-0.0170665]"
       ]
      },
      {
       "output_type": "stream",
       "stream": "stdout",
       "text": [
        "\n",
        "f=1145 M=2101 N=4096 fEst=[ 1145.01626527] error=[-0.01626527]"
       ]
      },
      {
       "output_type": "stream",
       "stream": "stdout",
       "text": [
        "\n",
        "f=1146 M=2101 N=4096 fEst=[ 1146.00895528] error=[-0.00895528]"
       ]
      },
      {
       "output_type": "stream",
       "stream": "stdout",
       "text": [
        "\n",
        "f=1147 M=2101 N=4096 fEst=[ 1146.99458788] error=[ 0.00541212]"
       ]
      },
      {
       "output_type": "stream",
       "stream": "stdout",
       "text": [
        "\n",
        "f=1148 M=2101 N=4096 fEst=[ 1147.98509375] error=[ 0.01490625]"
       ]
      },
      {
       "output_type": "stream",
       "stream": "stdout",
       "text": [
        "\n",
        "f=1149 M=2101 N=4096 fEst=[ 1148.98260631] error=[ 0.01739369]"
       ]
      },
      {
       "output_type": "stream",
       "stream": "stdout",
       "text": [
        "\n",
        "f=1150 M=2101 N=4096 fEst=[ 1149.98538422] error=[ 0.01461578]"
       ]
      },
      {
       "output_type": "stream",
       "stream": "stdout",
       "text": [
        "\n",
        "f=1151 M=2101 N=4096 fEst=[ 1150.99168715] error=[ 0.00831285]"
       ]
      },
      {
       "output_type": "stream",
       "stream": "stdout",
       "text": [
        "\n",
        "f=1152 M=2101 N=4096 fEst=[ 1151.99977547] error=[ 0.00022453]"
       ]
      },
      {
       "output_type": "stream",
       "stream": "stdout",
       "text": [
        "\n",
        "f=1153 M=2101 N=4096 fEst=[ 1153.0079099] error=[-0.0079099]"
       ]
      },
      {
       "output_type": "stream",
       "stream": "stdout",
       "text": [
        "\n",
        "f=1154 M=2101 N=4096 fEst=[ 1154.01435114] error=[-0.01435114]"
       ]
      },
      {
       "output_type": "stream",
       "stream": "stdout",
       "text": [
        "\n",
        "f=1155 M=2101 N=4096 fEst=[ 1155.01735957] error=[-0.01735957]"
       ]
      },
      {
       "output_type": "stream",
       "stream": "stdout",
       "text": [
        "\n",
        "f=1156 M=2101 N=4096 fEst=[ 1156.01519485] error=[-0.01519485]"
       ]
      },
      {
       "output_type": "stream",
       "stream": "stdout",
       "text": [
        "\n",
        "f=1157 M=2101 N=4096 fEst=[ 1157.00611562] error=[-0.00611562]"
       ]
      },
      {
       "output_type": "stream",
       "stream": "stdout",
       "text": [
        "\n",
        "f=1158 M=2101 N=4096 fEst=[ 1157.99164557] error=[ 0.00835443]"
       ]
      },
      {
       "output_type": "stream",
       "stream": "stdout",
       "text": [
        "\n",
        "f=1159 M=2101 N=4096 fEst=[ 1158.98394572] error=[ 0.01605428]"
       ]
      },
      {
       "output_type": "stream",
       "stream": "stdout",
       "text": [
        "\n",
        "f=1160 M=2101 N=4096 fEst=[ 1159.98284609] error=[ 0.01715391]"
       ]
      },
      {
       "output_type": "stream",
       "stream": "stdout",
       "text": [
        "\n",
        "f=1161 M=2101 N=4096 fEst=[ 1160.98660544] error=[ 0.01339456]"
       ]
      },
      {
       "output_type": "stream",
       "stream": "stdout",
       "text": [
        "\n",
        "f=1162 M=2101 N=4096 fEst=[ 1161.99348347] error=[ 0.00651653]\n",
        "f=1163 M=2101 N=4096 fEst=[ 1163.00174053] error=[-0.00174053]"
       ]
      },
      {
       "output_type": "stream",
       "stream": "stdout",
       "text": [
        "\n",
        "f=1164 M=2101 N=4096 fEst=[ 1164.00963722] error=[-0.00963722]"
       ]
      },
      {
       "output_type": "stream",
       "stream": "stdout",
       "text": [
        "\n",
        "f=1165 M=2101 N=4096 fEst=[ 1165.01543411] error=[-0.01543411]"
       ]
      },
      {
       "output_type": "stream",
       "stream": "stdout",
       "text": [
        "\n",
        "f=1166 M=2101 N=4096 fEst=[ 1166.01739135] error=[-0.01739135]"
       ]
      },
      {
       "output_type": "stream",
       "stream": "stdout",
       "text": [
        "\n",
        "f=1167 M=2101 N=4096 fEst=[ 1167.01376835] error=[-0.01376835]"
       ]
      },
      {
       "output_type": "stream",
       "stream": "stdout",
       "text": [
        "\n",
        "f=1168 M=2101 N=4096 fEst=[ 1168.00282345] error=[-0.00282345]"
       ]
      },
      {
       "output_type": "stream",
       "stream": "stdout",
       "text": [
        "\n",
        "f=1169 M=2101 N=4096 fEst=[ 1168.98917235] error=[ 0.01082765]"
       ]
      },
      {
       "output_type": "stream",
       "stream": "stdout",
       "text": [
        "\n",
        "f=1170 M=2101 N=4096 fEst=[ 1169.98316574] error=[ 0.01683426]"
       ]
      },
      {
       "output_type": "stream",
       "stream": "stdout",
       "text": [
        "\n",
        "f=1171 M=2101 N=4096 fEst=[ 1170.98335287] error=[ 0.01664713]\n",
        "f=1172 M=2101 N=4096 fEst=[ 1171.98799292] error=[ 0.01200708]"
       ]
      },
      {
       "output_type": "stream",
       "stream": "stdout",
       "text": [
        "\n",
        "f=1173 M=2101 N=4096 fEst=[ 1172.99534592] error=[ 0.00465408]"
       ]
      },
      {
       "output_type": "stream",
       "stream": "stdout",
       "text": [
        "\n",
        "f=1174 M=2101 N=4096 fEst=[ 1174.00367243] error=[-0.00367243]"
       ]
      },
      {
       "output_type": "stream",
       "stream": "stdout",
       "text": [
        "\n",
        "f=1175 M=2101 N=4096 fEst=[ 1175.01123319] error=[-0.01123319]"
       ]
      },
      {
       "output_type": "stream",
       "stream": "stdout",
       "text": [
        "\n",
        "f=1176 M=2101 N=4096 fEst=[ 1176.01628879] error=[-0.01628879]"
       ]
      },
      {
       "output_type": "stream",
       "stream": "stdout",
       "text": [
        "\n",
        "f=1177 M=2101 N=4096 fEst=[ 1177.01709929] error=[-0.01709929]"
       ]
      },
      {
       "output_type": "stream",
       "stream": "stdout",
       "text": [
        "\n",
        "f=1178 M=2101 N=4096 fEst=[ 1178.01192392] error=[-0.01192392]"
       ]
      },
      {
       "output_type": "stream",
       "stream": "stdout",
       "text": [
        "\n",
        "f=1179 M=2101 N=4096 fEst=[ 1178.99905131] error=[ 0.00094869]"
       ]
      },
      {
       "output_type": "stream",
       "stream": "stdout",
       "text": [
        "\n",
        "f=1180 M=2101 N=4096 fEst=[ 1179.98712003] error=[ 0.01287997]\n",
        "f=1181 M=2101 N=4096 fEst=[ 1180.98271785] error=[ 0.01728215]"
       ]
      },
      {
       "output_type": "stream",
       "stream": "stdout",
       "text": [
        "\n",
        "f=1182 M=2101 N=4096 fEst=[ 1181.98410289] error=[ 0.01589711]"
       ]
      },
      {
       "output_type": "stream",
       "stream": "stdout",
       "text": [
        "\n",
        "f=1183 M=2101 N=4096 fEst=[ 1182.9895344] error=[ 0.0104656]"
       ]
      },
      {
       "output_type": "stream",
       "stream": "stdout",
       "text": [
        "\n",
        "f=1184 M=2101 N=4096 fEst=[ 1183.99727243] error=[ 0.00272757]"
       ]
      },
      {
       "output_type": "stream",
       "stream": "stdout",
       "text": [
        "\n",
        "f=1185 M=2101 N=4096 fEst=[ 1185.0055775] error=[-0.0055775]\n"
       ]
      },
      {
       "output_type": "stream",
       "stream": "stdout",
       "text": [
        "f=1186 M=2101 N=4096 fEst=[ 1186.01271025] error=[-0.01271025]\n",
        "f=1187 M=2101 N=4096 fEst=[ 1187.01693112] error=[-0.01693112]"
       ]
      },
      {
       "output_type": "stream",
       "stream": "stdout",
       "text": [
        "\n",
        "f=1188 M=2101 N=4096 fEst=[ 1188.01649997] error=[-0.01649997]"
       ]
      },
      {
       "output_type": "stream",
       "stream": "stdout",
       "text": [
        "\n",
        "f=1189 M=2101 N=4096 fEst=[ 1189.00967575] error=[-0.00967575]"
       ]
      },
      {
       "output_type": "stream",
       "stream": "stdout",
       "text": [
        "\n",
        "f=1190 M=2101 N=4096 fEst=[ 1189.99550712] error=[ 0.00449288]"
       ]
      },
      {
       "output_type": "stream",
       "stream": "stdout",
       "text": [
        "\n",
        "f=1191 M=2101 N=4096 fEst=[ 1190.98548603] error=[ 0.01451397]"
       ]
      },
      {
       "output_type": "stream",
       "stream": "stdout",
       "text": [
        "\n",
        "f=1192 M=2101 N=4096 fEst=[ 1191.98258745] error=[ 0.01741255]"
       ]
      },
      {
       "output_type": "stream",
       "stream": "stdout",
       "text": [
        "\n",
        "f=1193 M=2101 N=4096 fEst=[ 1192.98506991] error=[ 0.01493009]"
       ]
      },
      {
       "output_type": "stream",
       "stream": "stdout",
       "text": [
        "\n",
        "f=1194 M=2101 N=4096 fEst=[ 1193.99119304] error=[ 0.00880696]"
       ]
      },
      {
       "output_type": "stream",
       "stream": "stdout",
       "text": [
        "\n",
        "f=1195 M=2101 N=4096 fEst=[ 1194.99921713] error=[ 0.00078287]"
       ]
      },
      {
       "output_type": "stream",
       "stream": "stdout",
       "text": [
        "\n",
        "f=1196 M=2101 N=4096 fEst=[ 1196.00740287] error=[-0.00740287]"
       ]
      },
      {
       "output_type": "stream",
       "stream": "stdout",
       "text": [
        "\n",
        "f=1197 M=2101 N=4096 fEst=[ 1197.01401096] error=[-0.01401096]"
       ]
      },
      {
       "output_type": "stream",
       "stream": "stdout",
       "text": [
        "\n",
        "f=1198 M=2101 N=4096 fEst=[ 1198.01730177] error=[-0.01730177]"
       ]
      },
      {
       "output_type": "stream",
       "stream": "stdout",
       "text": [
        "\n",
        "f=1199 M=2101 N=4096 fEst=[ 1199.01553499] error=[-0.01553499]"
       ]
      },
      {
       "output_type": "stream",
       "stream": "stdout",
       "text": [
        "\n",
        "f=1200 M=2101 N=4096 fEst=[ 1200.00696934] error=[-0.00696934]\n",
        "f=1201 M=2101 N=4096 fEst=[ 1200.99243489] error=[ 0.00756511]"
       ]
      },
      {
       "output_type": "stream",
       "stream": "stdout",
       "text": [
        "\n",
        "f=1202 M=2101 N=4096 fEst=[ 1201.98423497] error=[ 0.01576503]"
       ]
      },
      {
       "output_type": "stream",
       "stream": "stdout",
       "text": [
        "\n",
        "f=1203 M=2101 N=4096 fEst=[ 1202.98275083] error=[ 0.01724917]"
       ]
      },
      {
       "output_type": "stream",
       "stream": "stdout",
       "text": [
        "\n",
        "f=1204 M=2101 N=4096 fEst=[ 1203.98624117] error=[ 0.01375883]"
       ]
      },
      {
       "output_type": "stream",
       "stream": "stdout",
       "text": [
        "\n",
        "f=1205 M=2101 N=4096 fEst=[ 1204.99296566] error=[ 0.00703434]"
       ]
      },
      {
       "output_type": "stream",
       "stream": "stdout",
       "text": [
        "\n",
        "f=1206 M=2101 N=4096 fEst=[ 1206.00118462] error=[-0.00118462]"
       ]
      },
      {
       "output_type": "stream",
       "stream": "stdout",
       "text": [
        "\n",
        "f=1207 M=2101 N=4096 fEst=[ 1207.00915869] error=[-0.00915869]"
       ]
      },
      {
       "output_type": "stream",
       "stream": "stdout",
       "text": [
        "\n",
        "f=1208 M=2101 N=4096 fEst=[ 1208.01514848] error=[-0.01514848]"
       ]
      },
      {
       "output_type": "stream",
       "stream": "stdout",
       "text": [
        "\n",
        "f=1209 M=2101 N=4096 fEst=[ 1209.01741418] error=[-0.01741418]\n",
        "f=1210 M=2101 N=4096 fEst=[ 1210.01421532] error=[-0.01421532]"
       ]
      },
      {
       "output_type": "stream",
       "stream": "stdout",
       "text": [
        "\n",
        "f=1211 M=2101 N=4096 fEst=[ 1211.00381032] error=[-0.00381032]"
       ]
      },
      {
       "output_type": "stream",
       "stream": "stdout",
       "text": [
        "\n",
        "f=1212 M=2101 N=4096 fEst=[ 1211.98983125] error=[ 0.01016875]"
       ]
      },
      {
       "output_type": "stream",
       "stream": "stdout",
       "text": [
        "\n",
        "f=1213 M=2101 N=4096 fEst=[ 1212.98335182] error=[ 0.01664818]"
       ]
      },
      {
       "output_type": "stream",
       "stream": "stdout",
       "text": [
        "\n",
        "f=1214 M=2101 N=4096 fEst=[ 1213.98318188] error=[ 0.01681812]"
       ]
      },
      {
       "output_type": "stream",
       "stream": "stdout",
       "text": [
        "\n",
        "f=1215 M=2101 N=4096 fEst=[ 1214.9875805] error=[ 0.0124195]"
       ]
      },
      {
       "output_type": "stream",
       "stream": "stdout",
       "text": [
        "\n",
        "f=1216 M=2101 N=4096 fEst=[ 1215.99480767] error=[ 0.00519233]\n",
        "f=1217 M=2101 N=4096 fEst=[ 1217.00312388] error=[-0.00312388]"
       ]
      },
      {
       "output_type": "stream",
       "stream": "stdout",
       "text": [
        "\n",
        "f=1218 M=2101 N=4096 fEst=[ 1218.01078987] error=[-0.01078987]"
       ]
      },
      {
       "output_type": "stream",
       "stream": "stdout",
       "text": [
        "\n",
        "f=1219 M=2101 N=4096 fEst=[ 1219.0160662] error=[-0.0160662]\n",
        "f=1220 M=2101 N=4096 fEst=[ 1220.01721298] error=[-0.01721298]"
       ]
      },
      {
       "output_type": "stream",
       "stream": "stdout",
       "text": [
        "\n",
        "f=1221 M=2101 N=4096 fEst=[ 1221.01248944] error=[-0.01248944]"
       ]
      },
      {
       "output_type": "stream",
       "stream": "stdout",
       "text": [
        "\n",
        "f=1222 M=2101 N=4096 fEst=[ 1222.00015371] error=[-0.00015371]"
       ]
      },
      {
       "output_type": "stream",
       "stream": "stdout",
       "text": [
        "\n",
        "f=1223 M=2101 N=4096 fEst=[ 1222.98766144] error=[ 0.01233856]"
       ]
      },
      {
       "output_type": "stream",
       "stream": "stdout",
       "text": [
        "\n",
        "f=1224 M=2101 N=4096 fEst=[ 1223.98281309] error=[ 0.01718691]"
       ]
      },
      {
       "output_type": "stream",
       "stream": "stdout",
       "text": [
        "\n",
        "f=1225 M=2101 N=4096 fEst=[ 1224.9838675] error=[ 0.0161325]"
       ]
      },
      {
       "output_type": "stream",
       "stream": "stdout",
       "text": [
        "\n",
        "f=1226 M=2101 N=4096 fEst=[ 1225.98908387] error=[ 0.01091613]"
       ]
      },
      {
       "output_type": "stream",
       "stream": "stdout",
       "text": [
        "\n",
        "f=1227 M=2101 N=4096 fEst=[ 1226.99672224] error=[ 0.00327776]"
       ]
      },
      {
       "output_type": "stream",
       "stream": "stdout",
       "text": [
        "\n",
        "f=1228 M=2101 N=4096 fEst=[ 1228.00504313] error=[-0.00504313]\n",
        "f=1229 M=2101 N=4096 fEst=[ 1229.01230721] error=[-0.01230721]"
       ]
      },
      {
       "output_type": "stream",
       "stream": "stdout",
       "text": [
        "\n",
        "f=1230 M=2101 N=4096 fEst=[ 1230.01677496] error=[-0.01677496]"
       ]
      },
      {
       "output_type": "stream",
       "stream": "stdout",
       "text": [
        "\n",
        "f=1231 M=2101 N=4096 fEst=[ 1231.01670631] error=[-0.01670631]"
       ]
      },
      {
       "output_type": "stream",
       "stream": "stdout",
       "text": [
        "\n",
        "f=1232 M=2101 N=4096 fEst=[ 1232.01036032] error=[-0.01036032]"
       ]
      },
      {
       "output_type": "stream",
       "stream": "stdout",
       "text": [
        "\n",
        "f=1233 M=2101 N=4096 fEst=[ 1232.99646554] error=[ 0.00353446]\n",
        "f=1234 M=2101 N=4096 fEst=[ 1233.98590993] error=[ 0.01409007]"
       ]
      },
      {
       "output_type": "stream",
       "stream": "stdout",
       "text": [
        "\n",
        "f=1235 M=2101 N=4096 fEst=[ 1234.98259262] error=[ 0.01740738]"
       ]
      },
      {
       "output_type": "stream",
       "stream": "stdout",
       "text": [
        "\n",
        "f=1236 M=2101 N=4096 fEst=[ 1235.98477203] error=[ 0.01522797]"
       ]
      },
      {
       "output_type": "stream",
       "stream": "stdout",
       "text": [
        "\n",
        "f=1237 M=2101 N=4096 fEst=[ 1236.99070771] error=[ 0.00929229]"
       ]
      },
      {
       "output_type": "stream",
       "stream": "stdout",
       "text": [
        "\n",
        "f=1238 M=2101 N=4096 fEst=[ 1237.99865991] error=[ 0.00134009]"
       ]
      },
      {
       "output_type": "stream",
       "stream": "stdout",
       "text": [
        "\n",
        "f=1239 M=2101 N=4096 fEst=[ 1239.00688926] error=[-0.00688926]"
       ]
      },
      {
       "output_type": "stream",
       "stream": "stdout",
       "text": [
        "\n",
        "f=1240 M=2101 N=4096 fEst=[ 1240.01365646] error=[-0.01365646]"
       ]
      },
      {
       "output_type": "stream",
       "stream": "stdout",
       "text": [
        "\n",
        "f=1241 M=2101 N=4096 fEst=[ 1241.01722188] error=[-0.01722188]\n",
        "f=1242 M=2101 N=4096 fEst=[ 1242.01584525] error=[-0.01584525]"
       ]
      },
      {
       "output_type": "stream",
       "stream": "stdout",
       "text": [
        "\n",
        "f=1243 M=2101 N=4096 fEst=[ 1243.00778534] error=[-0.00778534]"
       ]
      },
      {
       "output_type": "stream",
       "stream": "stdout",
       "text": [
        "\n",
        "f=1244 M=2101 N=4096 fEst=[ 1243.99326136] error=[ 0.00673864]"
       ]
      },
      {
       "output_type": "stream",
       "stream": "stdout",
       "text": [
        "\n",
        "f=1245 M=2101 N=4096 fEst=[ 1244.98455357] error=[ 0.01544643]"
       ]
      },
      {
       "output_type": "stream",
       "stream": "stdout",
       "text": [
        "\n",
        "f=1246 M=2101 N=4096 fEst=[ 1245.98267717] error=[ 0.01732283]"
       ]
      },
      {
       "output_type": "stream",
       "stream": "stdout",
       "text": [
        "\n",
        "f=1247 M=2101 N=4096 fEst=[ 1246.98589077] error=[ 0.01410923]"
       ]
      },
      {
       "output_type": "stream",
       "stream": "stdout",
       "text": [
        "\n",
        "f=1248 M=2101 N=4096 fEst=[ 1247.99245402] error=[ 0.00754598]"
       ]
      },
      {
       "output_type": "stream",
       "stream": "stdout",
       "text": [
        "\n",
        "f=1249 M=2101 N=4096 fEst=[ 1249.00062724] error=[-0.00062724]"
       ]
      },
      {
       "output_type": "stream",
       "stream": "stdout",
       "text": [
        "\n",
        "f=1250 M=2101 N=4096 fEst=[ 1250.00867108] error=[-0.00867108]\n",
        "f=1251 M=2101 N=4096 fEst=[ 1251.01484616] error=[-0.01484616]"
       ]
      },
      {
       "output_type": "stream",
       "stream": "stdout",
       "text": [
        "\n",
        "f=1252 M=2101 N=4096 fEst=[ 1252.01741277] error=[-0.01741277]"
       ]
      },
      {
       "output_type": "stream",
       "stream": "stdout",
       "text": [
        "\n",
        "f=1253 M=2101 N=4096 fEst=[ 1253.01463048] error=[-0.01463048]"
       ]
      },
      {
       "output_type": "stream",
       "stream": "stdout",
       "text": [
        "\n",
        "f=1254 M=2101 N=4096 fEst=[ 1254.00475783] error=[-0.00475783]"
       ]
      },
      {
       "output_type": "stream",
       "stream": "stdout",
       "text": [
        "\n",
        "f=1255 M=2101 N=4096 fEst=[ 1254.99052586] error=[ 0.00947414]"
       ]
      },
      {
       "output_type": "stream",
       "stream": "stdout",
       "text": [
        "\n",
        "f=1256 M=2101 N=4096 fEst=[ 1255.98356601] error=[ 0.01643399]"
       ]
      },
      {
       "output_type": "stream",
       "stream": "stdout",
       "text": [
        "\n",
        "f=1257 M=2101 N=4096 fEst=[ 1256.98303138] error=[ 0.01696862]"
       ]
      },
      {
       "output_type": "stream",
       "stream": "stdout",
       "text": [
        "\n",
        "f=1258 M=2101 N=4096 fEst=[ 1257.98718095] error=[ 0.01281905]"
       ]
      },
      {
       "output_type": "stream",
       "stream": "stdout",
       "text": [
        "\n",
        "f=1259 M=2101 N=4096 fEst=[ 1258.99427461] error=[ 0.00572539]"
       ]
      },
      {
       "output_type": "stream",
       "stream": "stdout",
       "text": [
        "\n",
        "f=1260 M=2101 N=4096 fEst=[ 1260.00257283] error=[-0.00257283]\n",
        "f=1261 M=2101 N=4096 fEst=[ 1261.01033631] error=[-0.01033631]"
       ]
      },
      {
       "output_type": "stream",
       "stream": "stdout",
       "text": [
        "\n",
        "f=1262 M=2101 N=4096 fEst=[ 1262.01582561] error=[-0.01582561]"
       ]
      },
      {
       "output_type": "stream",
       "stream": "stdout",
       "text": [
        "\n",
        "f=1263 M=2101 N=4096 fEst=[ 1263.01730086] error=[-0.01730086]"
       ]
      },
      {
       "output_type": "stream",
       "stream": "stdout",
       "text": [
        "\n",
        "f=1264 M=2101 N=4096 fEst=[ 1264.01302136] error=[-0.01302136]"
       ]
      },
      {
       "output_type": "stream",
       "stream": "stdout",
       "text": [
        "\n",
        "f=1265 M=2101 N=4096 fEst=[ 1265.00124528] error=[-0.00124528]\n",
        "f=1266 M=2101 N=4096 fEst=[ 1265.98823631] error=[ 0.01176369]"
       ]
      },
      {
       "output_type": "stream",
       "stream": "stdout",
       "text": [
        "\n",
        "f=1267 M=2101 N=4096 fEst=[ 1266.98293402] error=[ 0.01706598]"
       ]
      },
      {
       "output_type": "stream",
       "stream": "stdout",
       "text": [
        "\n",
        "f=1268 M=2101 N=4096 fEst=[ 1267.98365008] error=[ 0.01634992]"
       ]
      },
      {
       "output_type": "stream",
       "stream": "stdout",
       "text": [
        "\n",
        "f=1269 M=2101 N=4096 fEst=[ 1268.98864363] error=[ 0.01135637]"
       ]
      },
      {
       "output_type": "stream",
       "stream": "stdout",
       "text": [
        "\n",
        "f=1270 M=2101 N=4096 fEst=[ 1269.99617469] error=[ 0.00382531]"
       ]
      },
      {
       "output_type": "stream",
       "stream": "stdout",
       "text": [
        "\n",
        "f=1271 M=2101 N=4096 fEst=[ 1271.00450378] error=[-0.00450378]\n",
        "f=1272 M=2101 N=4096 fEst=[ 1272.01189159] error=[-0.01189159]"
       ]
      },
      {
       "output_type": "stream",
       "stream": "stdout",
       "text": [
        "\n",
        "f=1273 M=2101 N=4096 fEst=[ 1273.01659865] error=[-0.01659865]"
       ]
      },
      {
       "output_type": "stream",
       "stream": "stdout",
       "text": [
        "\n",
        "f=1274 M=2101 N=4096 fEst=[ 1274.01688494] error=[-0.01688494]"
       ]
      },
      {
       "output_type": "stream",
       "stream": "stdout",
       "text": [
        "\n",
        "f=1275 M=2101 N=4096 fEst=[ 1275.01100962] error=[-0.01100962]"
       ]
      },
      {
       "output_type": "stream",
       "stream": "stdout",
       "text": [
        "\n",
        "f=1276 M=2101 N=4096 fEst=[ 1275.99746376] error=[ 0.00253624]"
       ]
      },
      {
       "output_type": "stream",
       "stream": "stdout",
       "text": [
        "\n",
        "f=1277 M=2101 N=4096 fEst=[ 1276.98636604] error=[ 0.01363396]"
       ]
      },
      {
       "output_type": "stream",
       "stream": "stdout",
       "text": [
        "\n",
        "f=1278 M=2101 N=4096 fEst=[ 1277.98262237] error=[ 0.01737763]\n",
        "f=1279 M=2101 N=4096 fEst=[ 1278.98449109] error=[ 0.01550891]"
       ]
      },
      {
       "output_type": "stream",
       "stream": "stdout",
       "text": [
        "\n",
        "f=1280 M=2101 N=4096 fEst=[ 1279.99023166] error=[ 0.00976834]"
       ]
      },
      {
       "output_type": "stream",
       "stream": "stdout",
       "text": [
        "\n",
        "f=1281 M=2101 N=4096 fEst=[ 1280.99810425] error=[ 0.00189575]"
       ]
      },
      {
       "output_type": "stream",
       "stream": "stdout",
       "text": [
        "\n",
        "f=1282 M=2101 N=4096 fEst=[ 1282.00636949] error=[-0.00636949]"
       ]
      },
      {
       "output_type": "stream",
       "stream": "stdout",
       "text": [
        "\n",
        "f=1283 M=2101 N=4096 fEst=[ 1283.01328803] error=[-0.01328803]"
       ]
      },
      {
       "output_type": "stream",
       "stream": "stdout",
       "text": [
        "\n",
        "f=1284 M=2101 N=4096 fEst=[ 1284.01712028] error=[-0.01712028]\n",
        "f=1285 M=2101 N=4096 fEst=[ 1285.016126] error=[-0.016126]"
       ]
      },
      {
       "output_type": "stream",
       "stream": "stdout",
       "text": [
        "\n",
        "f=1286 M=2101 N=4096 fEst=[ 1286.00856402] error=[-0.00856402]"
       ]
      },
      {
       "output_type": "stream",
       "stream": "stdout",
       "text": [
        "\n",
        "f=1287 M=2101 N=4096 fEst=[ 1286.9941254] error=[ 0.0058746]"
       ]
      },
      {
       "output_type": "stream",
       "stream": "stdout",
       "text": [
        "\n",
        "f=1288 M=2101 N=4096 fEst=[ 1287.98490199] error=[ 0.01509801]"
       ]
      },
      {
       "output_type": "stream",
       "stream": "stdout",
       "text": [
        "\n",
        "f=1289 M=2101 N=4096 fEst=[ 1288.98262559] error=[ 0.01737441]"
       ]
      },
      {
       "output_type": "stream",
       "stream": "stdout",
       "text": [
        "\n",
        "f=1290 M=2101 N=4096 fEst=[ 1289.98555477] error=[ 0.01444523]\n",
        "f=1291 M=2101 N=4096 fEst=[ 1290.99194914] error=[ 0.00805086]"
       ]
      },
      {
       "output_type": "stream",
       "stream": "stdout",
       "text": [
        "\n",
        "f=1292 M=2101 N=4096 fEst=[ 1292.00006899] error=[ -6.89911376e-05]"
       ]
      },
      {
       "output_type": "stream",
       "stream": "stdout",
       "text": [
        "\n",
        "f=1293 M=2101 N=4096 fEst=[ 1293.00817499] error=[-0.00817499]"
       ]
      },
      {
       "output_type": "stream",
       "stream": "stdout",
       "text": [
        "\n",
        "f=1294 M=2101 N=4096 fEst=[ 1294.0145278] error=[-0.0145278]"
       ]
      },
      {
       "output_type": "stream",
       "stream": "stdout",
       "text": [
        "\n",
        "f=1295 M=2101 N=4096 fEst=[ 1295.01738774] error=[-0.01738774]"
       ]
      },
      {
       "output_type": "stream",
       "stream": "stdout",
       "text": [
        "\n",
        "f=1296 M=2101 N=4096 fEst=[ 1296.01501447] error=[-0.01501447]"
       ]
      },
      {
       "output_type": "stream",
       "stream": "stdout",
       "text": [
        "\n",
        "f=1297 M=2101 N=4096 fEst=[ 1297.00566661] error=[-0.00566661]"
       ]
      },
      {
       "output_type": "stream",
       "stream": "stdout",
       "text": [
        "\n",
        "f=1298 M=2101 N=4096 fEst=[ 1297.99125677] error=[ 0.00874323]"
       ]
      },
      {
       "output_type": "stream",
       "stream": "stdout",
       "text": [
        "\n",
        "f=1299 M=2101 N=4096 fEst=[ 1298.98380889] error=[ 0.01619111]"
       ]
      },
      {
       "output_type": "stream",
       "stream": "stdout",
       "text": [
        "\n",
        "f=1300 M=2101 N=4096 fEst=[ 1299.98290191] error=[ 0.01709809]"
       ]
      },
      {
       "output_type": "stream",
       "stream": "stdout",
       "text": [
        "\n",
        "f=1301 M=2101 N=4096 fEst=[ 1300.98679474] error=[ 0.01320526]"
       ]
      },
      {
       "output_type": "stream",
       "stream": "stdout",
       "text": [
        "\n",
        "f=1302 M=2101 N=4096 fEst=[ 1301.99374719] error=[ 0.00625281]"
       ]
      },
      {
       "output_type": "stream",
       "stream": "stdout",
       "text": [
        "\n",
        "f=1303 M=2101 N=4096 fEst=[ 1303.00201969] error=[-0.00201969]"
       ]
      },
      {
       "output_type": "stream",
       "stream": "stdout",
       "text": [
        "\n",
        "f=1304 M=2101 N=4096 fEst=[ 1304.0098729] error=[-0.0098729]"
       ]
      },
      {
       "output_type": "stream",
       "stream": "stdout",
       "text": [
        "\n",
        "f=1305 M=2101 N=4096 fEst=[ 1305.01556741] error=[-0.01556741]"
       ]
      },
      {
       "output_type": "stream",
       "stream": "stdout",
       "text": [
        "\n",
        "f=1306 M=2101 N=4096 fEst=[ 1306.01736335] error=[-0.01736335]"
       ]
      },
      {
       "output_type": "stream",
       "stream": "stdout",
       "text": [
        "\n",
        "f=1307 M=2101 N=4096 fEst=[ 1307.01352008] error=[-0.01352008]"
       ]
      },
      {
       "output_type": "stream",
       "stream": "stdout",
       "text": [
        "\n",
        "f=1308 M=2101 N=4096 fEst=[ 1308.00229584] error=[-0.00229584]"
       ]
      },
      {
       "output_type": "stream",
       "stream": "stdout",
       "text": [
        "\n",
        "f=1309 M=2101 N=4096 fEst=[ 1308.98884508] error=[ 0.01115492]\n",
        "f=1310 M=2101 N=4096 fEst=[ 1309.98308115] error=[ 0.01691885]"
       ]
      },
      {
       "output_type": "stream",
       "stream": "stdout",
       "text": [
        "\n",
        "f=1311 M=2101 N=4096 fEst=[ 1310.98345117] error=[ 0.01654883]"
       ]
      },
      {
       "output_type": "stream",
       "stream": "stdout",
       "text": [
        "\n",
        "f=1312 M=2101 N=4096 fEst=[ 1311.98821425] error=[ 0.01178575]"
       ]
      },
      {
       "output_type": "stream",
       "stream": "stdout",
       "text": [
        "\n",
        "f=1313 M=2101 N=4096 fEst=[ 1312.99563037] error=[ 0.00436963]"
       ]
      },
      {
       "output_type": "stream",
       "stream": "stdout",
       "text": [
        "\n",
        "f=1314 M=2101 N=4096 fEst=[ 1314.00396005] error=[-0.00396005]"
       ]
      },
      {
       "output_type": "stream",
       "stream": "stdout",
       "text": [
        "\n",
        "f=1315 M=2101 N=4096 fEst=[ 1315.01146401] error=[-0.01146401]"
       ]
      },
      {
       "output_type": "stream",
       "stream": "stdout",
       "text": [
        "\n",
        "f=1316 M=2101 N=4096 fEst=[ 1316.0164028] error=[-0.0164028]"
       ]
      },
      {
       "output_type": "stream",
       "stream": "stdout",
       "text": [
        "\n",
        "f=1317 M=2101 N=4096 fEst=[ 1317.01703649] error=[-0.01703649]"
       ]
      },
      {
       "output_type": "stream",
       "stream": "stdout",
       "text": [
        "\n",
        "f=1318 M=2101 N=4096 fEst=[ 1318.01162428] error=[-0.01162428]"
       ]
      },
      {
       "output_type": "stream",
       "stream": "stdout",
       "text": [
        "\n",
        "f=1319 M=2101 N=4096 fEst=[ 1318.99850237] error=[ 0.00149763]"
       ]
      },
      {
       "output_type": "stream",
       "stream": "stdout",
       "text": [
        "\n",
        "f=1320 M=2101 N=4096 fEst=[ 1319.98685491] error=[ 0.01314509]\n",
        "f=1321 M=2101 N=4096 fEst=[ 1320.98267723] error=[ 0.01732277]"
       ]
      },
      {
       "output_type": "stream",
       "stream": "stdout",
       "text": [
        "\n",
        "f=1322 M=2101 N=4096 fEst=[ 1321.98422758] error=[ 0.01577242]"
       ]
      },
      {
       "output_type": "stream",
       "stream": "stdout",
       "text": [
        "\n",
        "f=1323 M=2101 N=4096 fEst=[ 1322.98976532] error=[ 0.01023468]"
       ]
      },
      {
       "output_type": "stream",
       "stream": "stdout",
       "text": [
        "\n",
        "f=1324 M=2101 N=4096 fEst=[ 1323.99755059] error=[ 0.00244941]"
       ]
      },
      {
       "output_type": "stream",
       "stream": "stdout",
       "text": [
        "\n",
        "f=1325 M=2101 N=4096 fEst=[ 1325.00584395] error=[-0.00584395]"
       ]
      },
      {
       "output_type": "stream",
       "stream": "stdout",
       "text": [
        "\n",
        "f=1326 M=2101 N=4096 fEst=[ 1326.01290608] error=[-0.01290608]\n",
        "f=1327 M=2101 N=4096 fEst=[ 1327.01699738] error=[-0.01699738]"
       ]
      },
      {
       "output_type": "stream",
       "stream": "stdout",
       "text": [
        "\n",
        "f=1328 M=2101 N=4096 fEst=[ 1328.01637766] error=[-0.01637766]"
       ]
      },
      {
       "output_type": "stream",
       "stream": "stdout",
       "text": [
        "\n",
        "f=1329 M=2101 N=4096 fEst=[ 1329.0093058] error=[-0.0093058]"
       ]
      },
      {
       "output_type": "stream",
       "stream": "stdout",
       "text": [
        "\n",
        "f=1330 M=2101 N=4096 fEst=[ 1329.99502744] error=[ 0.00497256]"
       ]
      },
      {
       "output_type": "stream",
       "stream": "stdout",
       "text": [
        "\n",
        "f=1331 M=2101 N=4096 fEst=[ 1330.98528069] error=[ 0.01471931]"
       ]
      },
      {
       "output_type": "stream",
       "stream": "stdout",
       "text": [
        "\n",
        "f=1332 M=2101 N=4096 fEst=[ 1331.98259662] error=[ 0.01740338]"
       ]
      },
      {
       "output_type": "stream",
       "stream": "stdout",
       "text": [
        "\n",
        "f=1333 M=2101 N=4096 fEst=[ 1332.98523372] error=[ 0.01476628]"
       ]
      },
      {
       "output_type": "stream",
       "stream": "stdout",
       "text": [
        "\n",
        "f=1334 M=2101 N=4096 fEst=[ 1333.99145157] error=[ 0.00854843]"
       ]
      },
      {
       "output_type": "stream",
       "stream": "stdout",
       "text": [
        "\n",
        "f=1335 M=2101 N=4096 fEst=[ 1334.99951046] error=[ 0.00048954]"
       ]
      },
      {
       "output_type": "stream",
       "stream": "stdout",
       "text": [
        "\n",
        "f=1336 M=2101 N=4096 fEst=[ 1336.00767103] error=[-0.00767103]\n",
        "f=1337 M=2101 N=4096 fEst=[ 1337.01419399] error=[-0.01419399]"
       ]
      },
      {
       "output_type": "stream",
       "stream": "stdout",
       "text": [
        "\n",
        "f=1338 M=2101 N=4096 fEst=[ 1338.0173397] error=[-0.0173397]"
       ]
      },
      {
       "output_type": "stream",
       "stream": "stdout",
       "text": [
        "\n",
        "f=1339 M=2101 N=4096 fEst=[ 1339.01536788] error=[-0.01536788]"
       ]
      },
      {
       "output_type": "stream",
       "stream": "stdout",
       "text": [
        "\n",
        "f=1340 M=2101 N=4096 fEst=[ 1340.00653724] error=[-0.00653724]"
       ]
      },
      {
       "output_type": "stream",
       "stream": "stdout",
       "text": [
        "\n",
        "f=1341 M=2101 N=4096 fEst=[ 1340.99202453] error=[ 0.00797547]"
       ]
      },
      {
       "output_type": "stream",
       "stream": "stdout",
       "text": [
        "\n",
        "f=1342 M=2101 N=4096 fEst=[ 1341.98408095] error=[ 0.01591905]\n",
        "f=1343 M=2101 N=4096 fEst=[ 1342.98279395] error=[ 0.01720605]"
       ]
      },
      {
       "output_type": "stream",
       "stream": "stdout",
       "text": [
        "\n",
        "f=1344 M=2101 N=4096 fEst=[ 1343.98642233] error=[ 0.01357767]"
       ]
      },
      {
       "output_type": "stream",
       "stream": "stdout",
       "text": [
        "\n",
        "f=1345 M=2101 N=4096 fEst=[ 1344.99322585] error=[ 0.00677415]"
       ]
      },
      {
       "output_type": "stream",
       "stream": "stdout",
       "text": [
        "\n",
        "f=1346 M=2101 N=4096 fEst=[ 1346.00146488] error=[-0.00146488]"
       ]
      },
      {
       "output_type": "stream",
       "stream": "stdout",
       "text": [
        "\n",
        "f=1347 M=2101 N=4096 fEst=[ 1347.00940007] error=[-0.00940007]\n",
        "f=1348 M=2101 N=4096 fEst=[ 1348.015292] error=[-0.015292]"
       ]
      },
      {
       "output_type": "stream",
       "stream": "stdout",
       "text": [
        "\n",
        "f=1349 M=2101 N=4096 fEst=[ 1349.01740084] error=[-0.01740084]"
       ]
      },
      {
       "output_type": "stream",
       "stream": "stdout",
       "text": [
        "\n",
        "f=1350 M=2101 N=4096 fEst=[ 1350.01398602] error=[-0.01398602]"
       ]
      },
      {
       "output_type": "stream",
       "stream": "stdout",
       "text": [
        "\n",
        "f=1351 M=2101 N=4096 fEst=[ 1351.00330584] error=[-0.00330584]"
       ]
      },
      {
       "output_type": "stream",
       "stream": "stdout",
       "text": [
        "\n",
        "f=1352 M=2101 N=4096 fEst=[ 1351.98948826] error=[ 0.01051174]\n",
        "f=1353 M=2101 N=4096 fEst=[ 1352.98325498] error=[ 0.01674502]"
       ]
      },
      {
       "output_type": "stream",
       "stream": "stdout",
       "text": [
        "\n",
        "f=1354 M=2101 N=4096 fEst=[ 1353.9832713] error=[ 0.0167287]"
       ]
      },
      {
       "output_type": "stream",
       "stream": "stdout",
       "text": [
        "\n",
        "f=1355 M=2101 N=4096 fEst=[ 1354.98779627] error=[ 0.01220373]"
       ]
      },
      {
       "output_type": "stream",
       "stream": "stdout",
       "text": [
        "\n",
        "f=1356 M=2101 N=4096 fEst=[ 1355.99508986] error=[ 0.00491014]"
       ]
      },
      {
       "output_type": "stream",
       "stream": "stdout",
       "text": [
        "\n",
        "f=1357 M=2101 N=4096 fEst=[ 1357.00341255] error=[-0.00341255]"
       ]
      },
      {
       "output_type": "stream",
       "stream": "stdout",
       "text": [
        "\n",
        "f=1358 M=2101 N=4096 fEst=[ 1358.01102508] error=[-0.01102508]\n",
        "f=1359 M=2101 N=4096 fEst=[ 1359.01618804] error=[-0.01618804]"
       ]
      },
      {
       "output_type": "stream",
       "stream": "stdout",
       "text": [
        "\n",
        "f=1360 M=2101 N=4096 fEst=[ 1360.01716153] error=[-0.01716153]"
       ]
      },
      {
       "output_type": "stream",
       "stream": "stdout",
       "text": [
        "\n",
        "f=1361 M=2101 N=4096 fEst=[ 1361.01220485] error=[-0.01220485]"
       ]
      },
      {
       "output_type": "stream",
       "stream": "stdout",
       "text": [
        "\n",
        "f=1362 M=2101 N=4096 fEst=[ 1361.99958194] error=[ 0.00041806]"
       ]
      },
      {
       "output_type": "stream",
       "stream": "stdout",
       "text": [
        "\n",
        "f=1363 M=2101 N=4096 fEst=[ 1362.98737706] error=[ 0.01262294]"
       ]
      },
      {
       "output_type": "stream",
       "stream": "stdout",
       "text": [
        "\n",
        "f=1364 M=2101 N=4096 fEst=[ 1363.98275768] error=[ 0.01724232]"
       ]
      },
      {
       "output_type": "stream",
       "stream": "stdout",
       "text": [
        "\n",
        "f=1365 M=2101 N=4096 fEst=[ 1364.98398195] error=[ 0.01601805]"
       ]
      },
      {
       "output_type": "stream",
       "stream": "stdout",
       "text": [
        "\n",
        "f=1366 M=2101 N=4096 fEst=[ 1365.98930914] error=[ 0.01069086]"
       ]
      },
      {
       "output_type": "stream",
       "stream": "stdout",
       "text": [
        "\n",
        "f=1367 M=2101 N=4096 fEst=[ 1366.99699934] error=[ 0.00300066]"
       ]
      },
      {
       "output_type": "stream",
       "stream": "stdout",
       "text": [
        "\n",
        "f=1368 M=2101 N=4096 fEst=[ 1368.00531308] error=[-0.00531308]"
       ]
      },
      {
       "output_type": "stream",
       "stream": "stdout",
       "text": [
        "\n",
        "f=1369 M=2101 N=4096 fEst=[ 1369.01251103] error=[-0.01251103]"
       ]
      },
      {
       "output_type": "stream",
       "stream": "stdout",
       "text": [
        "\n",
        "f=1370 M=2101 N=4096 fEst=[ 1370.0168536] error=[-0.0168536]"
       ]
      },
      {
       "output_type": "stream",
       "stream": "stdout",
       "text": [
        "\n",
        "f=1371 M=2101 N=4096 fEst=[ 1371.01660066] error=[-0.01660066]"
       ]
      },
      {
       "output_type": "stream",
       "stream": "stdout",
       "text": [
        "\n",
        "f=1372 M=2101 N=4096 fEst=[ 1372.01001116] error=[-0.01001116]"
       ]
      },
      {
       "output_type": "stream",
       "stream": "stdout",
       "text": [
        "\n",
        "f=1373 M=2101 N=4096 fEst=[ 1372.99596798] error=[ 0.00403202]"
       ]
      },
      {
       "output_type": "stream",
       "stream": "stdout",
       "text": [
        "\n",
        "f=1374 M=2101 N=4096 fEst=[ 1373.9856902] error=[ 0.0143098]"
       ]
      },
      {
       "output_type": "stream",
       "stream": "stdout",
       "text": [
        "\n",
        "f=1375 M=2101 N=4096 fEst=[ 1374.98259079] error=[ 0.01740921]"
       ]
      },
      {
       "output_type": "stream",
       "stream": "stdout",
       "text": [
        "\n",
        "f=1376 M=2101 N=4096 fEst=[ 1375.98492818] error=[ 0.01507182]"
       ]
      },
      {
       "output_type": "stream",
       "stream": "stdout",
       "text": [
        "\n",
        "f=1377 M=2101 N=4096 fEst=[ 1376.99096191] error=[ 0.00903809]"
       ]
      },
      {
       "output_type": "stream",
       "stream": "stdout",
       "text": [
        "\n",
        "f=1378 M=2101 N=4096 fEst=[ 1377.99895224] error=[ 0.00104776]"
       ]
      },
      {
       "output_type": "stream",
       "stream": "stdout",
       "text": [
        "\n",
        "f=1379 M=2101 N=4096 fEst=[ 1379.00715981] error=[-0.00715981]"
       ]
      },
      {
       "output_type": "stream",
       "stream": "stdout",
       "text": [
        "\n",
        "f=1380 M=2101 N=4096 fEst=[ 1380.01384535] error=[-0.01384535]\n",
        "f=1381 M=2101 N=4096 fEst=[ 1381.01726925] error=[-0.01726925]"
       ]
      },
      {
       "output_type": "stream",
       "stream": "stdout",
       "text": [
        "\n",
        "f=1382 M=2101 N=4096 fEst=[ 1382.01569129] error=[-0.01569129]\n",
        "f=1383 M=2101 N=4096 fEst=[ 1383.00737026] error=[-0.00737026]"
       ]
      },
      {
       "output_type": "stream",
       "stream": "stdout",
       "text": [
        "\n",
        "f=1384 M=2101 N=4096 fEst=[ 1383.99282967] error=[ 0.00717033]"
       ]
      },
      {
       "output_type": "stream",
       "stream": "stdout",
       "text": [
        "\n",
        "f=1385 M=2101 N=4096 fEst=[ 1384.98438269] error=[ 0.01561731]"
       ]
      },
      {
       "output_type": "stream",
       "stream": "stdout",
       "text": [
        "\n",
        "f=1386 M=2101 N=4096 fEst=[ 1385.98270796] error=[ 0.01729204]"
       ]
      },
      {
       "output_type": "stream",
       "stream": "stdout",
       "text": [
        "\n",
        "f=1387 M=2101 N=4096 fEst=[ 1386.98606416] error=[ 0.01393584]"
       ]
      },
      {
       "output_type": "stream",
       "stream": "stdout",
       "text": [
        "\n",
        "f=1388 M=2101 N=4096 fEst=[ 1387.99271101] error=[ 0.00728899]"
       ]
      },
      {
       "output_type": "stream",
       "stream": "stdout",
       "text": [
        "\n",
        "f=1389 M=2101 N=4096 fEst=[ 1389.00090881] error=[-0.00090881]"
       ]
      },
      {
       "output_type": "stream",
       "stream": "stdout",
       "text": [
        "\n",
        "f=1390 M=2101 N=4096 fEst=[ 1390.00891822] error=[-0.00891822]\n",
        "f=1391 M=2101 N=4096 fEst=[ 1391.01499981] error=[-0.01499981]"
       ]
      },
      {
       "output_type": "stream",
       "stream": "stdout",
       "text": [
        "\n",
        "f=1392 M=2101 N=4096 fEst=[ 1392.0174138] error=[-0.0174138]"
       ]
      },
      {
       "output_type": "stream",
       "stream": "stdout",
       "text": [
        "\n",
        "f=1393 M=2101 N=4096 fEst=[ 1393.01441965] error=[-0.01441965]"
       ]
      },
      {
       "output_type": "stream",
       "stream": "stdout",
       "text": [
        "\n",
        "f=1394 M=2101 N=4096 fEst=[ 1394.00427578] error=[-0.00427578]"
       ]
      },
      {
       "output_type": "stream",
       "stream": "stdout",
       "text": [
        "\n",
        "f=1395 M=2101 N=4096 fEst=[ 1394.99016633] error=[ 0.00983367]"
       ]
      },
      {
       "output_type": "stream",
       "stream": "stdout",
       "text": [
        "\n",
        "f=1396 M=2101 N=4096 fEst=[ 1395.98345605] error=[ 0.01654395]"
       ]
      },
      {
       "output_type": "stream",
       "stream": "stdout",
       "text": [
        "\n",
        "f=1397 M=2101 N=4096 fEst=[ 1396.98311104] error=[ 0.01688896]"
       ]
      },
      {
       "output_type": "stream",
       "stream": "stdout",
       "text": [
        "\n",
        "f=1398 M=2101 N=4096 fEst=[ 1397.9873903] error=[ 0.0126097]"
       ]
      },
      {
       "output_type": "stream",
       "stream": "stdout",
       "text": [
        "\n",
        "f=1399 M=2101 N=4096 fEst=[ 1398.99455375] error=[ 0.00544625]"
       ]
      },
      {
       "output_type": "stream",
       "stream": "stdout",
       "text": [
        "\n",
        "f=1400 M=2101 N=4096 fEst=[ 1400.00286187] error=[-0.00286187]"
       ]
      },
      {
       "output_type": "stream",
       "stream": "stdout",
       "text": [
        "\n",
        "f=1401 M=2101 N=4096 fEst=[ 1401.01057539] error=[-0.01057539]"
       ]
      },
      {
       "output_type": "stream",
       "stream": "stdout",
       "text": [
        "\n",
        "f=1402 M=2101 N=4096 fEst=[ 1402.01595494] error=[-0.01595494]"
       ]
      },
      {
       "output_type": "stream",
       "stream": "stdout",
       "text": [
        "\n",
        "f=1403 M=2101 N=4096 fEst=[ 1403.01726065] error=[-0.01726065]"
       ]
      },
      {
       "output_type": "stream",
       "stream": "stdout",
       "text": [
        "\n",
        "f=1404 M=2101 N=4096 fEst=[ 1404.01275189] error=[-0.01275189]"
       ]
      },
      {
       "output_type": "stream",
       "stream": "stdout",
       "text": [
        "\n",
        "f=1405 M=2101 N=4096 fEst=[ 1405.00068686] error=[-0.00068686]"
       ]
      },
      {
       "output_type": "stream",
       "stream": "stdout",
       "text": [
        "\n",
        "f=1406 M=2101 N=4096 fEst=[ 1405.98793299] error=[ 0.01206701]"
       ]
      },
      {
       "output_type": "stream",
       "stream": "stdout",
       "text": [
        "\n",
        "f=1407 M=2101 N=4096 fEst=[ 1406.9828642] error=[ 0.0171358]"
       ]
      },
      {
       "output_type": "stream",
       "stream": "stdout",
       "text": [
        "\n",
        "f=1408 M=2101 N=4096 fEst=[ 1407.98375465] error=[ 0.01624535]"
       ]
      },
      {
       "output_type": "stream",
       "stream": "stdout",
       "text": [
        "\n",
        "f=1409 M=2101 N=4096 fEst=[ 1408.98886355] error=[ 0.01113645]\n",
        "f=1410 M=2101 N=4096 fEst=[ 1409.99645093] error=[ 0.00354907]"
       ]
      },
      {
       "output_type": "stream",
       "stream": "stdout",
       "text": [
        "\n",
        "f=1411 M=2101 N=4096 fEst=[ 1411.0047773] error=[-0.0047773]"
       ]
      },
      {
       "output_type": "stream",
       "stream": "stdout",
       "text": [
        "\n",
        "f=1412 M=2101 N=4096 fEst=[ 1412.0121033] error=[-0.0121033]"
       ]
      },
      {
       "output_type": "stream",
       "stream": "stdout",
       "text": [
        "\n",
        "f=1413 M=2101 N=4096 fEst=[ 1413.01668939] error=[-0.01668939]"
       ]
      },
      {
       "output_type": "stream",
       "stream": "stdout",
       "text": [
        "\n",
        "f=1414 M=2101 N=4096 fEst=[ 1414.01679547] error=[-0.01679547]"
       ]
      },
      {
       "output_type": "stream",
       "stream": "stdout",
       "text": [
        "\n",
        "f=1415 M=2101 N=4096 fEst=[ 1415.01068058] error=[-0.01068058]"
       ]
      },
      {
       "output_type": "stream",
       "stream": "stdout",
       "text": [
        "\n",
        "f=1416 M=2101 N=4096 fEst=[ 1415.99694753] error=[ 0.00305247]"
       ]
      },
      {
       "output_type": "stream",
       "stream": "stdout",
       "text": [
        "\n",
        "f=1417 M=2101 N=4096 fEst=[ 1416.98613105] error=[ 0.01386895]"
       ]
      },
      {
       "output_type": "stream",
       "stream": "stdout",
       "text": [
        "\n",
        "f=1418 M=2101 N=4096 fEst=[ 1417.98260867] error=[ 0.01739133]"
       ]
      },
      {
       "output_type": "stream",
       "stream": "stdout",
       "text": [
        "\n",
        "f=1419 M=2101 N=4096 fEst=[ 1418.98463874] error=[ 0.01536126]"
       ]
      },
      {
       "output_type": "stream",
       "stream": "stdout",
       "text": [
        "\n",
        "f=1420 M=2101 N=4096 fEst=[ 1419.99048075] error=[ 0.00951925]"
       ]
      },
      {
       "output_type": "stream",
       "stream": "stdout",
       "text": [
        "\n",
        "f=1421 M=2101 N=4096 fEst=[ 1420.99839492] error=[ 0.00160508]"
       ]
      },
      {
       "output_type": "stream",
       "stream": "stdout",
       "text": [
        "\n",
        "f=1422 M=2101 N=4096 fEst=[ 1422.00664191] error=[-0.00664191]"
       ]
      },
      {
       "output_type": "stream",
       "stream": "stdout",
       "text": [
        "\n",
        "f=1423 M=2101 N=4096 fEst=[ 1423.01348244] error=[-0.01348244]"
       ]
      },
      {
       "output_type": "stream",
       "stream": "stdout",
       "text": [
        "\n",
        "f=1424 M=2101 N=4096 fEst=[ 1424.01717693] error=[-0.01717693]"
       ]
      },
      {
       "output_type": "stream",
       "stream": "stdout",
       "text": [
        "\n",
        "f=1425 M=2101 N=4096 fEst=[ 1425.01598523] error=[-0.01598523]\n",
        "f=1426 M=2101 N=4096 fEst=[ 1426.00816618] error=[-0.00816618]"
       ]
      },
      {
       "output_type": "stream",
       "stream": "stdout",
       "text": [
        "\n",
        "f=1427 M=2101 N=4096 fEst=[ 1426.99367268] error=[ 0.00632732]"
       ]
      },
      {
       "output_type": "stream",
       "stream": "stdout",
       "text": [
        "\n",
        "f=1428 M=2101 N=4096 fEst=[ 1427.9847146] error=[ 0.0152854]"
       ]
      },
      {
       "output_type": "stream",
       "stream": "stdout",
       "text": [
        "\n",
        "f=1429 M=2101 N=4096 fEst=[ 1428.98264439] error=[ 0.01735561]"
       ]
      },
      {
       "output_type": "stream",
       "stream": "stdout",
       "text": [
        "\n",
        "f=1430 M=2101 N=4096 fEst=[ 1429.98572068] error=[ 0.01427932]\n",
        "f=1431 M=2101 N=4096 fEst=[ 1430.9922031] error=[ 0.0077969]"
       ]
      },
      {
       "output_type": "stream",
       "stream": "stdout",
       "text": [
        "\n",
        "f=1432 M=2101 N=4096 fEst=[ 1432.00035193] error=[-0.00035193]"
       ]
      },
      {
       "output_type": "stream",
       "stream": "stdout",
       "text": [
        "\n",
        "f=1433 M=2101 N=4096 fEst=[ 1433.0084278] error=[-0.0084278]"
       ]
      },
      {
       "output_type": "stream",
       "stream": "stdout",
       "text": [
        "\n",
        "f=1434 M=2101 N=4096 fEst=[ 1434.0146913] error=[-0.0146913]"
       ]
      },
      {
       "output_type": "stream",
       "stream": "stdout",
       "text": [
        "\n",
        "f=1435 M=2101 N=4096 fEst=[ 1435.01740268] error=[-0.01740268]"
       ]
      },
      {
       "output_type": "stream",
       "stream": "stdout",
       "text": [
        "\n",
        "f=1436 M=2101 N=4096 fEst=[ 1436.01482147] error=[-0.01482147]"
       ]
      },
      {
       "output_type": "stream",
       "stream": "stdout",
       "text": [
        "\n",
        "f=1437 M=2101 N=4096 fEst=[ 1437.00520617] error=[-0.00520617]"
       ]
      },
      {
       "output_type": "stream",
       "stream": "stdout",
       "text": [
        "\n",
        "f=1438 M=2101 N=4096 fEst=[ 1437.99087985] error=[ 0.00912015]"
       ]
      },
      {
       "output_type": "stream",
       "stream": "stdout",
       "text": [
        "\n",
        "f=1439 M=2101 N=4096 fEst=[ 1438.98368493] error=[ 0.01631507]"
       ]
      },
      {
       "output_type": "stream",
       "stream": "stdout",
       "text": [
        "\n",
        "f=1440 M=2101 N=4096 fEst=[ 1439.98297097] error=[ 0.01702903]"
       ]
      },
      {
       "output_type": "stream",
       "stream": "stdout",
       "text": [
        "\n",
        "f=1441 M=2101 N=4096 fEst=[ 1440.98699691] error=[ 0.01300309]"
       ]
      },
      {
       "output_type": "stream",
       "stream": "stdout",
       "text": [
        "\n",
        "f=1442 M=2101 N=4096 fEst=[ 1441.99402263] error=[ 0.00597737]"
       ]
      },
      {
       "output_type": "stream",
       "stream": "stdout",
       "text": [
        "\n",
        "f=1443 M=2101 N=4096 fEst=[ 1443.00230859] error=[-0.00230859]"
       ]
      },
      {
       "output_type": "stream",
       "stream": "stdout",
       "text": [
        "\n",
        "f=1444 M=2101 N=4096 fEst=[ 1444.01011552] error=[-0.01011552]"
       ]
      },
      {
       "output_type": "stream",
       "stream": "stdout",
       "text": [
        "\n",
        "f=1445 M=2101 N=4096 fEst=[ 1445.01570405] error=[-0.01570405]"
       ]
      },
      {
       "output_type": "stream",
       "stream": "stdout",
       "text": [
        "\n",
        "f=1446 M=2101 N=4096 fEst=[ 1446.01733437] error=[-0.01733437]"
       ]
      },
      {
       "output_type": "stream",
       "stream": "stdout",
       "text": [
        "\n",
        "f=1447 M=2101 N=4096 fEst=[ 1447.0132659] error=[-0.0132659]"
       ]
      },
      {
       "output_type": "stream",
       "stream": "stdout",
       "text": [
        "\n",
        "f=1448 M=2101 N=4096 fEst=[ 1448.00175692] error=[-0.00175692]"
       ]
      },
      {
       "output_type": "stream",
       "stream": "stdout",
       "text": [
        "\n",
        "f=1449 M=2101 N=4096 fEst=[ 1448.98852317] error=[ 0.01147683]"
       ]
      },
      {
       "output_type": "stream",
       "stream": "stdout",
       "text": [
        "\n",
        "f=1450 M=2101 N=4096 fEst=[ 1449.98299723] error=[ 0.01700277]"
       ]
      },
      {
       "output_type": "stream",
       "stream": "stdout",
       "text": [
        "\n",
        "f=1451 M=2101 N=4096 fEst=[ 1450.98354613] error=[ 0.01645387]"
       ]
      },
      {
       "output_type": "stream",
       "stream": "stdout",
       "text": [
        "\n",
        "f=1452 M=2101 N=4096 fEst=[ 1451.988429] error=[ 0.011571]"
       ]
      },
      {
       "output_type": "stream",
       "stream": "stdout",
       "text": [
        "\n",
        "f=1453 M=2101 N=4096 fEst=[ 1452.9959058] error=[ 0.0040942]"
       ]
      },
      {
       "output_type": "stream",
       "stream": "stdout",
       "text": [
        "\n",
        "f=1454 M=2101 N=4096 fEst=[ 1454.00423704] error=[-0.00423704]"
       ]
      },
      {
       "output_type": "stream",
       "stream": "stdout",
       "text": [
        "\n",
        "f=1455 M=2101 N=4096 fEst=[ 1455.01168335] error=[-0.01168335]\n",
        "f=1456 M=2101 N=4096 fEst=[ 1456.01650522] error=[-0.01650522]"
       ]
      },
      {
       "output_type": "stream",
       "stream": "stdout",
       "text": [
        "\n",
        "f=1457 M=2101 N=4096 fEst=[ 1457.01696259] error=[-0.01696259]"
       ]
      },
      {
       "output_type": "stream",
       "stream": "stdout",
       "text": [
        "\n",
        "f=1458 M=2101 N=4096 fEst=[ 1458.01131458] error=[-0.01131458]"
       ]
      },
      {
       "output_type": "stream",
       "stream": "stdout",
       "text": [
        "\n",
        "f=1459 M=2101 N=4096 fEst=[ 1458.99796662] error=[ 0.00203338]\n",
        "f=1460 M=2101 N=4096 fEst=[ 1459.98660381] error=[ 0.01339619]"
       ]
      },
      {
       "output_type": "stream",
       "stream": "stdout",
       "text": [
        "\n",
        "f=1461 M=2101 N=4096 fEst=[ 1460.98265082] error=[ 0.01734918]"
       ]
      },
      {
       "output_type": "stream",
       "stream": "stdout",
       "text": [
        "\n",
        "f=1462 M=2101 N=4096 fEst=[ 1461.98436597] error=[ 0.01563403]"
       ]
      },
      {
       "output_type": "stream",
       "stream": "stdout",
       "text": [
        "\n",
        "f=1463 M=2101 N=4096 fEst=[ 1462.99000866] error=[ 0.00999134]"
       ]
      },
      {
       "output_type": "stream",
       "stream": "stdout",
       "text": [
        "\n",
        "f=1464 M=2101 N=4096 fEst=[ 1463.99783909] error=[ 0.00216091]\n",
        "f=1465 M=2101 N=4096 fEst=[ 1465.0061179] error=[-0.0061179]"
       ]
      },
      {
       "output_type": "stream",
       "stream": "stdout",
       "text": [
        "\n",
        "f=1466 M=2101 N=4096 fEst=[ 1466.01310582] error=[-0.01310582]"
       ]
      },
      {
       "output_type": "stream",
       "stream": "stdout",
       "text": [
        "\n",
        "f=1467 M=2101 N=4096 fEst=[ 1467.0170633] error=[-0.0170633]"
       ]
      },
      {
       "output_type": "stream",
       "stream": "stdout",
       "text": [
        "\n",
        "f=1468 M=2101 N=4096 fEst=[ 1468.01625021] error=[-0.01625021]"
       ]
      },
      {
       "output_type": "stream",
       "stream": "stdout",
       "text": [
        "\n",
        "f=1469 M=2101 N=4096 fEst=[ 1469.00892549] error=[-0.00892549]"
       ]
      },
      {
       "output_type": "stream",
       "stream": "stdout",
       "text": [
        "\n",
        "f=1470 M=2101 N=4096 fEst=[ 1469.99455404] error=[ 0.00544596]"
       ]
      },
      {
       "output_type": "stream",
       "stream": "stdout",
       "text": [
        "\n",
        "f=1471 M=2101 N=4096 fEst=[ 1470.98507711] error=[ 0.01492289]"
       ]
      },
      {
       "output_type": "stream",
       "stream": "stdout",
       "text": [
        "\n",
        "f=1472 M=2101 N=4096 fEst=[ 1471.98260369] error=[ 0.01739631]"
       ]
      },
      {
       "output_type": "stream",
       "stream": "stdout",
       "text": [
        "\n",
        "f=1473 M=2101 N=4096 fEst=[ 1472.98539232] error=[ 0.01460768]"
       ]
      },
      {
       "output_type": "stream",
       "stream": "stdout",
       "text": [
        "\n",
        "f=1474 M=2101 N=4096 fEst=[ 1473.99170257] error=[ 0.00829743]"
       ]
      },
      {
       "output_type": "stream",
       "stream": "stdout",
       "text": [
        "\n",
        "f=1475 M=2101 N=4096 fEst=[ 1474.99979468] error=[ 0.00020532]"
       ]
      },
      {
       "output_type": "stream",
       "stream": "stdout",
       "text": [
        "\n",
        "f=1476 M=2101 N=4096 fEst=[ 1476.00792927] error=[-0.00792927]"
       ]
      },
      {
       "output_type": "stream",
       "stream": "stdout",
       "text": [
        "\n",
        "f=1477 M=2101 N=4096 fEst=[ 1477.01436694] error=[-0.01436694]"
       ]
      },
      {
       "output_type": "stream",
       "stream": "stdout",
       "text": [
        "\n",
        "f=1478 M=2101 N=4096 fEst=[ 1478.01736798] error=[-0.01736798]"
       ]
      },
      {
       "output_type": "stream",
       "stream": "stdout",
       "text": [
        "\n",
        "f=1479 M=2101 N=4096 fEst=[ 1479.015192] error=[-0.015192]"
       ]
      },
      {
       "output_type": "stream",
       "stream": "stdout",
       "text": [
        "\n",
        "f=1480 M=2101 N=4096 fEst=[ 1480.00609757] error=[-0.00609757]"
       ]
      },
      {
       "output_type": "stream",
       "stream": "stdout",
       "text": [
        "\n",
        "f=1481 M=2101 N=4096 fEst=[ 1480.99162937] error=[ 0.00837063]"
       ]
      },
      {
       "output_type": "stream",
       "stream": "stdout",
       "text": [
        "\n",
        "f=1482 M=2101 N=4096 fEst=[ 1481.98394218] error=[ 0.01605782]"
       ]
      },
      {
       "output_type": "stream",
       "stream": "stdout",
       "text": [
        "\n",
        "f=1483 M=2101 N=4096 fEst=[ 1482.98285167] error=[ 0.01714833]"
       ]
      },
      {
       "output_type": "stream",
       "stream": "stdout",
       "text": [
        "\n",
        "f=1484 M=2101 N=4096 fEst=[ 1483.98661669] error=[ 0.01338331]"
       ]
      },
      {
       "output_type": "stream",
       "stream": "stdout",
       "text": [
        "\n",
        "f=1485 M=2101 N=4096 fEst=[ 1484.99349708] error=[ 0.00650292]\n",
        "f=1486 M=2101 N=4096 fEst=[ 1486.00175328] error=[-0.00175328]"
       ]
      },
      {
       "output_type": "stream",
       "stream": "stdout",
       "text": [
        "\n",
        "f=1487 M=2101 N=4096 fEst=[ 1487.00964601] error=[-0.00964601]"
       ]
      },
      {
       "output_type": "stream",
       "stream": "stdout",
       "text": [
        "\n",
        "f=1488 M=2101 N=4096 fEst=[ 1488.01543591] error=[-0.01543591]"
       ]
      },
      {
       "output_type": "stream",
       "stream": "stdout",
       "text": [
        "\n",
        "f=1489 M=2101 N=4096 fEst=[ 1489.01738321] error=[-0.01738321]"
       ]
      },
      {
       "output_type": "stream",
       "stream": "stdout",
       "text": [
        "\n",
        "f=1490 M=2101 N=4096 fEst=[ 1490.01374737] error=[-0.01374737]\n",
        "f=1491 M=2101 N=4096 fEst=[ 1491.00278676] error=[-0.00278676]"
       ]
      },
      {
       "output_type": "stream",
       "stream": "stdout",
       "text": [
        "\n",
        "f=1492 M=2101 N=4096 fEst=[ 1491.98914805] error=[ 0.01085195]"
       ]
      },
      {
       "output_type": "stream",
       "stream": "stdout",
       "text": [
        "\n",
        "f=1493 M=2101 N=4096 fEst=[ 1492.98315722] error=[ 0.01684278]"
       ]
      },
      {
       "output_type": "stream",
       "stream": "stdout",
       "text": [
        "\n",
        "f=1494 M=2101 N=4096 fEst=[ 1493.98335682] error=[ 0.01664318]"
       ]
      },
      {
       "output_type": "stream",
       "stream": "stdout",
       "text": [
        "\n",
        "f=1495 M=2101 N=4096 fEst=[ 1494.9880059] error=[ 0.0119941]"
       ]
      },
      {
       "output_type": "stream",
       "stream": "stdout",
       "text": [
        "\n",
        "f=1496 M=2101 N=4096 fEst=[ 1495.9953644] error=[ 0.0046356]\n",
        "f=1497 M=2101 N=4096 fEst=[ 1497.00369276] error=[-0.00369276]"
       ]
      },
      {
       "output_type": "stream",
       "stream": "stdout",
       "text": [
        "\n",
        "f=1498 M=2101 N=4096 fEst=[ 1498.01125165] error=[-0.01125165]"
       ]
      },
      {
       "output_type": "stream",
       "stream": "stdout",
       "text": [
        "\n",
        "f=1499 M=2101 N=4096 fEst=[ 1499.01630158] error=[-0.01630158]"
       ]
      },
      {
       "output_type": "stream",
       "stream": "stdout",
       "text": [
        "\n",
        "f=1500 M=2101 N=4096 fEst=[ 1500.01710254] error=[-0.01710254]"
       ]
      },
      {
       "output_type": "stream",
       "stream": "stdout",
       "text": [
        "\n",
        "f=1501 M=2101 N=4096 fEst=[ 1501.01191372] error=[-0.01191372]"
       ]
      },
      {
       "output_type": "stream",
       "stream": "stdout",
       "text": [
        "\n",
        "f=1502 M=2101 N=4096 fEst=[ 1501.99902581] error=[ 0.00097419]"
       ]
      },
      {
       "output_type": "stream",
       "stream": "stdout",
       "text": [
        "\n",
        "f=1503 M=2101 N=4096 fEst=[ 1502.98710903] error=[ 0.01289097]"
       ]
      },
      {
       "output_type": "stream",
       "stream": "stdout",
       "text": [
        "\n",
        "f=1504 M=2101 N=4096 fEst=[ 1503.98271784] error=[ 0.01728216]"
       ]
      },
      {
       "output_type": "stream",
       "stream": "stdout",
       "text": [
        "\n",
        "f=1505 M=2101 N=4096 fEst=[ 1504.98411045] error=[ 0.01588955]"
       ]
      },
      {
       "output_type": "stream",
       "stream": "stdout",
       "text": [
        "\n",
        "f=1506 M=2101 N=4096 fEst=[ 1505.98954622] error=[ 0.01045378]"
       ]
      },
      {
       "output_type": "stream",
       "stream": "stdout",
       "text": [
        "\n",
        "f=1507 M=2101 N=4096 fEst=[ 1506.99728532] error=[ 0.00271468]"
       ]
      },
      {
       "output_type": "stream",
       "stream": "stdout",
       "text": [
        "\n",
        "f=1508 M=2101 N=4096 fEst=[ 1508.00558834] error=[-0.00558834]\n",
        "f=1509 M=2101 N=4096 fEst=[ 1509.01271602] error=[-0.01271602]"
       ]
      },
      {
       "output_type": "stream",
       "stream": "stdout",
       "text": [
        "\n",
        "f=1510 M=2101 N=4096 fEst=[ 1510.01692885] error=[-0.01692885]"
       ]
      },
      {
       "output_type": "stream",
       "stream": "stdout",
       "text": [
        "\n",
        "f=1511 M=2101 N=4096 fEst=[ 1511.01648674] error=[-0.01648674]"
       ]
      },
      {
       "output_type": "stream",
       "stream": "stdout",
       "text": [
        "\n",
        "f=1512 M=2101 N=4096 fEst=[ 1512.00964866] error=[-0.00964866]"
       ]
      },
      {
       "output_type": "stream",
       "stream": "stdout",
       "text": [
        "\n",
        "f=1513 M=2101 N=4096 fEst=[ 1512.9954742] error=[ 0.0045258]"
       ]
      },
      {
       "output_type": "stream",
       "stream": "stdout",
       "text": [
        "\n",
        "f=1514 M=2101 N=4096 fEst=[ 1513.98547067] error=[ 0.01452933]"
       ]
      },
      {
       "output_type": "stream",
       "stream": "stdout",
       "text": [
        "\n",
        "f=1515 M=2101 N=4096 fEst=[ 1514.98258629] error=[ 0.01741371]"
       ]
      },
      {
       "output_type": "stream",
       "stream": "stdout",
       "text": [
        "\n",
        "f=1516 M=2101 N=4096 fEst=[ 1515.98507952] error=[ 0.01492048]"
       ]
      },
      {
       "output_type": "stream",
       "stream": "stdout",
       "text": [
        "\n",
        "f=1517 M=2101 N=4096 fEst=[ 1516.99120985] error=[ 0.00879015]"
       ]
      },
      {
       "output_type": "stream",
       "stream": "stdout",
       "text": [
        "\n",
        "f=1518 M=2101 N=4096 fEst=[ 1517.99923751] error=[ 0.00076249]"
       ]
      },
      {
       "output_type": "stream",
       "stream": "stdout",
       "text": [
        "\n",
        "f=1519 M=2101 N=4096 fEst=[ 1519.00742309] error=[-0.00742309]"
       ]
      },
      {
       "output_type": "stream",
       "stream": "stdout",
       "text": [
        "\n",
        "f=1520 M=2101 N=4096 fEst=[ 1520.01402722] error=[-0.01402722]"
       ]
      },
      {
       "output_type": "stream",
       "stream": "stdout",
       "text": [
        "\n",
        "f=1521 M=2101 N=4096 fEst=[ 1521.01731023] error=[-0.01731023]"
       ]
      },
      {
       "output_type": "stream",
       "stream": "stdout",
       "text": [
        "\n",
        "f=1522 M=2101 N=4096 fEst=[ 1522.01553177] error=[-0.01553177]\n",
        "f=1523 M=2101 N=4096 fEst=[ 1523.00695053] error=[-0.00695053]"
       ]
      },
      {
       "output_type": "stream",
       "stream": "stdout",
       "text": [
        "\n",
        "f=1524 M=2101 N=4096 fEst=[ 1523.99241546] error=[ 0.00758454]"
       ]
      },
      {
       "output_type": "stream",
       "stream": "stdout",
       "text": [
        "\n",
        "f=1525 M=2101 N=4096 fEst=[ 1524.98422839] error=[ 0.01577161]"
       ]
      },
      {
       "output_type": "stream",
       "stream": "stdout",
       "text": [
        "\n",
        "f=1526 M=2101 N=4096 fEst=[ 1525.9827537] error=[ 0.0172463]"
       ]
      },
      {
       "output_type": "stream",
       "stream": "stdout",
       "text": [
        "\n",
        "f=1527 M=2101 N=4096 fEst=[ 1526.98625021] error=[ 0.01374979]"
       ]
      },
      {
       "output_type": "stream",
       "stream": "stdout",
       "text": [
        "\n",
        "f=1528 M=2101 N=4096 fEst=[ 1527.99297767] error=[ 0.00702233]"
       ]
      },
      {
       "output_type": "stream",
       "stream": "stdout",
       "text": [
        "\n",
        "f=1529 M=2101 N=4096 fEst=[ 1529.0011965] error=[-0.0011965]"
       ]
      },
      {
       "output_type": "stream",
       "stream": "stdout",
       "text": [
        "\n",
        "f=1530 M=2101 N=4096 fEst=[ 1530.0091674] error=[-0.0091674]"
       ]
      },
      {
       "output_type": "stream",
       "stream": "stdout",
       "text": [
        "\n",
        "f=1531 M=2101 N=4096 fEst=[ 1531.01515104] error=[-0.01515104]"
       ]
      },
      {
       "output_type": "stream",
       "stream": "stdout",
       "text": [
        "\n",
        "f=1532 M=2101 N=4096 fEst=[ 1532.01740766] error=[-0.01740766]\n",
        "f=1533 M=2101 N=4096 fEst=[ 1533.01419678] error=[-0.01419678]"
       ]
      },
      {
       "output_type": "stream",
       "stream": "stdout",
       "text": [
        "\n",
        "f=1534 M=2101 N=4096 fEst=[ 1534.00377684] error=[-0.00377684]"
       ]
      },
      {
       "output_type": "stream",
       "stream": "stdout",
       "text": [
        "\n",
        "f=1535 M=2101 N=4096 fEst=[ 1534.98980808] error=[ 0.01019192]"
       ]
      },
      {
       "output_type": "stream",
       "stream": "stdout",
       "text": [
        "\n",
        "f=1536 M=2101 N=4096 fEst=[ 1535.98334461] error=[ 0.01665539]"
       ]
      },
      {
       "output_type": "stream",
       "stream": "stdout",
       "text": [
        "\n",
        "f=1537 M=2101 N=4096 fEst=[ 1536.98318717] error=[ 0.01681283]"
       ]
      },
      {
       "output_type": "stream",
       "stream": "stdout",
       "text": [
        "\n",
        "f=1538 M=2101 N=4096 fEst=[ 1537.98759473] error=[ 0.01240527]"
       ]
      },
      {
       "output_type": "stream",
       "stream": "stdout",
       "text": [
        "\n",
        "f=1539 M=2101 N=4096 fEst=[ 1538.99482717] error=[ 0.00517283]"
       ]
      },
      {
       "output_type": "stream",
       "stream": "stdout",
       "text": [
        "\n",
        "f=1540 M=2101 N=4096 fEst=[ 1540.00314495] error=[-0.00314495]"
       ]
      },
      {
       "output_type": "stream",
       "stream": "stdout",
       "text": [
        "\n",
        "f=1541 M=2101 N=4096 fEst=[ 1541.01080871] error=[-0.01080871]\n",
        "f=1542 M=2101 N=4096 fEst=[ 1542.01607899] error=[-0.01607899]"
       ]
      },
      {
       "output_type": "stream",
       "stream": "stdout",
       "text": [
        "\n",
        "f=1543 M=2101 N=4096 fEst=[ 1543.01721584] error=[-0.01721584]"
       ]
      },
      {
       "output_type": "stream",
       "stream": "stdout",
       "text": [
        "\n",
        "f=1544 M=2101 N=4096 fEst=[ 1544.01247853] error=[-0.01247853]"
       ]
      },
      {
       "output_type": "stream",
       "stream": "stdout",
       "text": [
        "\n",
        "f=1545 M=2101 N=4096 fEst=[ 1545.00012516] error=[-0.00012516]"
       ]
      },
      {
       "output_type": "stream",
       "stream": "stdout",
       "text": [
        "\n",
        "f=1546 M=2101 N=4096 fEst=[ 1545.9876473] error=[ 0.0123527]"
       ]
      },
      {
       "output_type": "stream",
       "stream": "stdout",
       "text": [
        "\n",
        "f=1547 M=2101 N=4096 fEst=[ 1546.98281029] error=[ 0.01718971]"
       ]
      },
      {
       "output_type": "stream",
       "stream": "stdout",
       "text": [
        "\n",
        "f=1548 M=2101 N=4096 fEst=[ 1547.98387276] error=[ 0.01612724]"
       ]
      },
      {
       "output_type": "stream",
       "stream": "stdout",
       "text": [
        "\n",
        "f=1549 M=2101 N=4096 fEst=[ 1548.98909401] error=[ 0.01090599]"
       ]
      },
      {
       "output_type": "stream",
       "stream": "stdout",
       "text": [
        "\n",
        "f=1550 M=2101 N=4096 fEst=[ 1549.99673414] error=[ 0.00326586]"
       ]
      },
      {
       "output_type": "stream",
       "stream": "stdout",
       "text": [
        "\n",
        "f=1551 M=2101 N=4096 fEst=[ 1551.00505376] error=[-0.00505376]"
       ]
      },
      {
       "output_type": "stream",
       "stream": "stdout",
       "text": [
        "\n",
        "f=1552 M=2101 N=4096 fEst=[ 1552.01231358] error=[-0.01231358]\n",
        "f=1553 M=2101 N=4096 fEst=[ 1553.0167741] error=[-0.0167741]"
       ]
      },
      {
       "output_type": "stream",
       "stream": "stdout",
       "text": [
        "\n",
        "f=1554 M=2101 N=4096 fEst=[ 1554.01669527] error=[-0.01669527]"
       ]
      },
      {
       "output_type": "stream",
       "stream": "stdout",
       "text": [
        "\n",
        "f=1555 M=2101 N=4096 fEst=[ 1555.01033615] error=[-0.01033615]"
       ]
      },
      {
       "output_type": "stream",
       "stream": "stdout",
       "text": [
        "\n",
        "f=1556 M=2101 N=4096 fEst=[ 1555.99643361] error=[ 0.00356639]"
       ]
      },
      {
       "output_type": "stream",
       "stream": "stdout",
       "text": [
        "\n",
        "f=1557 M=2101 N=4096 fEst=[ 1556.98589573] error=[ 0.01410427]"
       ]
      },
      {
       "output_type": "stream",
       "stream": "stdout",
       "text": [
        "\n",
        "f=1558 M=2101 N=4096 fEst=[ 1557.98259265] error=[ 0.01740735]"
       ]
      },
      {
       "output_type": "stream",
       "stream": "stdout",
       "text": [
        "\n",
        "f=1559 M=2101 N=4096 fEst=[ 1558.98478273] error=[ 0.01521727]"
       ]
      },
      {
       "output_type": "stream",
       "stream": "stdout",
       "text": [
        "\n",
        "f=1560 M=2101 N=4096 fEst=[ 1559.99072542] error=[ 0.00927458]"
       ]
      },
      {
       "output_type": "stream",
       "stream": "stdout",
       "text": [
        "\n",
        "f=1561 M=2101 N=4096 fEst=[ 1560.9986809] error=[ 0.0013191]"
       ]
      },
      {
       "output_type": "stream",
       "stream": "stdout",
       "text": [
        "\n",
        "f=1562 M=2101 N=4096 fEst=[ 1562.00690976] error=[-0.00690976]\n",
        "f=1563 M=2101 N=4096 fEst=[ 1563.01367266] error=[-0.01367266]"
       ]
      },
      {
       "output_type": "stream",
       "stream": "stdout",
       "text": [
        "\n",
        "f=1564 M=2101 N=4096 fEst=[ 1564.01722994] error=[-0.01722994]"
       ]
      },
      {
       "output_type": "stream",
       "stream": "stdout",
       "text": [
        "\n",
        "f=1565 M=2101 N=4096 fEst=[ 1565.01584134] error=[-0.01584134]"
       ]
      },
      {
       "output_type": "stream",
       "stream": "stdout",
       "text": [
        "\n",
        "f=1566 M=2101 N=4096 fEst=[ 1566.00776563] error=[-0.00776563]"
       ]
      },
      {
       "output_type": "stream",
       "stream": "stdout",
       "text": [
        "\n",
        "f=1567 M=2101 N=4096 fEst=[ 1566.99323869] error=[ 0.00676131]"
       ]
      },
      {
       "output_type": "stream",
       "stream": "stdout",
       "text": [
        "\n",
        "f=1568 M=2101 N=4096 fEst=[ 1567.98454412] error=[ 0.01545588]"
       ]
      },
      {
       "output_type": "stream",
       "stream": "stdout",
       "text": [
        "\n",
        "f=1569 M=2101 N=4096 fEst=[ 1568.98267766] error=[ 0.01732234]"
       ]
      },
      {
       "output_type": "stream",
       "stream": "stdout",
       "text": [
        "\n",
        "f=1570 M=2101 N=4096 fEst=[ 1569.98589803] error=[ 0.01410197]"
       ]
      },
      {
       "output_type": "stream",
       "stream": "stdout",
       "text": [
        "\n",
        "f=1571 M=2101 N=4096 fEst=[ 1570.99246494] error=[ 0.00753506]"
       ]
      },
      {
       "output_type": "stream",
       "stream": "stdout",
       "text": [
        "\n",
        "f=1572 M=2101 N=4096 fEst=[ 1572.00063877] error=[-0.00063877]\n",
        "f=1573 M=2101 N=4096 fEst=[ 1573.00868022] error=[-0.00868022]"
       ]
      },
      {
       "output_type": "stream",
       "stream": "stdout",
       "text": [
        "\n",
        "f=1574 M=2101 N=4096 fEst=[ 1574.01484993] error=[-0.01484993]"
       ]
      },
      {
       "output_type": "stream",
       "stream": "stdout",
       "text": [
        "\n",
        "f=1575 M=2101 N=4096 fEst=[ 1575.0174082] error=[-0.0174082]"
       ]
      },
      {
       "output_type": "stream",
       "stream": "stdout",
       "text": [
        "\n",
        "f=1576 M=2101 N=4096 fEst=[ 1576.01461458] error=[-0.01461458]"
       ]
      },
      {
       "output_type": "stream",
       "stream": "stdout",
       "text": [
        "\n",
        "f=1577 M=2101 N=4096 fEst=[ 1577.00472759] error=[-0.00472759]"
       ]
      },
      {
       "output_type": "stream",
       "stream": "stdout",
       "text": [
        "\n",
        "f=1578 M=2101 N=4096 fEst=[ 1577.99050371] error=[ 0.00949629]"
       ]
      },
      {
       "output_type": "stream",
       "stream": "stdout",
       "text": [
        "\n",
        "f=1579 M=2101 N=4096 fEst=[ 1578.98355985] error=[ 0.01644015]"
       ]
      },
      {
       "output_type": "stream",
       "stream": "stdout",
       "text": [
        "\n",
        "f=1580 M=2101 N=4096 fEst=[ 1579.98303762] error=[ 0.01696238]"
       ]
      },
      {
       "output_type": "stream",
       "stream": "stdout",
       "text": [
        "\n",
        "f=1581 M=2101 N=4096 fEst=[ 1580.98719593] error=[ 0.01280407]"
       ]
      },
      {
       "output_type": "stream",
       "stream": "stdout",
       "text": [
        "\n",
        "f=1582 M=2101 N=4096 fEst=[ 1581.99429461] error=[ 0.00570539]"
       ]
      },
      {
       "output_type": "stream",
       "stream": "stdout",
       "text": [
        "\n",
        "f=1583 M=2101 N=4096 fEst=[ 1583.00259408] error=[-0.00259408]"
       ]
      },
      {
       "output_type": "stream",
       "stream": "stdout",
       "text": [
        "\n",
        "f=1584 M=2101 N=4096 fEst=[ 1584.01035502] error=[-0.01035502]\n",
        "f=1585 M=2101 N=4096 fEst=[ 1585.01583797] error=[-0.01583797]"
       ]
      },
      {
       "output_type": "stream",
       "stream": "stdout",
       "text": [
        "\n",
        "f=1586 M=2101 N=4096 fEst=[ 1586.01730306] error=[-0.01730306]"
       ]
      },
      {
       "output_type": "stream",
       "stream": "stdout",
       "text": [
        "\n",
        "f=1587 M=2101 N=4096 fEst=[ 1587.0130096] error=[-0.0130096]"
       ]
      },
      {
       "output_type": "stream",
       "stream": "stdout",
       "text": [
        "\n",
        "f=1588 M=2101 N=4096 fEst=[ 1588.00121581] error=[-0.00121581]\n",
        "f=1589 M=2101 N=4096 fEst=[ 1588.9882192] error=[ 0.0117808]"
       ]
      },
      {
       "output_type": "stream",
       "stream": "stdout",
       "text": [
        "\n",
        "f=1590 M=2101 N=4096 fEst=[ 1589.98292875] error=[ 0.01707125]"
       ]
      },
      {
       "output_type": "stream",
       "stream": "stdout",
       "text": [
        "\n",
        "f=1591 M=2101 N=4096 fEst=[ 1590.98365346] error=[ 0.01634654]"
       ]
      },
      {
       "output_type": "stream",
       "stream": "stdout",
       "text": [
        "\n",
        "f=1592 M=2101 N=4096 fEst=[ 1591.98865256] error=[ 0.01134744]"
       ]
      },
      {
       "output_type": "stream",
       "stream": "stdout",
       "text": [
        "\n",
        "f=1593 M=2101 N=4096 fEst=[ 1592.99618611] error=[ 0.00381389]"
       ]
      },
      {
       "output_type": "stream",
       "stream": "stdout",
       "text": [
        "\n",
        "f=1594 M=2101 N=4096 fEst=[ 1594.00451468] error=[-0.00451468]"
       ]
      },
      {
       "output_type": "stream",
       "stream": "stdout",
       "text": [
        "\n",
        "f=1595 M=2101 N=4096 fEst=[ 1595.01189897] error=[-0.01189897]"
       ]
      },
      {
       "output_type": "stream",
       "stream": "stdout",
       "text": [
        "\n",
        "f=1596 M=2101 N=4096 fEst=[ 1596.01659951] error=[-0.01659951]"
       ]
      },
      {
       "output_type": "stream",
       "stream": "stdout",
       "text": [
        "\n",
        "f=1597 M=2101 N=4096 fEst=[ 1597.01687628] error=[-0.01687628]"
       ]
      },
      {
       "output_type": "stream",
       "stream": "stdout",
       "text": [
        "\n",
        "f=1598 M=2101 N=4096 fEst=[ 1598.0109884] error=[-0.0109884]\n",
        "f=1599 M=2101 N=4096 fEst=[ 1598.99743271] error=[ 0.00256729]"
       ]
      },
      {
       "output_type": "stream",
       "stream": "stdout",
       "text": [
        "\n",
        "f=1600 M=2101 N=4096 fEst=[ 1599.98635273] error=[ 0.01364727]"
       ]
      },
      {
       "output_type": "stream",
       "stream": "stdout",
       "text": [
        "\n",
        "f=1601 M=2101 N=4096 fEst=[ 1600.98262321] error=[ 0.01737679]"
       ]
      },
      {
       "output_type": "stream",
       "stream": "stdout",
       "text": [
        "\n",
        "f=1602 M=2101 N=4096 fEst=[ 1601.98450241] error=[ 0.01549759]"
       ]
      },
      {
       "output_type": "stream",
       "stream": "stdout",
       "text": [
        "\n",
        "f=1603 M=2101 N=4096 fEst=[ 1602.99024974] error=[ 0.00975026]"
       ]
      },
      {
       "output_type": "stream",
       "stream": "stdout",
       "text": [
        "\n",
        "f=1604 M=2101 N=4096 fEst=[ 1603.99812534] error=[ 0.00187466]"
       ]
      },
      {
       "output_type": "stream",
       "stream": "stdout",
       "text": [
        "\n",
        "f=1605 M=2101 N=4096 fEst=[ 1605.0063898] error=[-0.0063898]"
       ]
      },
      {
       "output_type": "stream",
       "stream": "stdout",
       "text": [
        "\n",
        "f=1606 M=2101 N=4096 fEst=[ 1606.01330377] error=[-0.01330377]\n",
        "f=1607 M=2101 N=4096 fEst=[ 1607.01712767] error=[-0.01712767]"
       ]
      },
      {
       "output_type": "stream",
       "stream": "stdout",
       "text": [
        "\n",
        "f=1608 M=2101 N=4096 fEst=[ 1608.01612128] error=[-0.01612128]"
       ]
      },
      {
       "output_type": "stream",
       "stream": "stdout",
       "text": [
        "\n",
        "f=1609 M=2101 N=4096 fEst=[ 1609.00854345] error=[-0.00854345]"
       ]
      },
      {
       "output_type": "stream",
       "stream": "stdout",
       "text": [
        "\n",
        "f=1610 M=2101 N=4096 fEst=[ 1609.99409966] error=[ 0.00590034]"
       ]
      },
      {
       "output_type": "stream",
       "stream": "stdout",
       "text": [
        "\n",
        "f=1611 M=2101 N=4096 fEst=[ 1610.98488995] error=[ 0.01511005]"
       ]
      },
      {
       "output_type": "stream",
       "stream": "stdout",
       "text": [
        "\n",
        "f=1612 M=2101 N=4096 fEst=[ 1611.98262409] error=[ 0.01737591]"
       ]
      },
      {
       "output_type": "stream",
       "stream": "stdout",
       "text": [
        "\n",
        "f=1613 M=2101 N=4096 fEst=[ 1612.9855607] error=[ 0.0144393]"
       ]
      },
      {
       "output_type": "stream",
       "stream": "stdout",
       "text": [
        "\n",
        "f=1614 M=2101 N=4096 fEst=[ 1613.99195944] error=[ 0.00804056]"
       ]
      },
      {
       "output_type": "stream",
       "stream": "stdout",
       "text": [
        "\n",
        "f=1615 M=2101 N=4096 fEst=[ 1615.00008063] error=[ -8.06308803e-05]"
       ]
      },
      {
       "output_type": "stream",
       "stream": "stdout",
       "text": [
        "\n",
        "f=1616 M=2101 N=4096 fEst=[ 1616.00818496] error=[-0.00818496]"
       ]
      },
      {
       "output_type": "stream",
       "stream": "stdout",
       "text": [
        "\n",
        "f=1617 M=2101 N=4096 fEst=[ 1617.01453307] error=[-0.01453307]"
       ]
      },
      {
       "output_type": "stream",
       "stream": "stdout",
       "text": [
        "\n",
        "f=1618 M=2101 N=4096 fEst=[ 1618.0173853] error=[-0.0173853]"
       ]
      },
      {
       "output_type": "stream",
       "stream": "stdout",
       "text": [
        "\n",
        "f=1619 M=2101 N=4096 fEst=[ 1619.01500123] error=[-0.01500123]"
       ]
      },
      {
       "output_type": "stream",
       "stream": "stdout",
       "text": [
        "\n",
        "f=1620 M=2101 N=4096 fEst=[ 1620.00563946] error=[-0.00563946]"
       ]
      },
      {
       "output_type": "stream",
       "stream": "stdout",
       "text": [
        "\n",
        "f=1621 M=2101 N=4096 fEst=[ 1620.99123537] error=[ 0.00876463]"
       ]
      },
      {
       "output_type": "stream",
       "stream": "stdout",
       "text": [
        "\n",
        "f=1622 M=2101 N=4096 fEst=[ 1621.98380338] error=[ 0.01619662]"
       ]
      },
      {
       "output_type": "stream",
       "stream": "stdout",
       "text": [
        "\n",
        "f=1623 M=2101 N=4096 fEst=[ 1622.98290864] error=[ 0.01709136]"
       ]
      },
      {
       "output_type": "stream",
       "stream": "stdout",
       "text": [
        "\n",
        "f=1624 M=2101 N=4096 fEst=[ 1623.98680997] error=[ 0.01319003]"
       ]
      },
      {
       "output_type": "stream",
       "stream": "stdout",
       "text": [
        "\n",
        "f=1625 M=2101 N=4096 fEst=[ 1624.99376719] error=[ 0.00623281]"
       ]
      },
      {
       "output_type": "stream",
       "stream": "stdout",
       "text": [
        "\n",
        "f=1626 M=2101 N=4096 fEst=[ 1626.00204068] error=[-0.00204068]"
       ]
      },
      {
       "output_type": "stream",
       "stream": "stdout",
       "text": [
        "\n",
        "f=1627 M=2101 N=4096 fEst=[ 1627.00989111] error=[-0.00989111]"
       ]
      },
      {
       "output_type": "stream",
       "stream": "stdout",
       "text": [
        "\n",
        "f=1628 M=2101 N=4096 fEst=[ 1628.01557908] error=[-0.01557908]"
       ]
      },
      {
       "output_type": "stream",
       "stream": "stdout",
       "text": [
        "\n",
        "f=1629 M=2101 N=4096 fEst=[ 1629.01736474] error=[-0.01736474]"
       ]
      },
      {
       "output_type": "stream",
       "stream": "stdout",
       "text": [
        "\n",
        "f=1630 M=2101 N=4096 fEst=[ 1630.0135075] error=[-0.0135075]"
       ]
      },
      {
       "output_type": "stream",
       "stream": "stdout",
       "text": [
        "\n",
        "f=1631 M=2101 N=4096 fEst=[ 1631.00226565] error=[-0.00226565]"
       ]
      },
      {
       "output_type": "stream",
       "stream": "stdout",
       "text": [
        "\n",
        "f=1632 M=2101 N=4096 fEst=[ 1631.9888253] error=[ 0.0111747]"
       ]
      },
      {
       "output_type": "stream",
       "stream": "stdout",
       "text": [
        "\n",
        "f=1633 M=2101 N=4096 fEst=[ 1632.98307378] error=[ 0.01692622]"
       ]
      },
      {
       "output_type": "stream",
       "stream": "stdout",
       "text": [
        "\n",
        "f=1634 M=2101 N=4096 fEst=[ 1633.9834531] error=[ 0.0165469]"
       ]
      },
      {
       "output_type": "stream",
       "stream": "stdout",
       "text": [
        "\n",
        "f=1635 M=2101 N=4096 fEst=[ 1634.98822242] error=[ 0.01177758]"
       ]
      },
      {
       "output_type": "stream",
       "stream": "stdout",
       "text": [
        "\n",
        "f=1636 M=2101 N=4096 fEst=[ 1635.99564174] error=[ 0.00435826]"
       ]
      },
      {
       "output_type": "stream",
       "stream": "stdout",
       "text": [
        "\n",
        "f=1637 M=2101 N=4096 fEst=[ 1637.0039716] error=[-0.0039716]"
       ]
      },
      {
       "output_type": "stream",
       "stream": "stdout",
       "text": [
        "\n",
        "f=1638 M=2101 N=4096 fEst=[ 1638.01147269] error=[-0.01147269]"
       ]
      },
      {
       "output_type": "stream",
       "stream": "stdout",
       "text": [
        "\n",
        "f=1639 M=2101 N=4096 fEst=[ 1639.01640556] error=[-0.01640556]"
       ]
      },
      {
       "output_type": "stream",
       "stream": "stdout",
       "text": [
        "\n",
        "f=1640 M=2101 N=4096 fEst=[ 1640.01703023] error=[-0.01703023]"
       ]
      },
      {
       "output_type": "stream",
       "stream": "stdout",
       "text": [
        "\n",
        "f=1641 M=2101 N=4096 fEst=[ 1641.01160585] error=[-0.01160585]"
       ]
      },
      {
       "output_type": "stream",
       "stream": "stdout",
       "text": [
        "\n",
        "f=1642 M=2101 N=4096 fEst=[ 1641.99847195] error=[ 0.00152805]\n",
        "f=1643 M=2101 N=4096 fEst=[ 1642.98684213] error=[ 0.01315787]"
       ]
      },
      {
       "output_type": "stream",
       "stream": "stdout",
       "text": [
        "\n",
        "f=1644 M=2101 N=4096 fEst=[ 1643.98267843] error=[ 0.01732157]"
       ]
      },
      {
       "output_type": "stream",
       "stream": "stdout",
       "text": [
        "\n",
        "f=1645 M=2101 N=4096 fEst=[ 1644.98423904] error=[ 0.01576096]"
       ]
      },
      {
       "output_type": "stream",
       "stream": "stdout",
       "text": [
        "\n",
        "f=1646 M=2101 N=4096 fEst=[ 1645.9897833] error=[ 0.0102167]"
       ]
      },
      {
       "output_type": "stream",
       "stream": "stdout",
       "text": [
        "\n",
        "f=1647 M=2101 N=4096 fEst=[ 1646.99757133] error=[ 0.00242867]"
       ]
      },
      {
       "output_type": "stream",
       "stream": "stdout",
       "text": [
        "\n",
        "f=1648 M=2101 N=4096 fEst=[ 1648.00586371] error=[-0.00586371]"
       ]
      },
      {
       "output_type": "stream",
       "stream": "stdout",
       "text": [
        "\n",
        "f=1649 M=2101 N=4096 fEst=[ 1649.01292111] error=[-0.01292111]"
       ]
      },
      {
       "output_type": "stream",
       "stream": "stdout",
       "text": [
        "\n",
        "f=1650 M=2101 N=4096 fEst=[ 1650.01700397] error=[-0.01700397]"
       ]
      },
      {
       "output_type": "stream",
       "stream": "stdout",
       "text": [
        "\n",
        "f=1651 M=2101 N=4096 fEst=[ 1651.01637214] error=[-0.01637214]"
       ]
      },
      {
       "output_type": "stream",
       "stream": "stdout",
       "text": [
        "\n",
        "f=1652 M=2101 N=4096 fEst=[ 1652.00928456] error=[-0.00928456]"
       ]
      },
      {
       "output_type": "stream",
       "stream": "stdout",
       "text": [
        "\n",
        "f=1653 M=2101 N=4096 fEst=[ 1652.99499892] error=[ 0.00500108]"
       ]
      },
      {
       "output_type": "stream",
       "stream": "stdout",
       "text": [
        "\n",
        "f=1654 M=2101 N=4096 fEst=[ 1653.98526646] error=[ 0.01473354]"
       ]
      },
      {
       "output_type": "stream",
       "stream": "stdout",
       "text": [
        "\n",
        "f=1655 M=2101 N=4096 fEst=[ 1654.98259356] error=[ 0.01740644]"
       ]
      },
      {
       "output_type": "stream",
       "stream": "stdout",
       "text": [
        "\n",
        "f=1656 M=2101 N=4096 fEst=[ 1655.98523877] error=[ 0.01476123]"
       ]
      },
      {
       "output_type": "stream",
       "stream": "stdout",
       "text": [
        "\n",
        "f=1657 M=2101 N=4096 fEst=[ 1656.99146168] error=[ 0.00853832]"
       ]
      },
      {
       "output_type": "stream",
       "stream": "stdout",
       "text": [
        "\n",
        "f=1658 M=2101 N=4096 fEst=[ 1657.99952257] error=[ 0.00047743]"
       ]
      },
      {
       "output_type": "stream",
       "stream": "stdout",
       "text": [
        "\n",
        "f=1659 M=2101 N=4096 fEst=[ 1659.00768211] error=[-0.00768211]"
       ]
      },
      {
       "output_type": "stream",
       "stream": "stdout",
       "text": [
        "\n",
        "f=1660 M=2101 N=4096 fEst=[ 1660.01420094] error=[-0.01420094]"
       ]
      },
      {
       "output_type": "stream",
       "stream": "stdout",
       "text": [
        "\n",
        "f=1661 M=2101 N=4096 fEst=[ 1661.01733941] error=[-0.01733941]"
       ]
      },
      {
       "output_type": "stream",
       "stream": "stdout",
       "text": [
        "\n",
        "f=1662 M=2101 N=4096 fEst=[ 1662.01535718] error=[-0.01535718]"
       ]
      },
      {
       "output_type": "stream",
       "stream": "stdout",
       "text": [
        "\n",
        "f=1663 M=2101 N=4096 fEst=[ 1663.00651289] error=[-0.00651289]"
       ]
      },
      {
       "output_type": "stream",
       "stream": "stdout",
       "text": [
        "\n",
        "f=1664 M=2101 N=4096 fEst=[ 1663.99200353] error=[ 0.00799647]"
       ]
      },
      {
       "output_type": "stream",
       "stream": "stdout",
       "text": [
        "\n",
        "f=1665 M=2101 N=4096 fEst=[ 1664.98407568] error=[ 0.01592432]"
       ]
      },
      {
       "output_type": "stream",
       "stream": "stdout",
       "text": [
        "\n",
        "f=1666 M=2101 N=4096 fEst=[ 1665.9828007] error=[ 0.0171993]"
       ]
      },
      {
       "output_type": "stream",
       "stream": "stdout",
       "text": [
        "\n",
        "f=1667 M=2101 N=4096 fEst=[ 1666.98643736] error=[ 0.01356264]"
       ]
      },
      {
       "output_type": "stream",
       "stream": "stdout",
       "text": [
        "\n",
        "f=1668 M=2101 N=4096 fEst=[ 1667.99324542] error=[ 0.00675458]"
       ]
      },
      {
       "output_type": "stream",
       "stream": "stdout",
       "text": [
        "\n",
        "f=1669 M=2101 N=4096 fEst=[ 1669.00148525] error=[-0.00148525]"
       ]
      },
      {
       "output_type": "stream",
       "stream": "stdout",
       "text": [
        "\n",
        "f=1670 M=2101 N=4096 fEst=[ 1670.00941753] error=[-0.00941753]"
       ]
      },
      {
       "output_type": "stream",
       "stream": "stdout",
       "text": [
        "\n",
        "f=1671 M=2101 N=4096 fEst=[ 1671.01530285] error=[-0.01530285]"
       ]
      },
      {
       "output_type": "stream",
       "stream": "stdout",
       "text": [
        "\n",
        "f=1672 M=2101 N=4096 fEst=[ 1672.01740145] error=[-0.01740145]\n",
        "f=1673 M=2101 N=4096 fEst=[ 1673.01397278] error=[-0.01397278]"
       ]
      },
      {
       "output_type": "stream",
       "stream": "stdout",
       "text": [
        "\n",
        "f=1674 M=2101 N=4096 fEst=[ 1674.00327524] error=[-0.00327524]"
       ]
      },
      {
       "output_type": "stream",
       "stream": "stdout",
       "text": [
        "\n",
        "f=1675 M=2101 N=4096 fEst=[ 1674.98946616] error=[ 0.01053384]\n",
        "f=1676 M=2101 N=4096 fEst=[ 1675.98324594] error=[ 0.01675406]"
       ]
      },
      {
       "output_type": "stream",
       "stream": "stdout",
       "text": [
        "\n",
        "f=1677 M=2101 N=4096 fEst=[ 1676.98327223] error=[ 0.01672777]"
       ]
      },
      {
       "output_type": "stream",
       "stream": "stdout",
       "text": [
        "\n",
        "f=1678 M=2101 N=4096 fEst=[ 1677.98780411] error=[ 0.01219589]"
       ]
      },
      {
       "output_type": "stream",
       "stream": "stdout",
       "text": [
        "\n",
        "f=1679 M=2101 N=4096 fEst=[ 1678.99510154] error=[ 0.00489846]"
       ]
      },
      {
       "output_type": "stream",
       "stream": "stdout",
       "text": [
        "\n",
        "f=1680 M=2101 N=4096 fEst=[ 1680.00342501] error=[-0.00342501]"
       ]
      },
      {
       "output_type": "stream",
       "stream": "stdout",
       "text": [
        "\n",
        "f=1681 M=2101 N=4096 fEst=[ 1681.01103522] error=[-0.01103522]"
       ]
      },
      {
       "output_type": "stream",
       "stream": "stdout",
       "text": [
        "\n",
        "f=1682 M=2101 N=4096 fEst=[ 1682.01619272] error=[-0.01619272]"
       ]
      },
      {
       "output_type": "stream",
       "stream": "stdout",
       "text": [
        "\n",
        "f=1683 M=2101 N=4096 fEst=[ 1683.01715756] error=[-0.01715756]"
       ]
      },
      {
       "output_type": "stream",
       "stream": "stdout",
       "text": [
        "\n",
        "f=1684 M=2101 N=4096 fEst=[ 1684.01218897] error=[-0.01218897]"
       ]
      },
      {
       "output_type": "stream",
       "stream": "stdout",
       "text": [
        "\n",
        "f=1685 M=2101 N=4096 fEst=[ 1684.99955177] error=[ 0.00044823]"
       ]
      },
      {
       "output_type": "stream",
       "stream": "stdout",
       "text": [
        "\n",
        "f=1686 M=2101 N=4096 fEst=[ 1685.98736438] error=[ 0.01263562]"
       ]
      },
      {
       "output_type": "stream",
       "stream": "stdout",
       "text": [
        "\n",
        "f=1687 M=2101 N=4096 fEst=[ 1686.98275878] error=[ 0.01724122]"
       ]
      },
      {
       "output_type": "stream",
       "stream": "stdout",
       "text": [
        "\n",
        "f=1688 M=2101 N=4096 fEst=[ 1687.9839931] error=[ 0.0160069]"
       ]
      },
      {
       "output_type": "stream",
       "stream": "stdout",
       "text": [
        "\n",
        "f=1689 M=2101 N=4096 fEst=[ 1688.98932661] error=[ 0.01067339]"
       ]
      },
      {
       "output_type": "stream",
       "stream": "stdout",
       "text": [
        "\n",
        "f=1690 M=2101 N=4096 fEst=[ 1689.9970194] error=[ 0.0029806]"
       ]
      },
      {
       "output_type": "stream",
       "stream": "stdout",
       "text": [
        "\n",
        "f=1691 M=2101 N=4096 fEst=[ 1691.00533204] error=[-0.00533204]"
       ]
      },
      {
       "output_type": "stream",
       "stream": "stdout",
       "text": [
        "\n",
        "f=1692 M=2101 N=4096 fEst=[ 1692.01252521] error=[-0.01252521]\n",
        "f=1693 M=2101 N=4096 fEst=[ 1693.01685939] error=[-0.01685939]"
       ]
      },
      {
       "output_type": "stream",
       "stream": "stdout",
       "text": [
        "\n",
        "f=1694 M=2101 N=4096 fEst=[ 1694.01659449] error=[-0.01659449]"
       ]
      },
      {
       "output_type": "stream",
       "stream": "stdout",
       "text": [
        "\n",
        "f=1695 M=2101 N=4096 fEst=[ 1695.00998952] error=[-0.00998952]"
       ]
      },
      {
       "output_type": "stream",
       "stream": "stdout",
       "text": [
        "\n",
        "f=1696 M=2101 N=4096 fEst=[ 1695.99593704] error=[ 0.00406296]"
       ]
      },
      {
       "output_type": "stream",
       "stream": "stdout",
       "text": [
        "\n",
        "f=1697 M=2101 N=4096 fEst=[ 1696.98567418] error=[ 0.01432582]"
       ]
      },
      {
       "output_type": "stream",
       "stream": "stdout",
       "text": [
        "\n",
        "f=1698 M=2101 N=4096 fEst=[ 1697.9825866] error=[ 0.0174134]"
       ]
      },
      {
       "output_type": "stream",
       "stream": "stdout",
       "text": [
        "\n",
        "f=1699 M=2101 N=4096 fEst=[ 1698.98493276] error=[ 0.01506724]"
       ]
      },
      {
       "output_type": "stream",
       "stream": "stdout",
       "text": [
        "\n",
        "f=1700 M=2101 N=4096 fEst=[ 1699.99097217] error=[ 0.00902783]"
       ]
      },
      {
       "output_type": "stream",
       "stream": "stdout",
       "text": [
        "\n",
        "f=1701 M=2101 N=4096 fEst=[ 1700.99896509] error=[ 0.00103491]"
       ]
      },
      {
       "output_type": "stream",
       "stream": "stdout",
       "text": [
        "\n",
        "f=1702 M=2101 N=4096 fEst=[ 1702.00717215] error=[-0.00717215]"
       ]
      },
      {
       "output_type": "stream",
       "stream": "stdout",
       "text": [
        "\n",
        "f=1703 M=2101 N=4096 fEst=[ 1703.013854] error=[-0.013854]"
       ]
      },
      {
       "output_type": "stream",
       "stream": "stdout",
       "text": [
        "\n",
        "f=1704 M=2101 N=4096 fEst=[ 1704.01727101] error=[-0.01727101]"
       ]
      },
      {
       "output_type": "stream",
       "stream": "stdout",
       "text": [
        "\n",
        "f=1705 M=2101 N=4096 fEst=[ 1705.01568289] error=[-0.01568289]"
       ]
      },
      {
       "output_type": "stream",
       "stream": "stdout",
       "text": [
        "\n",
        "f=1706 M=2101 N=4096 fEst=[ 1706.00734835] error=[-0.00734835]"
       ]
      },
      {
       "output_type": "stream",
       "stream": "stdout",
       "text": [
        "\n",
        "f=1707 M=2101 N=4096 fEst=[ 1706.99280863] error=[ 0.00719137]"
       ]
      },
      {
       "output_type": "stream",
       "stream": "stdout",
       "text": [
        "\n",
        "f=1708 M=2101 N=4096 fEst=[ 1707.9843772] error=[ 0.0156228]"
       ]
      },
      {
       "output_type": "stream",
       "stream": "stdout",
       "text": [
        "\n",
        "f=1709 M=2101 N=4096 fEst=[ 1708.98271428] error=[ 0.01728572]\n",
        "f=1710 M=2101 N=4096 fEst=[ 1709.98607859] error=[ 0.01392141]"
       ]
      },
      {
       "output_type": "stream",
       "stream": "stdout",
       "text": [
        "\n",
        "f=1711 M=2101 N=4096 fEst=[ 1710.99272982] error=[ 0.00727018]"
       ]
      },
      {
       "output_type": "stream",
       "stream": "stdout",
       "text": [
        "\n",
        "f=1712 M=2101 N=4096 fEst=[ 1712.00092833] error=[-0.00092833]"
       ]
      },
      {
       "output_type": "stream",
       "stream": "stdout",
       "text": [
        "\n",
        "f=1713 M=2101 N=4096 fEst=[ 1713.0089348] error=[-0.0089348]"
       ]
      },
      {
       "output_type": "stream",
       "stream": "stdout",
       "text": [
        "\n",
        "f=1714 M=2101 N=4096 fEst=[ 1714.01500985] error=[-0.01500985]"
       ]
      },
      {
       "output_type": "stream",
       "stream": "stdout",
       "text": [
        "\n",
        "f=1715 M=2101 N=4096 fEst=[ 1715.01741374] error=[-0.01741374]"
       ]
      },
      {
       "output_type": "stream",
       "stream": "stdout",
       "text": [
        "\n",
        "f=1716 M=2101 N=4096 fEst=[ 1716.01440602] error=[-0.01440602]"
       ]
      },
      {
       "output_type": "stream",
       "stream": "stdout",
       "text": [
        "\n",
        "f=1717 M=2101 N=4096 fEst=[ 1717.00424515] error=[-0.00424515]"
       ]
      },
      {
       "output_type": "stream",
       "stream": "stdout",
       "text": [
        "\n",
        "f=1718 M=2101 N=4096 fEst=[ 1717.99014234] error=[ 0.00985766]"
       ]
      },
      {
       "output_type": "stream",
       "stream": "stdout",
       "text": [
        "\n",
        "f=1719 M=2101 N=4096 fEst=[ 1718.98344576] error=[ 0.01655424]"
       ]
      },
      {
       "output_type": "stream",
       "stream": "stdout",
       "text": [
        "\n",
        "f=1720 M=2101 N=4096 fEst=[ 1719.98311136] error=[ 0.01688864]"
       ]
      },
      {
       "output_type": "stream",
       "stream": "stdout",
       "text": [
        "\n",
        "f=1721 M=2101 N=4096 fEst=[ 1720.98739814] error=[ 0.01260186]"
       ]
      },
      {
       "output_type": "stream",
       "stream": "stdout",
       "text": [
        "\n",
        "f=1722 M=2101 N=4096 fEst=[ 1721.994566] error=[ 0.005434]"
       ]
      },
      {
       "output_type": "stream",
       "stream": "stdout",
       "text": [
        "\n",
        "f=1723 M=2101 N=4096 fEst=[ 1723.00287541] error=[-0.00287541]"
       ]
      },
      {
       "output_type": "stream",
       "stream": "stdout",
       "text": [
        "\n",
        "f=1724 M=2101 N=4096 fEst=[ 1724.01058704] error=[-0.01058704]"
       ]
      },
      {
       "output_type": "stream",
       "stream": "stdout",
       "text": [
        "\n",
        "f=1725 M=2101 N=4096 fEst=[ 1725.01596145] error=[-0.01596145]"
       ]
      },
      {
       "output_type": "stream",
       "stream": "stdout",
       "text": [
        "\n",
        "f=1726 M=2101 N=4096 fEst=[ 1726.01725875] error=[-0.01725875]"
       ]
      },
      {
       "output_type": "stream",
       "stream": "stdout",
       "text": [
        "\n",
        "f=1727 M=2101 N=4096 fEst=[ 1727.01273821] error=[-0.01273821]"
       ]
      },
      {
       "output_type": "stream",
       "stream": "stdout",
       "text": [
        "\n",
        "f=1728 M=2101 N=4096 fEst=[ 1728.00065798] error=[-0.00065798]"
       ]
      },
      {
       "output_type": "stream",
       "stream": "stdout",
       "text": [
        "\n",
        "f=1729 M=2101 N=4096 fEst=[ 1728.98791996] error=[ 0.01208004]"
       ]
      },
      {
       "output_type": "stream",
       "stream": "stdout",
       "text": [
        "\n",
        "f=1730 M=2101 N=4096 fEst=[ 1729.98286476] error=[ 0.01713524]"
       ]
      },
      {
       "output_type": "stream",
       "stream": "stdout",
       "text": [
        "\n",
        "f=1731 M=2101 N=4096 fEst=[ 1730.98376509] error=[ 0.01623491]"
       ]
      },
      {
       "output_type": "stream",
       "stream": "stdout",
       "text": [
        "\n",
        "f=1732 M=2101 N=4096 fEst=[ 1731.98888018] error=[ 0.01111982]"
       ]
      },
      {
       "output_type": "stream",
       "stream": "stdout",
       "text": [
        "\n",
        "f=1733 M=2101 N=4096 fEst=[ 1732.99647007] error=[ 0.00352993]"
       ]
      },
      {
       "output_type": "stream",
       "stream": "stdout",
       "text": [
        "\n",
        "f=1734 M=2101 N=4096 fEst=[ 1734.00479532] error=[-0.00479532]"
       ]
      },
      {
       "output_type": "stream",
       "stream": "stdout",
       "text": [
        "\n",
        "f=1735 M=2101 N=4096 fEst=[ 1735.01211663] error=[-0.01211663]"
       ]
      },
      {
       "output_type": "stream",
       "stream": "stdout",
       "text": [
        "\n",
        "f=1736 M=2101 N=4096 fEst=[ 1736.0166945] error=[-0.0166945]"
       ]
      },
      {
       "output_type": "stream",
       "stream": "stdout",
       "text": [
        "\n",
        "f=1737 M=2101 N=4096 fEst=[ 1737.01678889] error=[-0.01678889]\n",
        "f=1738 M=2101 N=4096 fEst=[ 1738.0106589] error=[-0.0106589]"
       ]
      },
      {
       "output_type": "stream",
       "stream": "stdout",
       "text": [
        "\n",
        "f=1739 M=2101 N=4096 fEst=[ 1738.99691458] error=[ 0.00308542]"
       ]
      },
      {
       "output_type": "stream",
       "stream": "stdout",
       "text": [
        "\n",
        "f=1740 M=2101 N=4096 fEst=[ 1739.98611366] error=[ 0.01388634]\n",
        "f=1741 M=2101 N=4096 fEst=[ 1740.98260374] error=[ 0.01739626]"
       ]
      },
      {
       "output_type": "stream",
       "stream": "stdout",
       "text": [
        "\n",
        "f=1742 M=2101 N=4096 fEst=[ 1741.98464317] error=[ 0.01535683]"
       ]
      },
      {
       "output_type": "stream",
       "stream": "stdout",
       "text": [
        "\n",
        "f=1743 M=2101 N=4096 fEst=[ 1742.99049142] error=[ 0.00950858]"
       ]
      },
      {
       "output_type": "stream",
       "stream": "stdout",
       "text": [
        "\n",
        "f=1744 M=2101 N=4096 fEst=[ 1743.99840868] error=[ 0.00159132]"
       ]
      },
      {
       "output_type": "stream",
       "stream": "stdout",
       "text": [
        "\n",
        "f=1745 M=2101 N=4096 fEst=[ 1745.00665556] error=[-0.00665556]"
       ]
      },
      {
       "output_type": "stream",
       "stream": "stdout",
       "text": [
        "\n",
        "f=1746 M=2101 N=4096 fEst=[ 1746.01349272] error=[-0.01349272]"
       ]
      },
      {
       "output_type": "stream",
       "stream": "stdout",
       "text": [
        "\n",
        "f=1747 M=2101 N=4096 fEst=[ 1747.01718055] error=[-0.01718055]"
       ]
      },
      {
       "output_type": "stream",
       "stream": "stdout",
       "text": [
        "\n",
        "f=1748 M=2101 N=4096 fEst=[ 1748.01597881] error=[-0.01597881]"
       ]
      },
      {
       "output_type": "stream",
       "stream": "stdout",
       "text": [
        "\n",
        "f=1749 M=2101 N=4096 fEst=[ 1749.00814629] error=[-0.00814629]"
       ]
      },
      {
       "output_type": "stream",
       "stream": "stdout",
       "text": [
        "\n",
        "f=1750 M=2101 N=4096 fEst=[ 1749.99365116] error=[ 0.00634884]"
       ]
      },
      {
       "output_type": "stream",
       "stream": "stdout",
       "text": [
        "\n",
        "f=1751 M=2101 N=4096 fEst=[ 1750.98470844] error=[ 0.01529156]"
       ]
      },
      {
       "output_type": "stream",
       "stream": "stdout",
       "text": [
        "\n",
        "f=1752 M=2101 N=4096 fEst=[ 1751.9826499] error=[ 0.0173501]"
       ]
      },
      {
       "output_type": "stream",
       "stream": "stdout",
       "text": [
        "\n",
        "f=1753 M=2101 N=4096 fEst=[ 1752.98573417] error=[ 0.01426583]"
       ]
      },
      {
       "output_type": "stream",
       "stream": "stdout",
       "text": [
        "\n",
        "f=1754 M=2101 N=4096 fEst=[ 1753.99222092] error=[ 0.00777908]"
       ]
      },
      {
       "output_type": "stream",
       "stream": "stdout",
       "text": [
        "\n",
        "f=1755 M=2101 N=4096 fEst=[ 1755.00037046] error=[-0.00037046]"
       ]
      },
      {
       "output_type": "stream",
       "stream": "stdout",
       "text": [
        "\n",
        "f=1756 M=2101 N=4096 fEst=[ 1756.00844348] error=[-0.00844348]"
       ]
      },
      {
       "output_type": "stream",
       "stream": "stdout",
       "text": [
        "\n",
        "f=1757 M=2101 N=4096 fEst=[ 1757.01470062] error=[-0.01470062]"
       ]
      },
      {
       "output_type": "stream",
       "stream": "stdout",
       "text": [
        "\n",
        "f=1758 M=2101 N=4096 fEst=[ 1758.01740218] error=[-0.01740218]"
       ]
      },
      {
       "output_type": "stream",
       "stream": "stdout",
       "text": [
        "\n",
        "f=1759 M=2101 N=4096 fEst=[ 1759.01480777] error=[-0.01480777]"
       ]
      },
      {
       "output_type": "stream",
       "stream": "stdout",
       "text": [
        "\n",
        "f=1760 M=2101 N=4096 fEst=[ 1760.00517594] error=[-0.00517594]\n",
        "f=1761 M=2101 N=4096 fEst=[ 1760.99085438] error=[ 0.00914562]"
       ]
      },
      {
       "output_type": "stream",
       "stream": "stdout",
       "text": [
        "\n",
        "f=1762 M=2101 N=4096 fEst=[ 1761.98367377] error=[ 0.01632623]"
       ]
      },
      {
       "output_type": "stream",
       "stream": "stdout",
       "text": [
        "\n",
        "f=1763 M=2101 N=4096 fEst=[ 1762.98297101] error=[ 0.01702899]"
       ]
      },
      {
       "output_type": "stream",
       "stream": "stdout",
       "text": [
        "\n",
        "f=1764 M=2101 N=4096 fEst=[ 1763.98700501] error=[ 0.01299499]"
       ]
      },
      {
       "output_type": "stream",
       "stream": "stdout",
       "text": [
        "\n",
        "f=1765 M=2101 N=4096 fEst=[ 1764.99403562] error=[ 0.00596438]"
       ]
      },
      {
       "output_type": "stream",
       "stream": "stdout",
       "text": [
        "\n",
        "f=1766 M=2101 N=4096 fEst=[ 1766.00232325] error=[-0.00232325]\n",
        "f=1767 M=2101 N=4096 fEst=[ 1767.0101286] error=[-0.0101286]"
       ]
      },
      {
       "output_type": "stream",
       "stream": "stdout",
       "text": [
        "\n",
        "f=1768 M=2101 N=4096 fEst=[ 1768.01571222] error=[-0.01571222]"
       ]
      },
      {
       "output_type": "stream",
       "stream": "stdout",
       "text": [
        "\n",
        "f=1769 M=2101 N=4096 fEst=[ 1769.01733425] error=[-0.01733425]"
       ]
      },
      {
       "output_type": "stream",
       "stream": "stdout",
       "text": [
        "\n",
        "f=1770 M=2101 N=4096 fEst=[ 1770.01325404] error=[-0.01325404]"
       ]
      },
      {
       "output_type": "stream",
       "stream": "stdout",
       "text": [
        "\n",
        "f=1771 M=2101 N=4096 fEst=[ 1771.00172982] error=[-0.00172982]"
       ]
      },
      {
       "output_type": "stream",
       "stream": "stdout",
       "text": [
        "\n",
        "f=1772 M=2101 N=4096 fEst=[ 1771.98850935] error=[ 0.01149065]"
       ]
      },
      {
       "output_type": "stream",
       "stream": "stdout",
       "text": [
        "\n",
        "f=1773 M=2101 N=4096 fEst=[ 1772.98299686] error=[ 0.01700314]\n",
        "f=1774 M=2101 N=4096 fEst=[ 1773.98355554] error=[ 0.01644446]\n",
        "f=1775 M=2101 N=4096 fEst=[ 1774.98844454] error=[ 0.01155546]\n",
        "f=1776 M=2101 N=4096 fEst=[ 1775.99592388] error=[ 0.00407612]\n",
        "f=1777 M=2101 N=4096 fEst=[ 1777.00425411] error=[-0.00425411]\n",
        "f=1778 M=2101 N=4096 fEst=[ 1778.01169591] error=[-0.01169591]"
       ]
      },
      {
       "output_type": "stream",
       "stream": "stdout",
       "text": [
        "\n",
        "f=1779 M=2101 N=4096 fEst=[ 1779.01650984] error=[-0.01650984]\n",
        "f=1780 M=2101 N=4096 fEst=[ 1780.0169559] error=[-0.0169559]\n",
        "f=1781 M=2101 N=4096 fEst=[ 1781.01129324] error=[-0.01129324]\n",
        "f=1782 M=2101 N=4096 fEst=[ 1781.99793208] error=[ 0.00206792]\n",
        "f=1783 M=2101 N=4096 fEst=[ 1782.98658543] error=[ 0.01341457]\n",
        "f=1784 M=2101 N=4096 fEst=[ 1783.98264548] error=[ 0.01735452]"
       ]
      },
      {
       "output_type": "stream",
       "stream": "stdout",
       "text": [
        "\n",
        "f=1785 M=2101 N=4096 fEst=[ 1784.98437051] error=[ 0.01562949]\n",
        "f=1786 M=2101 N=4096 fEst=[ 1785.9900199] error=[ 0.0099801]\n",
        "f=1787 M=2101 N=4096 fEst=[ 1786.9978538] error=[ 0.0021462]\n",
        "f=1788 M=2101 N=4096 fEst=[ 1788.0061328] error=[-0.0061328]\n",
        "f=1789 M=2101 N=4096 fEst=[ 1789.01311757] error=[-0.01311757]\n",
        "f=1790 M=2101 N=4096 fEst=[ 1790.01706851] error=[-0.01706851]"
       ]
      },
      {
       "output_type": "stream",
       "stream": "stdout",
       "text": [
        "\n",
        "f=1791 M=2101 N=4096 fEst=[ 1791.01624543] error=[-0.01624543]\n",
        "f=1792 M=2101 N=4096 fEst=[ 1792.0089072] error=[-0.0089072]\n",
        "f=1793 M=2101 N=4096 fEst=[ 1792.99453161] error=[ 0.00546839]\n",
        "f=1794 M=2101 N=4096 fEst=[ 1793.9850699] error=[ 0.0149301]\n",
        "f=1795 M=2101 N=4096 fEst=[ 1794.98260806] error=[ 0.01739194]\n",
        "f=1796 M=2101 N=4096 fEst=[ 1795.98540464] error=[ 0.01459536]"
       ]
      },
      {
       "output_type": "stream",
       "stream": "stdout",
       "text": [
        "\n",
        "f=1797 M=2101 N=4096 fEst=[ 1796.99171924] error=[ 0.00828076]\n",
        "f=1798 M=2101 N=4096 fEst=[ 1797.99981218] error=[ 0.00018782]\n",
        "f=1799 M=2101 N=4096 fEst=[ 1799.00794412] error=[-0.00794412]\n",
        "f=1800 M=2101 N=4096 fEst=[ 1800.01437572] error=[-0.01437572]\n",
        "f=1801 M=2101 N=4096 fEst=[ 1801.01736731] error=[-0.01736731]\n",
        "f=1802 M=2101 N=4096 fEst=[ 1802.01517857] error=[-0.01517857]"
       ]
      },
      {
       "output_type": "stream",
       "stream": "stdout",
       "text": [
        "\n",
        "f=1803 M=2101 N=4096 fEst=[ 1803.00606813] error=[-0.00606813]\n",
        "f=1804 M=2101 N=4096 fEst=[ 1803.9916028] error=[ 0.0083972]\n",
        "f=1805 M=2101 N=4096 fEst=[ 1804.98393048] error=[ 0.01606952]\n",
        "f=1806 M=2101 N=4096 fEst=[ 1805.98285168] error=[ 0.01714832]\n",
        "f=1807 M=2101 N=4096 fEst=[ 1806.98662521] error=[ 0.01337479]\n",
        "f=1808 M=2101 N=4096 fEst=[ 1807.99351086] error=[ 0.00648914]"
       ]
      },
      {
       "output_type": "stream",
       "stream": "stdout",
       "text": [
        "\n",
        "f=1809 M=2101 N=4096 fEst=[ 1809.00176903] error=[-0.00176903]\n",
        "f=1810 M=2101 N=4096 fEst=[ 1810.00966038] error=[-0.00966038]\n",
        "f=1811 M=2101 N=4096 fEst=[ 1811.01544549] error=[-0.01544549]\n",
        "f=1812 M=2101 N=4096 fEst=[ 1812.01738455] error=[-0.01738455]\n",
        "f=1813 M=2101 N=4096 fEst=[ 1813.01373694] error=[-0.01373694]\n",
        "f=1814 M=2101 N=4096 fEst=[ 1814.002761] error=[-0.002761]"
       ]
      },
      {
       "output_type": "stream",
       "stream": "stdout",
       "text": [
        "\n",
        "f=1815 M=2101 N=4096 fEst=[ 1814.98913306] error=[ 0.01086694]\n",
        "f=1816 M=2101 N=4096 fEst=[ 1815.9831556] error=[ 0.0168444]\n",
        "f=1817 M=2101 N=4096 fEst=[ 1816.98336495] error=[ 0.01663505]\n",
        "f=1818 M=2101 N=4096 fEst=[ 1817.98802022] error=[ 0.01197978]\n",
        "f=1819 M=2101 N=4096 fEst=[ 1818.99538137] error=[ 0.00461863]"
       ]
      },
      {
       "output_type": "stream",
       "stream": "stdout",
       "text": [
        "\n",
        "f=1820 M=2101 N=4096 fEst=[ 1820.00370893] error=[-0.00370893]\n",
        "f=1821 M=2101 N=4096 fEst=[ 1821.01126361] error=[-0.01126361]\n",
        "f=1822 M=2101 N=4096 fEst=[ 1822.01630596] error=[-0.01630596]\n",
        "f=1823 M=2101 N=4096 fEst=[ 1823.01709604] error=[-0.01709604]\n",
        "f=1824 M=2101 N=4096 fEst=[ 1824.01189308] error=[-0.01189308]\n",
        "f=1825 M=2101 N=4096 fEst=[ 1824.99899006] error=[ 0.00100994]"
       ]
      },
      {
       "output_type": "stream",
       "stream": "stdout",
       "text": [
        "\n",
        "f=1826 M=2101 N=4096 fEst=[ 1825.98709] error=[ 0.01291]\n",
        "f=1827 M=2101 N=4096 fEst=[ 1826.98271234] error=[ 0.01728766]\n",
        "f=1828 M=2101 N=4096 fEst=[ 1827.98411527] error=[ 0.01588473]\n",
        "f=1829 M=2101 N=4096 fEst=[ 1828.9895581] error=[ 0.0104419]\n",
        "f=1830 M=2101 N=4096 fEst=[ 1829.99730095] error=[ 0.00269905]\n",
        "f=1831 M=2101 N=4096 fEst=[ 1831.00560436] error=[-0.00560436]"
       ]
      },
      {
       "output_type": "stream",
       "stream": "stdout",
       "text": [
        "\n",
        "f=1832 M=2101 N=4096 fEst=[ 1832.01272902] error=[-0.01272902]\n",
        "f=1833 M=2101 N=4096 fEst=[ 1833.01693536] error=[-0.01693536]\n",
        "f=1834 M=2101 N=4096 fEst=[ 1834.01648323] error=[-0.01648323]\n",
        "f=1835 M=2101 N=4096 fEst=[ 1835.00963157] error=[-0.00963157]\n",
        "f=1836 M=2101 N=4096 fEst=[ 1835.99545046] error=[ 0.00454954]\n",
        "f=1837 M=2101 N=4096 fEst=[ 1836.9854621] error=[ 0.0145379]"
       ]
      },
      {
       "output_type": "stream",
       "stream": "stdout",
       "text": [
        "\n",
        "f=1838 M=2101 N=4096 fEst=[ 1837.98258928] error=[ 0.01741072]\n",
        "f=1839 M=2101 N=4096 fEst=[ 1838.98509051] error=[ 0.01490949]\n",
        "f=1840 M=2101 N=4096 fEst=[ 1839.99122534] error=[ 0.00877466]\n",
        "f=1841 M=2101 N=4096 fEst=[ 1840.99925404] error=[ 0.00074596]\n",
        "f=1842 M=2101 N=4096 fEst=[ 1842.00743725] error=[-0.00743725]\n",
        "f=1843 M=2101 N=4096 fEst=[ 1843.01403568] error=[-0.01403568]"
       ]
      },
      {
       "output_type": "stream",
       "stream": "stdout",
       "text": [
        "\n",
        "f=1844 M=2101 N=4096 fEst=[ 1844.01730967] error=[-0.01730967]\n",
        "f=1845 M=2101 N=4096 fEst=[ 1845.01551896] error=[-0.01551896]\n",
        "f=1846 M=2101 N=4096 fEst=[ 1846.00692224] error=[-0.00692224]\n",
        "f=1847 M=2101 N=4096 fEst=[ 1846.99238812] error=[ 0.00761188]\n",
        "f=1848 M=2101 N=4096 fEst=[ 1847.98421641] error=[ 0.01578359]\n",
        "f=1849 M=2101 N=4096 fEst=[ 1848.98275385] error=[ 0.01724615]"
       ]
      },
      {
       "output_type": "stream",
       "stream": "stdout",
       "text": [
        "\n",
        "f=1850 M=2101 N=4096 fEst=[ 1849.98625922] error=[ 0.01374078]\n",
        "f=1851 M=2101 N=4096 fEst=[ 1850.99299221] error=[ 0.00700779]\n",
        "f=1852 M=2101 N=4096 fEst=[ 1852.00121321] error=[-0.00121321]\n",
        "f=1853 M=2101 N=4096 fEst=[ 1853.00918286] error=[-0.00918286]\n",
        "f=1854 M=2101 N=4096 fEst=[ 1854.01516176] error=[-0.01516176]\n",
        "f=1855 M=2101 N=4096 fEst=[ 1855.01741012] error=[-0.01741012]"
       ]
      },
      {
       "output_type": "stream",
       "stream": "stdout",
       "text": [
        "\n",
        "f=1856 M=2101 N=4096 fEst=[ 1856.01418741] error=[-0.01418741]\n",
        "f=1857 M=2101 N=4096 fEst=[ 1857.00375203] error=[-0.00375203]\n",
        "f=1858 M=2101 N=4096 fEst=[ 1857.9897916] error=[ 0.0102084]\n",
        "f=1859 M=2101 N=4096 fEst=[ 1858.98334149] error=[ 0.01665851]\n",
        "f=1860 M=2101 N=4096 fEst=[ 1859.98319387] error=[ 0.01680613]\n",
        "f=1861 M=2101 N=4096 fEst=[ 1860.98760776] error=[ 0.01239224]"
       ]
      },
      {
       "output_type": "stream",
       "stream": "stdout",
       "text": [
        "\n",
        "f=1862 M=2101 N=4096 fEst=[ 1861.99484309] error=[ 0.00515691]\n",
        "f=1863 M=2101 N=4096 fEst=[ 1863.00316035] error=[-0.00316035]\n",
        "f=1864 M=2101 N=4096 fEst=[ 1864.01082026] error=[-0.01082026]\n",
        "f=1865 M=2101 N=4096 fEst=[ 1865.01608339] error=[-0.01608339]\n",
        "f=1866 M=2101 N=4096 fEst=[ 1866.01720986] error=[-0.01720986]\n",
        "f=1867 M=2101 N=4096 fEst=[ 1867.01245894] error=[-0.01245894]"
       ]
      },
      {
       "output_type": "stream",
       "stream": "stdout",
       "text": [
        "\n",
        "f=1868 M=2101 N=4096 fEst=[ 1868.00008878] error=[ -8.87786077e-05]\n",
        "f=1869 M=2101 N=4096 fEst=[ 1868.98762787] error=[ 0.01237213]\n",
        "f=1870 M=2101 N=4096 fEst=[ 1869.9828048] error=[ 0.0171952]\n",
        "f=1871 M=2101 N=4096 fEst=[ 1870.98387793] error=[ 0.01612207]\n",
        "f=1872 M=2101 N=4096 fEst=[ 1871.9891065] error=[ 0.0108935]\n",
        "f=1873 M=2101 N=4096 fEst=[ 1872.99675058] error=[ 0.00324942]"
       ]
      },
      {
       "output_type": "stream",
       "stream": "stdout",
       "text": [
        "\n",
        "f=1874 M=2101 N=4096 fEst=[ 1874.00507071] error=[-0.00507071]\n",
        "f=1875 M=2101 N=4096 fEst=[ 1875.01232756] error=[-0.01232756]\n",
        "f=1876 M=2101 N=4096 fEst=[ 1876.01678158] error=[-0.01678158]\n",
        "f=1877 M=2101 N=4096 fEst=[ 1877.01669269] error=[-0.01669269]\n",
        "f=1878 M=2101 N=4096 fEst=[ 1878.0103199] error=[-0.0103199]\n",
        "f=1879 M=2101 N=4096 fEst=[ 1878.99640825] error=[ 0.00359175]"
       ]
      },
      {
       "output_type": "stream",
       "stream": "stdout",
       "text": [
        "\n",
        "f=1880 M=2101 N=4096 fEst=[ 1879.98588554] error=[ 0.01411446]\n",
        "f=1881 M=2101 N=4096 fEst=[ 1880.9825941] error=[ 0.0174059]\n",
        "f=1882 M=2101 N=4096 fEst=[ 1881.98479234] error=[ 0.01520766]\n",
        "f=1883 M=2101 N=4096 fEst=[ 1882.99073975] error=[ 0.00926025]\n",
        "f=1884 M=2101 N=4096 fEst=[ 1883.99869656] error=[ 0.00130344]\n",
        "f=1885 M=2101 N=4096 fEst=[ 1885.00692343] error=[-0.00692343]"
       ]
      },
      {
       "output_type": "stream",
       "stream": "stdout",
       "text": [
        "\n",
        "f=1886 M=2101 N=4096 fEst=[ 1886.01368104] error=[-0.01368104]\n",
        "f=1887 M=2101 N=4096 fEst=[ 1887.01722979] error=[-0.01722979]\n",
        "f=1888 M=2101 N=4096 fEst=[ 1888.01582945] error=[-0.01582945]\n",
        "f=1889 M=2101 N=4096 fEst=[ 1889.0077388] error=[-0.0077388]\n",
        "f=1890 M=2101 N=4096 fEst=[ 1889.99321084] error=[ 0.00678916]\n",
        "f=1891 M=2101 N=4096 fEst=[ 1890.98453203] error=[ 0.01546797]"
       ]
      },
      {
       "output_type": "stream",
       "stream": "stdout",
       "text": [
        "\n",
        "f=1892 M=2101 N=4096 fEst=[ 1891.98267803] error=[ 0.01732197]\n",
        "f=1893 M=2101 N=4096 fEst=[ 1892.98590751] error=[ 0.01409249]\n",
        "f=1894 M=2101 N=4096 fEst=[ 1893.99248015] error=[ 0.00751985]\n",
        "f=1895 M=2101 N=4096 fEst=[ 1895.00065627] error=[-0.00065627]\n",
        "f=1896 M=2101 N=4096 fEst=[ 1896.00869651] error=[-0.00869651]\n",
        "f=1897 M=2101 N=4096 fEst=[ 1897.01486149] error=[-0.01486149]"
       ]
      },
      {
       "output_type": "stream",
       "stream": "stdout",
       "text": [
        "\n",
        "f=1898 M=2101 N=4096 fEst=[ 1898.01741146] error=[-0.01741146]\n",
        "f=1899 M=2101 N=4096 fEst=[ 1899.01460595] error=[-0.01460595]\n",
        "f=1900 M=2101 N=4096 fEst=[ 1900.00470344] error=[-0.00470344]\n",
        "f=1901 M=2101 N=4096 fEst=[ 1900.99048548] error=[ 0.00951452]\n",
        "f=1902 M=2101 N=4096 fEst=[ 1901.98355508] error=[ 0.01644492]\n",
        "f=1903 M=2101 N=4096 fEst=[ 1902.98304283] error=[ 0.01695717]"
       ]
      },
      {
       "output_type": "stream",
       "stream": "stdout",
       "text": [
        "\n",
        "f=1904 M=2101 N=4096 fEst=[ 1903.9872077] error=[ 0.0127923]\n",
        "f=1905 M=2101 N=4096 fEst=[ 1904.99430956] error=[ 0.00569044]\n",
        "f=1906 M=2101 N=4096 fEst=[ 1906.00260889] error=[-0.00260889]\n",
        "f=1907 M=2101 N=4096 fEst=[ 1907.0103664] error=[-0.0103664]\n",
        "f=1908 M=2101 N=4096 fEst=[ 1908.01584267] error=[-0.01584267]\n",
        "f=1909 M=2101 N=4096 fEst=[ 1909.01729786] error=[-0.01729786]"
       ]
      },
      {
       "output_type": "stream",
       "stream": "stdout",
       "text": [
        "\n",
        "f=1910 M=2101 N=4096 fEst=[ 1910.01299132] error=[-0.01299132]\n",
        "f=1911 M=2101 N=4096 fEst=[ 1911.00118127] error=[-0.00118127]\n",
        "f=1912 M=2101 N=4096 fEst=[ 1911.98819954] error=[ 0.01180046]\n",
        "f=1913 M=2101 N=4096 fEst=[ 1912.98292335] error=[ 0.01707665]\n",
        "f=1914 M=2101 N=4096 fEst=[ 1913.98365897] error=[ 0.01634103]\n",
        "f=1915 M=2101 N=4096 fEst=[ 1914.98866558] error=[ 0.01133442]"
       ]
      },
      {
       "output_type": "stream",
       "stream": "stdout",
       "text": [
        "\n",
        "f=1916 M=2101 N=4096 fEst=[ 1915.9962032] error=[ 0.0037968]\n",
        "f=1917 M=2101 N=4096 fEst=[ 1917.00453233] error=[-0.00453233]\n",
        "f=1918 M=2101 N=4096 fEst=[ 1918.01191366] error=[-0.01191366]\n",
        "f=1919 M=2101 N=4096 fEst=[ 1919.01660768] error=[-0.01660768]\n",
        "f=1920 M=2101 N=4096 fEst=[ 1920.01687433] error=[-0.01687433]\n",
        "f=1921 M=2101 N=4096 fEst=[ 1921.01097272] error=[-0.01097272]"
       ]
      },
      {
       "output_type": "stream",
       "stream": "stdout",
       "text": [
        "\n",
        "f=1922 M=2101 N=4096 fEst=[ 1921.99740548] error=[ 0.00259452]\n",
        "f=1923 M=2101 N=4096 fEst=[ 1922.98634078] error=[ 0.01365922]\n",
        "f=1924 M=2101 N=4096 fEst=[ 1923.98262306] error=[ 0.01737694]\n",
        "f=1925 M=2101 N=4096 fEst=[ 1924.98451065] error=[ 0.01548935]\n",
        "f=1926 M=2101 N=4096 fEst=[ 1925.990263] error=[ 0.009737]\n",
        "f=1927 M=2101 N=4096 fEst=[ 1926.99814031] error=[ 0.00185969]"
       ]
      },
      {
       "output_type": "stream",
       "stream": "stdout",
       "text": [
        "\n",
        "f=1928 M=2101 N=4096 fEst=[ 1928.00640318] error=[-0.00640318]\n",
        "f=1929 M=2101 N=4096 fEst=[ 1929.01331233] error=[-0.01331233]\n",
        "f=1930 M=2101 N=4096 fEst=[ 1930.01712818] error=[-0.01712818]\n",
        "f=1931 M=2101 N=4096 fEst=[ 1931.01611055] error=[-0.01611055]\n",
        "f=1932 M=2101 N=4096 fEst=[ 1932.00851829] error=[-0.00851829]\n",
        "f=1933 M=2101 N=4096 fEst=[ 1932.99407145] error=[ 0.00592855]"
       ]
      },
      {
       "output_type": "stream",
       "stream": "stdout",
       "text": [
        "\n",
        "f=1934 M=2101 N=4096 fEst=[ 1933.98487783] error=[ 0.01512217]\n",
        "f=1935 M=2101 N=4096 fEst=[ 1934.98262468] error=[ 0.01737532]\n",
        "f=1936 M=2101 N=4096 fEst=[ 1935.98557058] error=[ 0.01442942]\n",
        "f=1937 M=2101 N=4096 fEst=[ 1936.99197516] error=[ 0.00802484]\n",
        "f=1938 M=2101 N=4096 fEst=[ 1938.0000987] error=[ -9.86952627e-05]\n",
        "f=1939 M=2101 N=4096 fEst=[ 1939.00820183] error=[-0.00820183]"
       ]
      },
      {
       "output_type": "stream",
       "stream": "stdout",
       "text": [
        "\n",
        "f=1940 M=2101 N=4096 fEst=[ 1940.0145452] error=[-0.0145452]\n",
        "f=1941 M=2101 N=4096 fEst=[ 1941.01738909] error=[-0.01738909]\n",
        "f=1942 M=2101 N=4096 fEst=[ 1942.01499308] error=[-0.01499308]\n",
        "f=1943 M=2101 N=4096 fEst=[ 1943.00561575] error=[-0.00561575]\n",
        "f=1944 M=2101 N=4096 fEst=[ 1943.99121525] error=[ 0.00878475]\n",
        "f=1945 M=2101 N=4096 fEst=[ 1944.9837969] error=[ 0.0162031]"
       ]
      },
      {
       "output_type": "stream",
       "stream": "stdout",
       "text": [
        "\n",
        "f=1946 M=2101 N=4096 fEst=[ 1945.98291238] error=[ 0.01708762]\n",
        "f=1947 M=2101 N=4096 fEst=[ 1946.98682058] error=[ 0.01317942]\n",
        "f=1948 M=2101 N=4096 fEst=[ 1947.99378134] error=[ 0.00621866]\n",
        "f=1949 M=2101 N=4096 fEst=[ 1949.00205509] error=[-0.00205509]\n",
        "f=1950 M=2101 N=4096 fEst=[ 1950.00990255] error=[-0.00990255]\n",
        "f=1951 M=2101 N=4096 fEst=[ 1951.01558431] error=[-0.01558431]"
       ]
      },
      {
       "output_type": "stream",
       "stream": "stdout",
       "text": [
        "\n",
        "f=1952 M=2101 N=4096 fEst=[ 1952.01736057] error=[-0.01736057]\n",
        "f=1953 M=2101 N=4096 fEst=[ 1953.01349073] error=[-0.01349073]\n",
        "f=1954 M=2101 N=4096 fEst=[ 1954.00223309] error=[-0.00223309]\n",
        "f=1955 M=2101 N=4096 fEst=[ 1954.98880549] error=[ 0.01119451]\n",
        "f=1956 M=2101 N=4096 fEst=[ 1955.98306847] error=[ 0.01693153]\n",
        "f=1957 M=2101 N=4096 fEst=[ 1956.98345888] error=[ 0.01654112]"
       ]
      },
      {
       "output_type": "stream",
       "stream": "stdout",
       "text": [
        "\n",
        "f=1958 M=2101 N=4096 fEst=[ 1957.98823582] error=[ 0.01176418]\n",
        "f=1959 M=2101 N=4096 fEst=[ 1958.99565927] error=[ 0.00434073]\n",
        "f=1960 M=2101 N=4096 fEst=[ 1960.00398971] error=[-0.00398971]\n",
        "f=1961 M=2101 N=4096 fEst=[ 1961.01148784] error=[-0.01148784]\n",
        "f=1962 M=2101 N=4096 fEst=[ 1962.01641415] error=[-0.01641415]\n",
        "f=1963 M=2101 N=4096 fEst=[ 1963.01702867] error=[-0.01702867]"
       ]
      },
      {
       "output_type": "stream",
       "stream": "stdout",
       "text": [
        "\n",
        "f=1964 M=2101 N=4096 fEst=[ 1964.01159054] error=[-0.01159054]\n",
        "f=1965 M=2101 N=4096 fEst=[ 1964.9984427] error=[ 0.0015573]\n",
        "f=1966 M=2101 N=4096 fEst=[ 1965.98682834] error=[ 0.01317166]\n",
        "f=1967 M=2101 N=4096 fEst=[ 1966.98267669] error=[ 0.01732331]\n",
        "f=1968 M=2101 N=4096 fEst=[ 1967.984246] error=[ 0.015754]\n",
        "f=1969 M=2101 N=4096 fEst=[ 1968.98979565] error=[ 0.01020435]"
       ]
      },
      {
       "output_type": "stream",
       "stream": "stdout",
       "text": [
        "\n",
        "f=1970 M=2101 N=4096 fEst=[ 1969.99758579] error=[ 0.00241421]\n",
        "f=1971 M=2101 N=4096 fEst=[ 1971.00587704] error=[-0.00587704]\n",
        "f=1972 M=2101 N=4096 fEst=[ 1972.01293007] error=[-0.01293007]\n",
        "f=1973 M=2101 N=4096 fEst=[ 1973.01700536] error=[-0.01700536]\n",
        "f=1974 M=2101 N=4096 fEst=[ 1974.01636277] error=[-0.01636277]\n",
        "f=1975 M=2101 N=4096 fEst=[ 1975.00926121] error=[-0.00926121]"
       ]
      },
      {
       "output_type": "stream",
       "stream": "stdout",
       "text": [
        "\n",
        "f=1976 M=2101 N=4096 fEst=[ 1975.99497045] error=[ 0.00502955]\n",
        "f=1977 M=2101 N=4096 fEst=[ 1976.9852543] error=[ 0.0147457]\n",
        "f=1978 M=2101 N=4096 fEst=[ 1977.98259428] error=[ 0.01740572]\n",
        "f=1979 M=2101 N=4096 fEst=[ 1978.9852489] error=[ 0.0147511]\n",
        "f=1980 M=2101 N=4096 fEst=[ 1979.99147771] error=[ 0.00852229]\n",
        "f=1981 M=2101 N=4096 fEst=[ 1980.99954097] error=[ 0.00045903]"
       ]
      },
      {
       "output_type": "stream",
       "stream": "stdout",
       "text": [
        "\n",
        "f=1982 M=2101 N=4096 fEst=[ 1982.00769932] error=[-0.00769932]\n",
        "f=1983 M=2101 N=4096 fEst=[ 1983.01421339] error=[-0.01421339]\n",
        "f=1984 M=2101 N=4096 fEst=[ 1984.0173435] error=[-0.0173435]\n",
        "f=1985 M=2101 N=4096 fEst=[ 1985.01534932] error=[-0.01534932]\n",
        "f=1986 M=2101 N=4096 fEst=[ 1986.00648949] error=[-0.00648949]\n",
        "f=1987 M=2101 N=4096 fEst=[ 1986.99198145] error=[ 0.00801855]"
       ]
      },
      {
       "output_type": "stream",
       "stream": "stdout",
       "text": [
        "\n",
        "f=1988 M=2101 N=4096 fEst=[ 1987.98406748] error=[ 0.01593252]\n",
        "f=1989 M=2101 N=4096 fEst=[ 1988.98280304] error=[ 0.01719696]\n",
        "f=1990 M=2101 N=4096 fEst=[ 1989.98644693] error=[ 0.01355307]\n",
        "f=1991 M=2101 N=4096 fEst=[ 1990.99325894] error=[ 0.00674106]\n",
        "f=1992 M=2101 N=4096 fEst=[ 1992.00149948] error=[-0.00149948]\n",
        "f=1993 M=2101 N=4096 fEst=[ 1993.00942923] error=[-0.00942923]"
       ]
      },
      {
       "output_type": "stream",
       "stream": "stdout",
       "text": [
        "\n",
        "f=1994 M=2101 N=4096 fEst=[ 1994.01530883] error=[-0.01530883]\n",
        "f=1995 M=2101 N=4096 fEst=[ 1995.01739848] error=[-0.01739848]\n",
        "f=1996 M=2101 N=4096 fEst=[ 1996.01395765] error=[-0.01395765]\n",
        "f=1997 M=2101 N=4096 fEst=[ 1997.00324473] error=[-0.00324473]\n",
        "f=1998 M=2101 N=4096 fEst=[ 1997.9894462] error=[ 0.0105538]\n",
        "f=1999 M=2101 N=4096 fEst=[ 1998.98324064] error=[ 0.01675936]"
       ]
      },
      {
       "output_type": "stream",
       "stream": "stdout",
       "text": [
        "\n",
        "f=2000 M=2101 N=4096 fEst=[ 1999.98327813] error=[ 0.01672187]\n"
       ]
      },
      {
       "metadata": {},
       "output_type": "pyout",
       "prompt_number": 77,
       "text": [
        "(2101, 4096)"
       ]
      }
     ],
     "prompt_number": 77
    },
    {
     "cell_type": "code",
     "collapsed": false,
     "input": [
      "int(22050 - 101/2)"
     ],
     "language": "python",
     "metadata": {},
     "outputs": [
      {
       "metadata": {},
       "output_type": "pyout",
       "prompt_number": 28,
       "text": [
        "21999"
       ]
      }
     ],
     "prompt_number": 28
    },
    {
     "cell_type": "code",
     "collapsed": false,
     "input": [
      "22101 - 21999"
     ],
     "language": "python",
     "metadata": {},
     "outputs": [
      {
       "metadata": {},
       "output_type": "pyout",
       "prompt_number": 29,
       "text": [
        "102"
       ]
      }
     ],
     "prompt_number": 29
    },
    {
     "cell_type": "code",
     "collapsed": false,
     "input": [
      "import A5Part1\n",
      "reload(A5Part1)"
     ],
     "language": "python",
     "metadata": {},
     "outputs": [
      {
       "metadata": {},
       "output_type": "pyout",
       "prompt_number": 78,
       "text": [
        "<module 'A5Part1' from 'A5Part1.py'>"
       ]
      }
     ],
     "prompt_number": 78
    },
    {
     "cell_type": "code",
     "collapsed": false,
     "input": [
      "A5Part1.minFreqEstErr('/home/ubuntu/sms-tools/sounds/sine-440.wav', 440)"
     ],
     "language": "python",
     "metadata": {},
     "outputs": [
      {
       "output_type": "stream",
       "stream": "stdout",
       "text": [
        "freq: 440, inputFile /home/ubuntu/sms-tools/sounds/sine-440.wav\n",
        "[ 439.98891135]\n"
       ]
      },
      {
       "metadata": {},
       "output_type": "pyout",
       "prompt_number": 79,
       "text": [
        "(439.98891134809321, 2101, 4096)"
       ]
      }
     ],
     "prompt_number": 79
    },
    {
     "cell_type": "code",
     "collapsed": false,
     "input": [
      "A5Part1.minFreqEstErr('/home/ubuntu/sms-tools/sounds/sine-101.wav', 101)"
     ],
     "language": "python",
     "metadata": {},
     "outputs": [
      {
       "output_type": "stream",
       "stream": "stdout",
       "text": [
        "freq: 101, inputFile /home/ubuntu/sms-tools/sounds/sine-101.wav\n",
        "[ 101.01787126]\n"
       ]
      },
      {
       "metadata": {},
       "output_type": "pyout",
       "prompt_number": 80,
       "text": [
        "(101.01787125675841, 2101, 4096)"
       ]
      }
     ],
     "prompt_number": 80
    },
    {
     "cell_type": "code",
     "collapsed": false,
     "input": [
      "A5Part1.minFreqEstErr('/home/ubuntu/sms-tools/sounds/sine-200.wav', 200)"
     ],
     "language": "python",
     "metadata": {},
     "outputs": [
      {
       "output_type": "stream",
       "stream": "stdout",
       "text": [
        "freq: 200, inputFile /home/ubuntu/sms-tools/sounds/sine-200.wav\n",
        "[ 199.98813992]\n"
       ]
      },
      {
       "metadata": {},
       "output_type": "pyout",
       "prompt_number": 81,
       "text": [
        "(199.98813991540158, 2101, 4096)"
       ]
      }
     ],
     "prompt_number": 81
    },
    {
     "cell_type": "code",
     "collapsed": false,
     "input": [
      "import A5Part2\n",
      "reload(A5Part2)"
     ],
     "language": "python",
     "metadata": {},
     "outputs": [
      {
       "metadata": {},
       "output_type": "pyout",
       "prompt_number": 83,
       "text": [
        "<module 'A5Part2' from 'A5Part2.py'>"
       ]
      }
     ],
     "prompt_number": 83
    },
    {
     "cell_type": "code",
     "collapsed": false,
     "input": [
      "A5Part2.chirpTracker(M=4001, H=800)"
     ],
     "language": "python",
     "metadata": {},
     "outputs": [
      {
       "output_type": "stream",
       "stream": "stdout",
       "text": [
        "Mean estimation error = [ 1.56344436  1.68609037] Hz\n"
       ]
      },
      {
       "metadata": {},
       "output_type": "pyout",
       "prompt_number": 92,
       "text": [
        "(4001,\n",
        " 800,\n",
        " array([ 0.04537415,  0.06351474,  0.08165533,  0.09979592,  0.11793651,\n",
        "        0.1360771 ,  0.15421769,  0.17235828,  0.19049887,  0.20863946,\n",
        "        0.22678005,  0.24492063,  0.26306122,  0.28120181,  0.2993424 ,\n",
        "        0.31748299,  0.33562358,  0.35376417,  0.37190476,  0.39004535,\n",
        "        0.40818594,  0.42632653,  0.44446712,  0.46260771,  0.4807483 ,\n",
        "        0.49888889,  0.51702948,  0.53517007,  0.55331066,  0.57145125,\n",
        "        0.58959184,  0.60773243,  0.62587302,  0.64401361,  0.6621542 ,\n",
        "        0.68029478,  0.69843537,  0.71657596,  0.73471655,  0.75285714,\n",
        "        0.77099773,  0.78913832,  0.80727891,  0.8254195 ,  0.84356009,\n",
        "        0.86170068,  0.87984127,  0.89798186,  0.91612245,  0.93426304,\n",
        "        0.95240363,  0.97054422,  0.98868481,  1.0068254 ,  1.02496599,\n",
        "        1.04310658,  1.06124717,  1.07938776,  1.09752834,  1.11566893,\n",
        "        1.13380952,  1.15195011,  1.1700907 ,  1.18823129,  1.20637188,\n",
        "        1.22451247,  1.24265306,  1.26079365,  1.27893424,  1.29707483,\n",
        "        1.31521542,  1.33335601,  1.3514966 ,  1.36963719,  1.38777778,\n",
        "        1.40591837,  1.42405896,  1.44219955,  1.46034014,  1.47848073,\n",
        "        1.49662132,  1.5147619 ,  1.53290249,  1.55104308,  1.56918367,\n",
        "        1.58732426,  1.60546485,  1.62360544,  1.64174603,  1.65988662,\n",
        "        1.67802721,  1.6961678 ,  1.71430839,  1.73244898,  1.75058957,\n",
        "        1.76873016,  1.78687075,  1.80501134,  1.82315193,  1.84129252,\n",
        "        1.85943311,  1.8775737 ,  1.89571429,  1.91385488,  1.93199546,\n",
        "        1.95013605,  1.96827664,  1.98641723,  2.00455782,  2.02269841,\n",
        "        2.040839  ]),\n",
        " array([[  202.19358863,   156.83799385],\n",
        "       [  208.46938215,   173.90641003],\n",
        "       [  215.04172797,   175.08244671],\n",
        "       [  227.34234379,   188.4358116 ],\n",
        "       [  237.2967479 ,   196.4108944 ],\n",
        "       [  246.37645316,   206.71007585],\n",
        "       [  259.00213728,   220.62160403],\n",
        "       [  269.98469931,   229.20590315],\n",
        "       [  279.37601392,   239.15576046],\n",
        "       [  291.68573106,   253.07200937],\n",
        "       [  304.18583647,   265.44500286],\n",
        "       [  314.44174537,   273.25042957],\n",
        "       [  324.88139679,   285.57550228],\n",
        "       [  337.51002626,   298.39254877],\n",
        "       [  349.37552044,   311.65779454],\n",
        "       [  359.9880489 ,   319.23631784],\n",
        "       [  370.54948654,   330.7170713 ],\n",
        "       [  382.89975525,   344.9965193 ],\n",
        "       [  395.04582557,   355.39344143],\n",
        "       [  404.73097507,   363.9082838 ],\n",
        "       [  416.07131707,   377.12466698],\n",
        "       [  429.04189334,   390.92693254],\n",
        "       [  439.68001121,   398.52826989],\n",
        "       [  449.4867447 ,   409.61485771],\n",
        "       [  462.34443772,   424.0466345 ],\n",
        "       [  474.36098802,   434.28452577],\n",
        "       [  483.82569366,   443.07076452],\n",
        "       [  495.32767671,   456.44417707],\n",
        "       [  508.21559042,   469.49698689],\n",
        "       [  518.95551109,   477.75364257],\n",
        "       [  528.79940463,   489.17678574],\n",
        "       [  541.35276369,   502.02506571],\n",
        "       [  553.39292049,   515.56223612],\n",
        "       [  564.26299337,   523.41272665],\n",
        "       [  574.53841773,   534.55223038],\n",
        "       [  586.62586775,   548.27185874],\n",
        "       [  599.15760824,   560.71987117],\n",
        "       [  609.31338646,   568.24442512],\n",
        "       [  619.81835632,   580.46555225],\n",
        "       [  632.83101033,   594.96096872],\n",
        "       [  644.22085515,   603.53540071],\n",
        "       [  653.68749563,   613.29852161],\n",
        "       [  665.95933281,   627.35724943],\n",
        "       [  678.55694938,   639.40405227],\n",
        "       [  688.45970714,   647.32703623],\n",
        "       [  699.03241693,   659.72363396],\n",
        "       [  712.08123564,   673.46844437],\n",
        "       [  723.42518259,   682.57716939],\n",
        "       [  732.94009635,   692.76933854],\n",
        "       [  745.0988733 ,   705.83773637],\n",
        "       [  757.49536493,   719.16354177],\n",
        "       [  768.44924821,   727.29125698],\n",
        "       [  778.52846694,   738.63727053],\n",
        "       [  790.65500278,   751.62542038],\n",
        "       [  803.07027543,   765.46869725],\n",
        "       [  813.88866624,   772.82712594],\n",
        "       [  823.77957063,   783.98660888],\n",
        "       [  836.49295706,   798.42900781],\n",
        "       [  848.58036818,   808.80814128],\n",
        "       [  858.15018858,   817.28547289],\n",
        "       [  869.57714237,   830.58607083],\n",
        "       [  882.55048912,   844.15786082],\n",
        "       [  893.1212968 ,   851.94631891],\n",
        "       [  902.92254263,   863.14474349],\n",
        "       [  915.8064535 ,   877.48698456],\n",
        "       [  927.78779174,   887.62072698],\n",
        "       [  937.3508486 ,   896.64029233],\n",
        "       [  948.79584346,   909.87757881],\n",
        "       [  961.53620154,   922.78662826],\n",
        "       [  972.66048212,   931.35905252],\n",
        "       [  982.57399952,   942.7403073 ],\n",
        "       [  994.6017095 ,   955.12182442],\n",
        "       [ 1006.81690916,   969.32678467],\n",
        "       [ 1018.34918636,   977.62340425],\n",
        "       [ 1027.99921099,   987.75354112],\n",
        "       [ 1040.09622824,  1001.67889086],\n",
        "       [ 1052.72985052,  1014.08275017],\n",
        "       [ 1062.76220418,  1021.61138728],\n",
        "       [ 1073.30188292,  1033.890049  ],\n",
        "       [ 1086.36342417,  1048.28439222],\n",
        "       [ 1097.68452355,  1056.90804668],\n",
        "       [ 1107.09655528,  1066.79238472],\n",
        "       [ 1119.44148815,  1080.86069396],\n",
        "       [ 1131.99172689,  1092.67047229],\n",
        "       [ 1141.94611583,  1100.84204068],\n",
        "       [ 1152.52337207,  1113.33456637],\n",
        "       [ 1165.44377944,  1126.48857837],\n",
        "       [ 1176.92471543,  1136.94035322],\n",
        "       [ 1186.74920882,  1146.44128993],\n",
        "       [ 1198.46016987,  1158.80163525],\n",
        "       [ 1210.72255184,  1172.73641819],\n",
        "       [ 1222.63062215,  1182.68755304],\n",
        "       [ 1232.31437713,  1191.80975977],\n",
        "       [ 1243.72789301,  1204.95071997],\n",
        "       [ 1256.67490362,  1218.8522628 ],\n",
        "       [ 1267.38030734,  1226.26787981],\n",
        "       [ 1277.23844381,  1237.3626722 ],\n",
        "       [ 1290.04123111,  1251.84376998],\n",
        "       [ 1302.07393088,  1262.11713257],\n",
        "       [ 1311.55413076,  1270.73629719],\n",
        "       [ 1323.06042549,  1284.09978029],\n",
        "       [ 1336.00966966,  1297.41701098],\n",
        "       [ 1346.57960452,  1305.39911436],\n",
        "       [ 1356.39304107,  1316.73051062],\n",
        "       [ 1369.1336474 ,  1330.13748884],\n",
        "       [ 1380.13008565,  1340.22054421],\n",
        "       [ 1388.89665539,  1348.41357133],\n",
        "       [ 1400.90589448,  1362.07859883],\n",
        "       [ 1412.03137539,  1373.42169291],\n",
        "       [ 1418.4867679 ,  1378.32157347],\n",
        "       [ 1427.69964979,  1390.3757255 ]]),\n",
        " array([[  190.        ,   150.        ],\n",
        "       [  201.36363636,   161.36363636],\n",
        "       [  212.72727273,   172.72727273],\n",
        "       [  224.09090909,   184.09090909],\n",
        "       [  235.45454545,   195.45454545],\n",
        "       [  246.81818182,   206.81818182],\n",
        "       [  258.18181818,   218.18181818],\n",
        "       [  269.54545455,   229.54545455],\n",
        "       [  280.90909091,   240.90909091],\n",
        "       [  292.27272727,   252.27272727],\n",
        "       [  303.63636364,   263.63636364],\n",
        "       [  315.        ,   275.        ],\n",
        "       [  326.36363636,   286.36363636],\n",
        "       [  337.72727273,   297.72727273],\n",
        "       [  349.09090909,   309.09090909],\n",
        "       [  360.45454545,   320.45454545],\n",
        "       [  371.81818182,   331.81818182],\n",
        "       [  383.18181818,   343.18181818],\n",
        "       [  394.54545455,   354.54545455],\n",
        "       [  405.90909091,   365.90909091],\n",
        "       [  417.27272727,   377.27272727],\n",
        "       [  428.63636364,   388.63636364],\n",
        "       [  440.        ,   400.        ],\n",
        "       [  451.36363636,   411.36363636],\n",
        "       [  462.72727273,   422.72727273],\n",
        "       [  474.09090909,   434.09090909],\n",
        "       [  485.45454545,   445.45454545],\n",
        "       [  496.81818182,   456.81818182],\n",
        "       [  508.18181818,   468.18181818],\n",
        "       [  519.54545455,   479.54545455],\n",
        "       [  530.90909091,   490.90909091],\n",
        "       [  542.27272727,   502.27272727],\n",
        "       [  553.63636364,   513.63636364],\n",
        "       [  565.        ,   525.        ],\n",
        "       [  576.36363636,   536.36363636],\n",
        "       [  587.72727273,   547.72727273],\n",
        "       [  599.09090909,   559.09090909],\n",
        "       [  610.45454545,   570.45454545],\n",
        "       [  621.81818182,   581.81818182],\n",
        "       [  633.18181818,   593.18181818],\n",
        "       [  644.54545455,   604.54545455],\n",
        "       [  655.90909091,   615.90909091],\n",
        "       [  667.27272727,   627.27272727],\n",
        "       [  678.63636364,   638.63636364],\n",
        "       [  690.        ,   650.        ],\n",
        "       [  701.36363636,   661.36363636],\n",
        "       [  712.72727273,   672.72727273],\n",
        "       [  724.09090909,   684.09090909],\n",
        "       [  735.45454545,   695.45454545],\n",
        "       [  746.81818182,   706.81818182],\n",
        "       [  758.18181818,   718.18181818],\n",
        "       [  769.54545455,   729.54545455],\n",
        "       [  780.90909091,   740.90909091],\n",
        "       [  792.27272727,   752.27272727],\n",
        "       [  803.63636364,   763.63636364],\n",
        "       [  815.        ,   775.        ],\n",
        "       [  826.36363636,   786.36363636],\n",
        "       [  837.72727273,   797.72727273],\n",
        "       [  849.09090909,   809.09090909],\n",
        "       [  860.45454545,   820.45454545],\n",
        "       [  871.81818182,   831.81818182],\n",
        "       [  883.18181818,   843.18181818],\n",
        "       [  894.54545455,   854.54545455],\n",
        "       [  905.90909091,   865.90909091],\n",
        "       [  917.27272727,   877.27272727],\n",
        "       [  928.63636364,   888.63636364],\n",
        "       [  940.        ,   900.        ],\n",
        "       [  951.36363636,   911.36363636],\n",
        "       [  962.72727273,   922.72727273],\n",
        "       [  974.09090909,   934.09090909],\n",
        "       [  985.45454545,   945.45454545],\n",
        "       [  996.81818182,   956.81818182],\n",
        "       [ 1008.18181818,   968.18181818],\n",
        "       [ 1019.54545455,   979.54545455],\n",
        "       [ 1030.90909091,   990.90909091],\n",
        "       [ 1042.27272727,  1002.27272727],\n",
        "       [ 1053.63636364,  1013.63636364],\n",
        "       [ 1065.        ,  1025.        ],\n",
        "       [ 1076.36363636,  1036.36363636],\n",
        "       [ 1087.72727273,  1047.72727273],\n",
        "       [ 1099.09090909,  1059.09090909],\n",
        "       [ 1110.45454545,  1070.45454545],\n",
        "       [ 1121.81818182,  1081.81818182],\n",
        "       [ 1133.18181818,  1093.18181818],\n",
        "       [ 1144.54545455,  1104.54545455],\n",
        "       [ 1155.90909091,  1115.90909091],\n",
        "       [ 1167.27272727,  1127.27272727],\n",
        "       [ 1178.63636364,  1138.63636364],\n",
        "       [ 1190.        ,  1150.        ],\n",
        "       [ 1201.36363636,  1161.36363636],\n",
        "       [ 1212.72727273,  1172.72727273],\n",
        "       [ 1224.09090909,  1184.09090909],\n",
        "       [ 1235.45454545,  1195.45454545],\n",
        "       [ 1246.81818182,  1206.81818182],\n",
        "       [ 1258.18181818,  1218.18181818],\n",
        "       [ 1269.54545455,  1229.54545455],\n",
        "       [ 1280.90909091,  1240.90909091],\n",
        "       [ 1292.27272727,  1252.27272727],\n",
        "       [ 1303.63636364,  1263.63636364],\n",
        "       [ 1315.        ,  1275.        ],\n",
        "       [ 1326.36363636,  1286.36363636],\n",
        "       [ 1337.72727273,  1297.72727273],\n",
        "       [ 1349.09090909,  1309.09090909],\n",
        "       [ 1360.45454545,  1320.45454545],\n",
        "       [ 1371.81818182,  1331.81818182],\n",
        "       [ 1383.18181818,  1343.18181818],\n",
        "       [ 1394.54545455,  1354.54545455],\n",
        "       [ 1405.90909091,  1365.90909091],\n",
        "       [ 1417.27272727,  1377.27272727],\n",
        "       [ 1428.63636364,  1388.63636364],\n",
        "       [ 1440.        ,  1400.        ]]))"
       ]
      },
      {
       "metadata": {},
       "output_type": "display_data",
       "png": "[encoded data removed]",
       "text": [
        "<matplotlib.figure.Figure at 0xb67424ec>"
       ]
      }
     ],
     "prompt_number": 92
    },
    {
     "cell_type": "code",
     "collapsed": false,
     "input": [
      "import A5Part3\n",
      "reload(A5Part3)"
     ],
     "language": "python",
     "metadata": {},
     "outputs": [
      {
       "metadata": {},
       "output_type": "pyout",
       "prompt_number": 94,
       "text": [
        "<module 'A5Part3' from 'A5Part3.py'>"
       ]
      }
     ],
     "prompt_number": 94
    },
    {
     "cell_type": "code",
     "collapsed": false,
     "input": [
      "(w, t, ts, fEst, fTrue) = A5Part3.mainlobeTracker(window='hamming', t=-80)"
     ],
     "language": "python",
     "metadata": {},
     "outputs": [
      {
       "output_type": "stream",
       "stream": "stdout",
       "text": [
        "Mean estimation error = [  2.66227857e-02   6.42624801e+01] Hz\n"
       ]
      },
      {
       "metadata": {},
       "output_type": "display_data",
       "png": "[encoded data removed]",
       "text": [
        "<matplotlib.figure.Figure at 0xb02b46ac>"
       ]
      }
     ],
     "prompt_number": 104
    },
    {
     "cell_type": "code",
     "collapsed": false,
     "input": [
      "(w, t, ts, fEst, fTrue) = A5Part3.mainlobeTracker(window='triang', t=-80)"
     ],
     "language": "python",
     "metadata": {},
     "outputs": [
      {
       "output_type": "stream",
       "stream": "stdout",
       "text": [
        "Mean estimation error = [  2.90164596e-02   2.24100699e+02] Hz\n"
       ]
      },
      {
       "metadata": {},
       "output_type": "display_data",
       "png": "[encoded data removed]",
       "text": [
        "<matplotlib.figure.Figure at 0xb045956c>"
       ]
      }
     ],
     "prompt_number": 130
    },
    {
     "cell_type": "code",
     "collapsed": false,
     "input": [
      "(w, t, ts, fEst, fTrue) = A5Part3.mainlobeTracker(window='triang', t=-20)"
     ],
     "language": "python",
     "metadata": {},
     "outputs": [
      {
       "output_type": "stream",
       "stream": "stdout",
       "text": [
        "Mean estimation error = [  2.90164596e-02   6.02000000e+02] Hz\n"
       ]
      },
      {
       "metadata": {},
       "output_type": "display_data",
       "png": "[encoded data removed]",
       "text": [
        "<matplotlib.figure.Figure at 0xb0557a8c>"
       ]
      }
     ],
     "prompt_number": 132
    },
    {
     "cell_type": "code",
     "collapsed": false,
     "input": [
      "(w, t, ts, fEst, fTrue) = A5Part3.mainlobeTracker(window='triang', t=-150)"
     ],
     "language": "python",
     "metadata": {},
     "outputs": [
      {
       "output_type": "stream",
       "stream": "stdout",
       "text": [
        "Mean estimation error = [  2.90164596e-02   2.24100699e+02] Hz\n"
       ]
      },
      {
       "metadata": {},
       "output_type": "display_data",
       "png": "[encoded data removed]",
       "text": [
        "<matplotlib.figure.Figure at 0xb025110c>"
       ]
      }
     ],
     "prompt_number": 133
    },
    {
     "cell_type": "code",
     "collapsed": false,
     "input": [
      "(w, t, ts, fEst, fTrue) = A5Part3.mainlobeTracker(window='flattop', t=-150)"
     ],
     "language": "python",
     "metadata": {},
     "outputs": [
      {
       "output_type": "stream",
       "stream": "stdout",
       "text": [
        "Mean estimation error = [ 378.13564498  163.57007331] Hz\n"
       ]
      },
      {
       "metadata": {},
       "output_type": "display_data",
       "png": "[encoded data removed]",
       "text": [
        "<matplotlib.figure.Figure at 0xb0447eac>"
       ]
      }
     ],
     "prompt_number": 135
    },
    {
     "cell_type": "code",
     "collapsed": false,
     "input": [
      "(w, t, ts, fEst, fTrue) = A5Part3.mainlobeTracker(window='boxcar', t=-1000)"
     ],
     "language": "python",
     "metadata": {},
     "outputs": [
      {
       "output_type": "stream",
       "stream": "stdout",
       "text": [
        "Mean estimation error = [   0.14202943  129.46222788] Hz\n"
       ]
      },
      {
       "metadata": {},
       "output_type": "display_data",
       "png": "[encoded data removed]",
       "text": [
        "<matplotlib.figure.Figure at 0xb04b64cc>"
       ]
      }
     ],
     "prompt_number": 138
    },
    {
     "cell_type": "code",
     "collapsed": false,
     "input": [
      "for window in ['boxcar', 'triang', 'blackman', 'hamming', 'hann', 'blartlett',\n",
      "               'parzen', 'bohman', 'blackmanharris', 'nuttall', 'barthann']:\n",
      "    for t in (-150, -80, -20):\n",
      "        print window\n",
      "        print t\n",
      "        (w, t, ts, fEst, fTrue) = A5Part3.mainlobeTracker(window=window, t=t)\n"
     ],
     "language": "python",
     "metadata": {},
     "outputs": [
      {
       "output_type": "stream",
       "stream": "stdout",
       "text": [
        "boxcar\n",
        "-150\n",
        "Mean estimation error = [   0.14202943  129.46222788] Hz"
       ]
      }
     ],
     "prompt_number": "*"
    },
    {
     "cell_type": "code",
     "collapsed": false,
     "input": [],
     "language": "python",
     "metadata": {},
     "outputs": []
    },
    {
     "cell_type": "code",
     "collapsed": false,
     "input": [
      "import scipy.signal"
     ],
     "language": "python",
     "metadata": {},
     "outputs": [],
     "prompt_number": 99
    },
    {
     "cell_type": "code",
     "collapsed": false,
     "input": [
      "scipy.signal.get_window??"
     ],
     "language": "python",
     "metadata": {},
     "outputs": [],
     "prompt_number": 136
    },
    {
     "cell_type": "code",
     "collapsed": false,
     "input": [
      "import A5Part4\n",
      "reload(A5Part4)"
     ],
     "language": "python",
     "metadata": {},
     "outputs": [
      {
       "metadata": {},
       "output_type": "pyout",
       "prompt_number": 116,
       "text": [
        "<module 'A5Part4' from 'A5Part4.py'>"
       ]
      }
     ],
     "prompt_number": 116
    },
    {
     "cell_type": "code",
     "collapsed": false,
     "input": [
      "a = np.arange(10)"
     ],
     "language": "python",
     "metadata": {},
     "outputs": [],
     "prompt_number": 111
    },
    {
     "cell_type": "code",
     "collapsed": false,
     "input": [
      "a[0:5].std()"
     ],
     "language": "python",
     "metadata": {},
     "outputs": [
      {
       "metadata": {},
       "output_type": "pyout",
       "prompt_number": 115,
       "text": [
        "1.4142135623730951"
       ]
      }
     ],
     "prompt_number": 115
    },
    {
     "cell_type": "code",
     "collapsed": false,
     "input": [
      "pX = np.array([1.0, 1.2, 1.3, 1.4, 0.9, 0.8, 0.7, 0.6, 0.7, 0.8])\n",
      "A5Part4.selectFlatPhasePeak(pX, 3, 0.1)"
     ],
     "language": "python",
     "metadata": {},
     "outputs": [
      {
       "metadata": {},
       "output_type": "pyout",
       "prompt_number": 118,
       "text": [
        "False"
       ]
      }
     ],
     "prompt_number": 118
    },
    {
     "cell_type": "code",
     "collapsed": false,
     "input": [
      "A5Part4.sineModelAnalEnhanced(inputFile= '/home/ubuntu/sms-tools/sounds/sines-440-602-transient.wav')"
     ],
     "language": "python",
     "metadata": {},
     "outputs": [
      {
       "metadata": {},
       "output_type": "pyout",
       "prompt_number": 120,
       "text": [
        "(array([ 0.02321995,  0.02612245,  0.02902494, ...,  3.01569161,\n",
        "        3.0185941 ,  3.0214966 ]),\n",
        " array([[ 0.,  0.],\n",
        "       [ 0.,  0.],\n",
        "       [ 0.,  0.],\n",
        "       ..., \n",
        "       [ 0.,  0.],\n",
        "       [ 0.,  0.],\n",
        "       [ 0.,  0.]]))"
       ]
      },
      {
       "metadata": {},
       "output_type": "display_data",
       "png": "[encoded data removed]",
       "text": [
        "<matplotlib.figure.Figure at 0xb07eb22c>"
       ]
      }
     ],
     "prompt_number": 120
    },
    {
     "cell_type": "code",
     "collapsed": false,
     "input": [
      "import cPickle"
     ],
     "language": "python",
     "metadata": {},
     "outputs": [],
     "prompt_number": 122
    },
    {
     "cell_type": "code",
     "collapsed": false,
     "input": [
      "with open('testInputA5.pkl') as fd:\n",
      "    tests = cPickle.load(fd)"
     ],
     "language": "python",
     "metadata": {},
     "outputs": [],
     "prompt_number": 124
    },
    {
     "cell_type": "code",
     "collapsed": false,
     "input": [
      "tests"
     ],
     "language": "python",
     "metadata": {},
     "outputs": [
      {
       "metadata": {},
       "output_type": "pyout",
       "prompt_number": 125,
       "text": [
        "{'outputType': {'A5-part-1': [tuple],\n",
        "  'A5-part-2': [tuple],\n",
        "  'A5-part-3': [tuple],\n",
        "  'A5-part-4': [bool],\n",
        "  'A5-part-5': [bool]},\n",
        " 'testCases': {'A5-part-1': [{'f': 440.0,\n",
        "    'inputFile': '../../sounds/sine-440.wav'},\n",
        "   {'f': 101.0, 'inputFile': '../../sounds/sine-101.wav'},\n",
        "   {'f': 200.0, 'inputFile': '../../sounds/sine-200.wav'}],\n",
        "  'A5-part-2': [{'inputFile': '../../sounds/chirp-150-190-linear.wav'}],\n",
        "  'A5-part-3': [{'inputFile': '../../sounds/sines-440-602-hRange.wav'}],\n",
        "  'A5-part-4': [{'p': 9,\n",
        "    'pX': array([ 2.29981613,  1.30068855,  2.29999178,  1.29899481,  2.29994211,\n",
        "        1.29941491,  2.29953253,  1.29910113,  1.29972056,  1.29899918,\n",
        "        1.30032698,  1.30061713,  2.30008353,  1.29893439,  2.29830938,\n",
        "        1.29837841,  2.29786277]),\n",
        "    'phaseDevThres': 0.02},\n",
        "   {'p': 28,\n",
        "    'pX': array([ 3.10771996,  3.11735152,  3.04760363,  3.08933356,  2.98954471,\n",
        "        3.22956711,  3.15006616,  3.11903463,  3.05674044,  2.85416003,\n",
        "        3.08135172,  3.25907093,  3.17702357,  3.29006547,  3.1040514 ,\n",
        "        3.0745423 ,  3.15609924,  3.15806382,  3.17236359,  3.10039035,\n",
        "        3.16251995,  3.18823653,  3.05568537,  3.09129717,  3.26119786,\n",
        "        3.03986904,  3.40281534,  3.32028424,  3.36047857,  3.3282568 ,\n",
        "        4.11032732,  3.30583041,  3.03923325]),\n",
        "    'phaseDevThres': 0.05},\n",
        "   {'p': 7,\n",
        "    'pX': array([ 2.39557282,  2.39202152,  2.40614089,  2.41706969,  3.37476117,\n",
        "        2.40560847,  2.41276163,  2.40414881,  2.38365401,  2.39960955,\n",
        "        2.38883101,  2.39452714,  2.40922804,  2.38391652,  2.41475317,\n",
        "        2.40130838,  2.39660598,  2.39100797,  2.39192374,  2.40490958,\n",
        "        2.40678031,  2.4053757 ,  2.38892397,  2.41033268,  2.3985363 ,\n",
        "        2.41310729,  2.39548852,  2.39409978,  2.40300617,  2.38963207,\n",
        "        2.41063727,  2.4052716 ,  2.40293783,  2.40121021,  2.42675319,\n",
        "        2.41063467,  2.40842266,  2.40609352,  2.39109714,  2.39004021,\n",
        "        2.38855348,  2.41059963,  2.41452549,  2.39579232,  2.39769363,\n",
        "        2.39946771,  2.40442548,  2.38202361,  2.40269096,  2.39328507,\n",
        "        2.39840258,  2.40182669,  2.39408714,  2.40562183,  2.40207299,\n",
        "        2.42375285,  2.41098367,  2.39147055,  2.40087859,  2.41782399,\n",
        "        2.41245608,  2.40421194,  2.39714273,  2.39278993,  2.39802757]),\n",
        "    'phaseDevThres': 0.01}],\n",
        "  'A5-part-5': [{'inputFile': '../../sounds/multiSines.wav'}]}}"
       ]
      }
     ],
     "prompt_number": 125
    },
    {
     "cell_type": "code",
     "collapsed": false,
     "input": [
      "for t in tests['testCases']['A5-part-4']:\n",
      "    print type(A5Part4.selectFlatPhasePeak(t['pX'], t['p'], t['phaseDevThres']))"
     ],
     "language": "python",
     "metadata": {},
     "outputs": [
      {
       "output_type": "stream",
       "stream": "stdout",
       "text": [
        "<type 'numpy.bool_'>\n",
        "<type 'numpy.bool_'>\n",
        "<type 'numpy.bool_'>\n"
       ]
      }
     ],
     "prompt_number": 129
    },
    {
     "cell_type": "code",
     "collapsed": false,
     "input": [],
     "language": "python",
     "metadata": {},
     "outputs": []
    }
   ],
   "metadata": {}
  }
 ]
}