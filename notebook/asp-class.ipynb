{
 "metadata": {
  "name": ""
 },
 "nbformat": 3,
 "nbformat_minor": 0,
 "worksheets": [
  {
   "cells": [
    {
     "cell_type": "code",
     "collapsed": false,
     "input": [
      "cd /home/ubuntu/asp-class/workspace/A3\n"
     ],
     "language": "python",
     "metadata": {},
     "outputs": [
      {
       "output_type": "stream",
       "stream": "stdout",
       "text": [
        "/home/ubuntu/asp-class/workspace/A3\n"
       ]
      }
     ],
     "prompt_number": 36
    },
    {
     "cell_type": "code",
     "collapsed": false,
     "input": [
      "def genSine(A, f, phi, fs, t):\n",
      "    \"\"\"\n",
      "    Inputs:\n",
      "        A (float) =  amplitude of the sinusoid\n",
      "        f (float) = frequency of the sinusoid in Hz\n",
      "        phi (float) = initial phase of the sinusoid in radians\n",
      "        fs (float) = sampling frequency of the sinusoid in Hz\n",
      "        t (float) =  duration of the sinusoid (is second)\n",
      "    Output:\n",
      "        The function should return a numpy array\n",
      "        x (numpy array) = The generated sinusoid\n",
      "    \"\"\"\n",
      "    ## Your code here\n",
      "\n",
      "    return A * np.cos(2 * np.pi * f * np.arange(fs * t) / fs + phi)"
     ],
     "language": "python",
     "metadata": {},
     "outputs": [],
     "prompt_number": 4
    },
    {
     "cell_type": "code",
     "collapsed": false,
     "input": [
      "from scipy.fftpack import fft\n",
      "\n",
      "M = 250\n",
      "epsilon = 1e-6\n",
      "\n",
      "x1 = genSine(1, 80, 0, 10000, 1)\n",
      "x2 = genSine(1, 200, 0, 10000, 1)\n",
      "x = x1 + x2\n",
      "X = fft(x[:M])\n",
      "(abs(X) >= epsilon).nonzero()"
     ],
     "language": "python",
     "metadata": {},
     "outputs": [
      {
       "metadata": {},
       "output_type": "pyout",
       "prompt_number": 35,
       "text": [
        "(array([  2,   5, 245, 248]),)"
       ]
      }
     ],
     "prompt_number": 35
    },
    {
     "cell_type": "code",
     "collapsed": false,
     "input": [
      "import A3Part1\n",
      "reload(A3Part1)"
     ],
     "language": "python",
     "metadata": {},
     "outputs": [
      {
       "metadata": {},
       "output_type": "pyout",
       "prompt_number": 87,
       "text": [
        "<module 'A3Part1' from 'A3Part1.py'>"
       ]
      }
     ],
     "prompt_number": 87
    },
    {
     "cell_type": "code",
     "collapsed": false,
     "input": [
      "arr = A3Part1.minimizeEnergySpreadDFT(x, 10000, 80, 200)"
     ],
     "language": "python",
     "metadata": {},
     "outputs": [],
     "prompt_number": 88
    },
    {
     "cell_type": "code",
     "collapsed": false,
     "input": [
      "arr"
     ],
     "language": "python",
     "metadata": {},
     "outputs": [
      {
       "metadata": {},
       "output_type": "pyout",
       "prompt_number": 89,
       "text": [
        "array([-275.20150857, -273.5958343 ,   41.93820026, -274.91167755,\n",
        "       -280.99715892,   41.93820026, -285.39898561, -284.81358692,\n",
        "       -281.69542371, -300.64537985, -281.62346682, -279.16311055,\n",
        "       -273.06860179, -279.81838645, -273.51786685, -277.30761707,\n",
        "       -280.18825196, -283.57518725, -279.57939659, -279.22626454,\n",
        "       -281.34398945, -287.03631211, -273.6137001 , -281.27535746,\n",
        "       -279.54861569, -277.27832154, -279.2796844 , -286.22416534,\n",
        "       -295.02116709, -282.61029704, -283.94734304, -277.36957046,\n",
        "       -284.46972472, -284.52971261, -281.0632533 , -287.48384735,\n",
        "       -283.40618536, -281.87728429, -282.61206178, -283.53865525,\n",
        "       -279.55137571, -278.36629632, -279.09359003, -279.04109661,\n",
        "       -280.30075683, -282.83249885, -279.04571075, -279.16566626,\n",
        "       -280.94635812, -282.70886016, -272.11117213, -271.91863265,\n",
        "       -274.04454952, -275.36281927, -272.71703791, -275.69501935,\n",
        "       -275.13070957, -279.62172857, -278.00633433, -274.72003426,\n",
        "       -278.24856295, -270.86735323, -275.38670027, -275.74601016,\n",
        "       -271.94589328, -274.15263499, -283.72044525, -278.6232874 ,\n",
        "       -282.63281252, -274.32548794, -272.97863634, -272.95593692,\n",
        "       -278.08103646, -287.32135241, -278.77136055, -283.78742035,\n",
        "       -277.51165804, -278.52220433, -277.72662465, -279.91751222,\n",
        "       -283.81876108, -273.63064598, -280.19655006, -277.8524864 ,\n",
        "       -275.98573228, -275.05624455, -278.98539353, -276.52559589,\n",
        "       -286.5457644 , -284.82881151, -280.68255224, -283.02227769,\n",
        "       -282.96121992, -275.95957552, -274.74433451, -296.88201972,\n",
        "       -281.28473591, -276.5293153 , -278.01961991, -282.78638241,\n",
        "       -282.74814025, -278.40723857, -278.05641105, -286.1482966 ,\n",
        "       -273.96825317, -275.83009204, -279.12968116, -278.85912332,\n",
        "       -281.23907117, -271.17552721, -282.53547288, -274.66014953,\n",
        "       -275.54646773, -278.97344132, -277.41735472, -283.51603094,\n",
        "       -278.74411043, -284.86905734, -278.65141553, -270.06914325,\n",
        "       -272.02253384, -273.18217864, -282.23327653, -278.12636705,\n",
        "       -278.79780825, -277.99187817])"
       ]
      }
     ],
     "prompt_number": 89
    },
    {
     "cell_type": "code",
     "collapsed": false,
     "input": [
      "arr.size"
     ],
     "language": "python",
     "metadata": {},
     "outputs": [
      {
       "metadata": {},
       "output_type": "pyout",
       "prompt_number": 90,
       "text": [
        "126"
       ]
      }
     ],
     "prompt_number": 90
    },
    {
     "cell_type": "code",
     "collapsed": false,
     "input": [
      "import A3Part2\n",
      "reload(A3Part2)"
     ],
     "language": "python",
     "metadata": {},
     "outputs": [
      {
       "metadata": {},
       "output_type": "pyout",
       "prompt_number": 140,
       "text": [
        "<module 'A3Part2' from 'A3Part2.py'>"
       ]
      }
     ],
     "prompt_number": 140
    },
    {
     "cell_type": "code",
     "collapsed": false,
     "input": [
      "x = genSine(1, 100, 0, 1000, 1)\n"
     ],
     "language": "python",
     "metadata": {},
     "outputs": [],
     "prompt_number": 141
    },
    {
     "cell_type": "code",
     "collapsed": false,
     "input": [
      "A3Part2.optimalZeropad(x[:15], 1000, 100)"
     ],
     "language": "python",
     "metadata": {},
     "outputs": [
      {
       "output_type": "stream",
       "stream": "stdout",
       "text": [
        "20\n",
        "7.0\n",
        "8.0\n",
        "[ 1.          0.80901699  0.30901699 -0.30901699 -0.80901699 -1.\n",
        " -0.80901699 -0.30901699  0.30901699  0.80901699  1.          0.80901699\n",
        "  0.30901699 -0.30901699 -0.80901699]\n",
        "[ 0.30901699  0.80901699  1.          0.80901699  0.30901699 -0.30901699\n",
        " -0.80901699  0.          0.          0.          0.          0.          1.\n",
        "  0.80901699  0.30901699 -0.30901699 -0.80901699 -1.         -0.80901699\n",
        " -0.30901699]\n",
        "[  1.00000000e+00   1.69308993e+00   7.50000000e+00   2.68074060e+00\n",
        "   2.14896114e+00   1.12424731e+00   6.35022216e-16   8.17148587e-01\n",
        "   1.06393891e+00   7.17922350e-01   1.83186799e-15]\n"
       ]
      },
      {
       "metadata": {},
       "output_type": "pyout",
       "prompt_number": 142,
       "text": [
        "array([  3.85730987e-15,   4.57360053e+00,   1.75012253e+01,\n",
        "         8.56509583e+00,   6.64457125e+00,   1.01723717e+00,\n",
        "        -3.03944222e+02,  -1.75397931e+00,   5.38333868e-01,\n",
        "        -2.87845052e+00,  -2.94742117e+02])"
       ]
      }
     ],
     "prompt_number": 142
    },
    {
     "cell_type": "code",
     "collapsed": false,
     "input": [
      "import A3Part3\n",
      "reload(A3Part3)"
     ],
     "language": "python",
     "metadata": {},
     "outputs": [
      {
       "metadata": {},
       "output_type": "pyout",
       "prompt_number": 186,
       "text": [
        "<module 'A3Part3' from 'A3Part3.py'>"
       ]
      }
     ],
     "prompt_number": 186
    },
    {
     "cell_type": "code",
     "collapsed": false,
     "input": [
      "A3Part3.testRealEven(np.array([2, 3, 4, 3, 2]))"
     ],
     "language": "python",
     "metadata": {},
     "outputs": [
      {
       "output_type": "stream",
       "stream": "stdout",
       "text": [
        "[ 0.  0.  0. -0. -0.]\n",
        "[ 14.           2.61803399   0.38196601   0.38196601   2.61803399]\n",
        "True\n",
        "[ 2.61803399  0.38196601]\n",
        "[ 2.61803399  0.38196601]\n",
        "True\n"
       ]
      },
      {
       "metadata": {},
       "output_type": "pyout",
       "prompt_number": 187,
       "text": [
        "(True,\n",
        " array([ 4.,  3.,  2.,  2.,  3.]),\n",
        " array([ 14.00000000+0.j,   2.61803399+0.j,   0.38196601+0.j,\n",
        "         0.38196601-0.j,   2.61803399-0.j]))"
       ]
      }
     ],
     "prompt_number": 187
    },
    {
     "cell_type": "code",
     "collapsed": false,
     "input": [
      "arr = np.arange(5)"
     ],
     "language": "python",
     "metadata": {},
     "outputs": [],
     "prompt_number": 181
    },
    {
     "cell_type": "code",
     "collapsed": false,
     "input": [
      "arr[:3][::-1]"
     ],
     "language": "python",
     "metadata": {},
     "outputs": [
      {
       "metadata": {},
       "output_type": "pyout",
       "prompt_number": 183,
       "text": [
        "array([2, 1, 0])"
       ]
      }
     ],
     "prompt_number": 183
    },
    {
     "cell_type": "code",
     "collapsed": false,
     "input": [],
     "language": "python",
     "metadata": {},
     "outputs": []
    }
   ],
   "metadata": {}
  }
 ]
}