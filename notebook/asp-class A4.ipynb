{
 "metadata": {
  "name": ""
 },
 "nbformat": 3,
 "nbformat_minor": 0,
 "worksheets": [
  {
   "cells": [
    {
     "cell_type": "code",
     "collapsed": false,
     "input": [
      "cd /home/ubuntu/asp-class/workspace/A4"
     ],
     "language": "python",
     "metadata": {},
     "outputs": [
      {
       "output_type": "stream",
       "stream": "stdout",
       "text": [
        "/home/ubuntu/asp-class/workspace/A4\n"
       ]
      }
     ],
     "prompt_number": 33
    },
    {
     "cell_type": "code",
     "collapsed": false,
     "input": [
      "from scipy.signal import get_window\n",
      "from scipy.fftpack import fft"
     ],
     "language": "python",
     "metadata": {},
     "outputs": [],
     "prompt_number": 7
    },
    {
     "cell_type": "code",
     "collapsed": false,
     "input": [
      "w = get_window('blackmanharris', 100)"
     ],
     "language": "python",
     "metadata": {},
     "outputs": [],
     "prompt_number": 4
    },
    {
     "cell_type": "code",
     "collapsed": false,
     "input": [
      "W = fft(w, 800)"
     ],
     "language": "python",
     "metadata": {},
     "outputs": [],
     "prompt_number": 9
    },
    {
     "cell_type": "code",
     "collapsed": false,
     "input": [
      "mX = 20*np.log10(abs(W[:401]+1e-10))"
     ],
     "language": "python",
     "metadata": {},
     "outputs": [],
     "prompt_number": 31
    },
    {
     "cell_type": "code",
     "collapsed": false,
     "input": [
      "plot(mX)"
     ],
     "language": "python",
     "metadata": {},
     "outputs": [
      {
       "metadata": {},
       "output_type": "pyout",
       "prompt_number": 32,
       "text": [
        "[<matplotlib.lines.Line2D at 0xb004c16c>]"
       ]
      },
      {
       "metadata": {},
       "output_type": "display_data",
       "png": "[encoded data removed]",
       "text": [
        "<matplotlib.figure.Figure at 0xb007e20c>"
       ]
      }
     ],
     "prompt_number": 32
    },
    {
     "cell_type": "code",
     "collapsed": false,
     "input": [
      "(mX[1:] - mX[:-1] > 0).nonzero()"
     ],
     "language": "python",
     "metadata": {},
     "outputs": [
      {
       "metadata": {},
       "output_type": "pyout",
       "prompt_number": 29,
       "text": [
        "(array([ 32,  34,  35,  40,  42,  43,  44,  48,  49,  50,  51,  56,  57,\n",
        "        58,  59,  64,  65,  66,  67,  72,  73,  74,  75,  80,  81,  82,\n",
        "        83,  88,  89,  90,  91,  96,  97,  98,  99, 104, 105, 106, 107,\n",
        "       112, 113, 114, 115, 120, 121, 122, 123, 128, 129, 130, 131, 136,\n",
        "       137, 138, 139, 144, 145, 146, 147, 152, 153, 154, 155, 160, 161,\n",
        "       162, 163, 168, 169, 170, 171, 176, 177, 178, 179, 184, 185, 186,\n",
        "       187, 192, 193, 194, 195, 200, 201, 202, 203, 208, 209, 210, 211,\n",
        "       216, 217, 218, 219, 224, 225, 226, 227, 232, 233, 234, 235, 240,\n",
        "       241, 242, 243, 248, 249, 250, 251, 256, 257, 258, 259, 264, 265,\n",
        "       266, 267, 272, 273, 274, 275, 280, 281, 282, 283, 288, 289, 290,\n",
        "       291, 296, 297, 298, 299, 304, 305, 306, 307, 312, 313, 314, 315,\n",
        "       320, 321, 322, 323, 328, 329, 330, 331, 336, 337, 338, 339, 344,\n",
        "       345, 346, 347, 352, 353, 354, 355, 360, 361, 362, 363, 368, 369,\n",
        "       370, 371, 376, 377, 378, 379, 384, 385, 386, 387, 392, 393, 394,\n",
        "       395, 400, 401, 402, 403, 408, 409, 410, 411, 416, 417, 418, 419,\n",
        "       424, 425, 426, 427, 432, 433, 434, 435, 440, 441, 442, 443, 448,\n",
        "       449, 450, 451, 456, 457, 458, 459, 464, 465, 466, 467, 472, 473,\n",
        "       474, 475, 480, 481, 482, 483, 488, 489, 490, 491, 496, 497, 498,\n",
        "       499, 504, 505, 506, 507, 512, 513, 514, 515, 520, 521, 522, 523,\n",
        "       528, 529, 530, 531, 536, 537, 538, 539, 544, 545, 546, 547, 552,\n",
        "       553, 554, 555, 560, 561, 562, 563, 568, 569, 570, 571, 576, 577,\n",
        "       578, 579, 584, 585, 586, 587, 592, 593, 594, 595, 600, 601, 602,\n",
        "       603, 608, 609, 610, 611, 616, 617, 618, 619, 624, 625, 626, 627,\n",
        "       632, 633, 634, 635, 640, 641, 642, 643, 648, 649, 650, 651, 656,\n",
        "       657, 658, 659, 664, 665, 666, 667, 672, 673, 674, 675, 680, 681,\n",
        "       682, 683, 688, 689, 690, 691, 696, 697, 698, 699, 704, 705, 706,\n",
        "       707, 712, 713, 714, 715, 720, 721, 722, 723, 728, 729, 730, 731,\n",
        "       736, 737, 738, 739, 744, 745, 746, 747, 752, 753, 754, 758, 760,\n",
        "       761, 762, 763, 766, 768, 769, 770, 771, 772, 773, 774, 775, 776,\n",
        "       777, 778, 779, 780, 781, 782, 783, 784, 785, 786, 787, 788, 789,\n",
        "       790, 791, 792, 793, 794, 795, 796, 797, 798]),)"
       ]
      }
     ],
     "prompt_number": 29
    },
    {
     "cell_type": "code",
     "collapsed": false,
     "input": [
      "W[:32]"
     ],
     "language": "python",
     "metadata": {},
     "outputs": [
      {
       "metadata": {},
       "output_type": "pyout",
       "prompt_number": 27,
       "text": [
        "array([  3.58750000e+01 +0.00000000e+00j,\n",
        "         3.29486067e+01 -1.36477349e+01j,\n",
        "         2.47735667e+01 -2.47735067e+01j,\n",
        "         1.30153102e+01 -3.14215935e+01j,\n",
        "         6.00000000e-05 -3.26222036e+01j,\n",
        "        -1.18300387e+01 -2.85603846e+01j,\n",
        "        -2.04611744e+01 -2.04612344e+01j,\n",
        "        -2.47133340e+01 -1.02366230e+01j,\n",
        "        -2.44145000e+01 -5.02283761e-16j,\n",
        "        -2.03200249e+01 +8.41685474e+00j,\n",
        "        -1.38238050e+01 +1.38238650e+01j,\n",
        "        -6.55849209e+00 +1.58337454e+01j,\n",
        "         6.00000000e-05 +1.48104162e+01j,\n",
        "         4.82543475e+00 +1.16494852e+01j,\n",
        "         7.47373665e+00 +7.47367665e+00j,\n",
        "         8.05228844e+00 +3.33534223e+00j,\n",
        "         7.06400000e+00 -2.07814451e-16j,\n",
        "         5.19324640e+00 -2.15108824e+00j,\n",
        "         3.10136027e+00 -3.10130027e+00j,\n",
        "         1.28221911e+00 -3.09540591e+00j,\n",
        "         6.00000000e-05 -2.50117937e+00j,\n",
        "        -6.96634063e-01 -1.68196826e+00j,\n",
        "        -9.10978110e-01 -9.11038110e-01j,\n",
        "        -8.16064613e-01 -3.38049883e-01j,\n",
        "        -5.84000000e-01 +8.95479844e-16j,\n",
        "        -3.41857423e-01 +1.41626834e-01j,\n",
        "        -1.57491631e-01 +1.57551631e-01j,\n",
        "        -4.81018794e-02 +1.16273063e-01j,\n",
        "         6.00000000e-05 +6.53808189e-02j,\n",
        "         1.16066927e-02 +2.78761822e-02j,\n",
        "         8.19891520e-03 +8.13891520e-03j,   2.77381273e-03 +1.12409804e-03j])"
       ]
      }
     ],
     "prompt_number": 27
    },
    {
     "cell_type": "code",
     "collapsed": false,
     "input": [
      "import A4Part1\n",
      "reload(A4Part1)"
     ],
     "language": "python",
     "metadata": {},
     "outputs": [
      {
       "metadata": {},
       "output_type": "pyout",
       "prompt_number": 34,
       "text": [
        "<module 'A4Part1' from 'A4Part1.pyc'>"
       ]
      }
     ],
     "prompt_number": 34
    },
    {
     "cell_type": "code",
     "collapsed": false,
     "input": [
      "A4Part1('"
     ],
     "language": "python",
     "metadata": {},
     "outputs": []
    }
   ],
   "metadata": {}
  }
 ]
}