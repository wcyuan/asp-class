{
 "metadata": {
  "name": ""
 },
 "nbformat": 3,
 "nbformat_minor": 0,
 "worksheets": [
  {
   "cells": [
    {
     "cell_type": "markdown",
     "metadata": {},
     "source": [
      "In the board game, you spin a wheel or roll a die to decide how many spaces to\n",
      "move, then you move that many spaces.  Some board games go on and on (once you\n",
      "reach the end, you start over from the beginning) and some just end.  This\n",
      "code is to calculate the changes of landing on a given space.  \n"
     ]
    },
    {
     "cell_type": "code",
     "collapsed": false,
     "input": [
      "import numpy as np"
     ],
     "language": "python",
     "metadata": {},
     "outputs": [],
     "prompt_number": 2
    },
    {
     "cell_type": "code",
     "collapsed": false,
     "input": [
      "# For games where each step is equal chance of N numbers\n",
      "def equal_prob(n):\n",
      "    return np.ones(n) / n\n",
      "prob_to_three = equal_prob(3)\n",
      "prob_to_ten = equal_prob(10)\n"
     ],
     "language": "python",
     "metadata": {},
     "outputs": [],
     "prompt_number": 3
    },
    {
     "cell_type": "code",
     "collapsed": false,
     "input": [
      "# For games where each step is roll of N dice\n",
      "def dice_prob(n):\n",
      "    import itertools\n",
      "    # Not the most efficient way to compute this, especially\n",
      "    # for 2 dice, but hopefully pretty easy to understand\n",
      "    die = np.arange(1, 7)\n",
      "    poss = sorted(sum(x) for x in (itertools.product(die, repeat=n)))\n",
      "    probs = dict((k, len(tuple(g)))\n",
      "        for (k, g) in itertools.groupby(poss))\n",
      "    tots = sum(probs.values())\n",
      "    mval = max(probs.keys())\n",
      "    out = np.zeros(mval)\n",
      "    for k in probs:\n",
      "        out[k-1] = probs[k]\n",
      "    return out / tots\n",
      "prob_two_dice = dice_prob(2)\n"
     ],
     "language": "python",
     "metadata": {},
     "outputs": [],
     "prompt_number": 4
    },
    {
     "cell_type": "code",
     "collapsed": false,
     "input": [
      "def prob_space(n, step_prob):\n",
      "    \"\"\"\n",
      "    Probability of landing on any of the first n squares.\n",
      "    The output is a numpy array where arr[k] is the probability\n",
      "    of landing on square k.  arr[0] is 1 -- conceptually, it\n",
      "    represents the probability of being in the square before\n",
      "    the first one.\n",
      "    \"\"\"\n",
      "    out = np.zeros(n+1)\n",
      "    out[0] = 1\n",
      "    for ii in xrange(1, n+1):\n",
      "        steps = min(ii, len(step_prob))\n",
      "        #print \"ii: \", ii\n",
      "        #print \"steps: \", steps\n",
      "        rev = out[::-1]\n",
      "        #print \"reversed: \", rev\n",
      "        start = n-ii+1\n",
      "        #print \"past probs: \", rev[start:start+steps]\n",
      "        #print \"step probs: \", step_prob[:steps]\n",
      "        w_probs = rev[start:start+steps] * step_prob[:steps]\n",
      "        #print w_probs\n",
      "        out[ii] = w_probs.sum()\n",
      "    return out\n",
      "print prob_space(11, prob_to_ten)\n",
      "life1 = prob_space(100, prob_to_ten)\n",
      "print life1"
     ],
     "language": "python",
     "metadata": {},
     "outputs": [
      {
       "output_type": "stream",
       "stream": "stdout",
       "text": [
        "[ 1.          0.1         0.11        0.121       0.1331      0.14641\n",
        "  0.161051    0.1771561   0.19487171  0.21435888  0.23579477  0.15937425]\n",
        "[ 1.          0.1         0.11        0.121       0.1331      0.14641\n",
        "  0.161051    0.1771561   0.19487171  0.21435888  0.23579477  0.15937425\n",
        "  0.16531167  0.17084284  0.17582712  0.18009983  0.18346882  0.1857106\n",
        "  0.18656605  0.18573548  0.18287314  0.17758098  0.17940165  0.18081065\n",
        "  0.18180743  0.18240546  0.18263603  0.18255275  0.18223696  0.18180405\n",
        "  0.18141091  0.18126469  0.18163306  0.1818562   0.18196075  0.18197609\n",
        "  0.18193315  0.18186286  0.18179387  0.18174956  0.18174411  0.18177744\n",
        "  0.18182871  0.18184828  0.18184748  0.18183616  0.18182216  0.18181106\n",
        "  0.18180588  0.18180708  0.18181284  0.18181971  0.18182394  0.18182346\n",
        "  0.18182098  0.18181833  0.18181654  0.18181598  0.18181647  0.18181753\n",
        "  0.18181858  0.18181915  0.1818191   0.18181861  0.18181813  0.18181784\n",
        "  0.18181779  0.18181792  0.18181811  0.18181828  0.18181835  0.18181833\n",
        "  0.18181825  0.18181816  0.18181812  0.18181811  0.18181814  0.18181818\n",
        "  0.1818182   0.18181821  0.1818182   0.18181819  0.18181818  0.18181817\n",
        "  0.18181817  0.18181818  0.18181818  0.18181819  0.18181819  0.18181819\n",
        "  0.18181818  0.18181818  0.18181818  0.18181818  0.18181818  0.18181818\n",
        "  0.18181818  0.18181818  0.18181818  0.18181818  0.18181818]\n"
       ]
      }
     ],
     "prompt_number": 143
    },
    {
     "cell_type": "code",
     "collapsed": false,
     "input": [
      "def prob_nturns(nturns, step_prob, nspaces):\n",
      "    \"\"\"\n",
      "    probability of being on each square after n turns\n",
      "    \n",
      "    step_prob is the probability of how many steps to move in one turn\n",
      "    nspaces is the size of the board (after that many spaces, the board wraps)\n",
      "    \"\"\"\n",
      "    transitions = make_transitions(step_prob, nspaces)\n",
      "    prob = transitions[:,-1]\n",
      "    for _ in xrange(1, nturns):\n",
      "        prob = np.dot(transitions, prob)\n",
      "    return prob\n",
      "\n",
      "def start_state(step_prob, nspaces):\n",
      "    probs = step_prob.copy()\n",
      "    probs.resize(nspaces)\n",
      "    return probs\n",
      "\n",
      "def make_transitions(step_prob, nspaces):\n",
      "    probs = start_state(step_prob, nspaces)\n",
      "    transitions = np.array([np.roll(probs, i+1) for i in xrange(len(probs))])\n",
      "    transitions = transitions.transpose()\n",
      "    return transitions\n",
      "\n",
      "def prob_landed(nturns, step_prob, nspaces):\n",
      "    \"\"\"\n",
      "    This is the probability that you landed on each square\n",
      "    \"\"\"\n",
      "    transitions = make_transitions(step_prob, nspaces)\n",
      "    prob = transitions[:,-1].copy()\n",
      "    tots = prob.copy()\n",
      "    for _ in xrange(1, nturns):\n",
      "        prob = np.dot(transitions, prob)\n",
      "        tots += prob\n",
      "    return tots\n",
      "#transitions = make_transitions(prob_to_three, 6)\n",
      "#start = transitions[:,-1]\n",
      "#start = np.zeros(6)\n",
      "#start[0] = 1\n",
      "#print start\n",
      "#print transitions\n",
      "#print np.dot(transitions, start)\n",
      "#print np.dot(transitions, np.dot(transitions, start))\n",
      "print prob_nturns(1, prob_to_three, 6)\n",
      "print prob_nturns(2, prob_to_three, 6)\n",
      "print prob_nturns(100, prob_two_dice, 45)\n",
      "life2 = prob_landed(50, prob_to_ten, 50*10+1)\n",
      "#print life2\n",
      "life1[1:21] - life2[:20]"
     ],
     "language": "python",
     "metadata": {},
     "outputs": [
      {
       "output_type": "stream",
       "stream": "stdout",
       "text": [
        "[ 0.33333333  0.33333333  0.33333333  0.          0.          0.        ]\n",
        "[ 0.          0.11111111  0.22222222  0.33333333  0.22222222  0.11111111]\n",
        "[ 0.02207975  0.02207692  0.02207692  0.02207975  0.02208535  0.02209362\n",
        "  0.02210439  0.02211745  0.02213255  0.0221494   0.02216766  0.02218699\n",
        "  0.022207    0.02222731  0.02224751  0.02226723  0.02228607  0.02230367\n",
        "  0.02231968  0.0223338   0.02234574  0.02235528  0.02236223  0.02236646\n",
        "  0.02236788  0.02236646  0.02236223  0.02235528  0.02234574  0.0223338\n",
        "  0.02231968  0.02230367  0.02228607  0.02226723  0.02224751  0.02222731\n",
        "  0.022207    0.02218699  0.02216766  0.0221494   0.02213255  0.02211745\n",
        "  0.02210439  0.02209362  0.02208535]\n"
       ]
      },
      {
       "metadata": {},
       "output_type": "pyout",
       "prompt_number": 146,
       "text": [
        "array([  0.00000000e+00,   0.00000000e+00,   0.00000000e+00,\n",
        "         2.77555756e-17,  -2.77555756e-17,   0.00000000e+00,\n",
        "        -5.55111512e-17,   5.55111512e-17,   2.77555756e-17,\n",
        "         2.77555756e-17,   0.00000000e+00,  -2.77555756e-17,\n",
        "         2.77555756e-17,   8.32667268e-17,  -2.77555756e-17,\n",
        "         5.55111512e-17,   2.77555756e-17,  -2.77555756e-17,\n",
        "         0.00000000e+00,   0.00000000e+00])"
       ]
      }
     ],
     "prompt_number": 146
    },
    {
     "cell_type": "code",
     "collapsed": false,
     "input": [
      "def make_transition_matrix(step_prob):\n",
      "    sz = len(step_prob)\n",
      "    trans = np.array([[1 if row+1 == col else 0 for col in xrange(sz)]\n",
      "                      for row in xrange(sz)],\n",
      "                     dtype=np.float64)\n",
      "    trans[-1] = step_prob\n",
      "    return trans\n",
      "\n",
      "def prob_space_mat(n, step_prob):\n",
      "    \"\"\"\n",
      "    Probability of landing on any of the first n squares.\n",
      "    \n",
      "    @param n: the square whose probability you want.  \n",
      "    should be a positive integer.\n",
      "    \n",
      "    @param step_prob: a numpy array where arr[k] is the\n",
      "    probability that each step will be of size k.\n",
      "    \n",
      "    @return: a numpy array the same size as step_prob where the\n",
      "    last element is the probability of landing in square n, the \n",
      "    second to last element is the probability of landing in square\n",
      "    n-1, etc.\n",
      "    \"\"\"\n",
      "    out = np.zeros(len(step_prob))\n",
      "    out[-1] = 1\n",
      "    transitions = make_transition_matrix(step_prob)\n",
      "    for _ in xrange(n):\n",
      "        out = np.dot(transitions, out)\n",
      "    return out\n",
      "print prob_space_mat(11, prob_to_ten)\n",
      "life1 = prob_space_mat(100, prob_to_ten)\n",
      "print life1"
     ],
     "language": "python",
     "metadata": {},
     "outputs": [
      {
       "output_type": "stream",
       "stream": "stdout",
       "text": [
        "[ 0.11        0.121       0.1331      0.14641     0.161051    0.1771561\n",
        "  0.19487171  0.21435888  0.23579477  0.15937425]\n",
        "[ 0.18181818  0.18181818  0.18181818  0.18181818  0.18181818  0.18181818\n",
        "  0.18181818  0.18181818  0.18181818  0.18181818]\n"
       ]
      }
     ],
     "prompt_number": 19
    },
    {
     "cell_type": "code",
     "collapsed": false,
     "input": [
      "trans = make_transition_matrix(prob_to_ten)\n",
      "trans[:,-1] = prob_to_ten\n",
      "trans.dtype"
     ],
     "language": "python",
     "metadata": {},
     "outputs": [
      {
       "metadata": {},
       "output_type": "pyout",
       "prompt_number": 16,
       "text": [
        "dtype('int32')"
       ]
      }
     ],
     "prompt_number": 16
    },
    {
     "cell_type": "code",
     "collapsed": false,
     "input": [
      "prob_to_ten"
     ],
     "language": "python",
     "metadata": {},
     "outputs": [
      {
       "metadata": {},
       "output_type": "pyout",
       "prompt_number": 13,
       "text": [
        "array([ 0.1,  0.1,  0.1,  0.1,  0.1,  0.1,  0.1,  0.1,  0.1,  0.1])"
       ]
      }
     ],
     "prompt_number": 13
    },
    {
     "cell_type": "code",
     "collapsed": false,
     "input": [
      "np.array([0], dtype=np.float64)"
     ],
     "language": "python",
     "metadata": {},
     "outputs": [
      {
       "metadata": {},
       "output_type": "pyout",
       "prompt_number": 18,
       "text": [
        "array([ 0.])"
       ]
      }
     ],
     "prompt_number": 18
    },
    {
     "cell_type": "code",
     "collapsed": false,
     "input": [],
     "language": "python",
     "metadata": {},
     "outputs": []
    }
   ],
   "metadata": {}
  }
 ]
}